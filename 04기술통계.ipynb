{
 "cells": [
  {
   "cell_type": "markdown",
   "id": "003ff952-88ab-4ed5-b292-17da8f9d19df",
   "metadata": {},
   "source": [
    "### 변동성 이해하기\n",
    "* 값들이 서로 얼마나 다른지 여부 파악"
   ]
  },
  {
   "cell_type": "code",
   "execution_count": 1,
   "id": "0aff4e80-6be4-443c-8650-cf9fb909c889",
   "metadata": {},
   "outputs": [],
   "source": [
    "num1 <- c(7,6,3,3,1)\n",
    "num2 <- c(3,4,4,5,4)\n",
    "num3 <- c(4,4,4,4,4)"
   ]
  },
  {
   "cell_type": "code",
   "execution_count": 5,
   "id": "d08fc1ee-bb34-46f1-ae30-5588303ed752",
   "metadata": {},
   "outputs": [
    {
     "data": {
      "text/html": [
       "'4 4 4'"
      ],
      "text/latex": [
       "'4 4 4'"
      ],
      "text/markdown": [
       "'4 4 4'"
      ],
      "text/plain": [
       "[1] \"4 4 4\""
      ]
     },
     "metadata": {},
     "output_type": "display_data"
    }
   ],
   "source": [
    "paste(mean(num1), mean(num1), mean(num1))"
   ]
  },
  {
   "cell_type": "markdown",
   "id": "1b489e2a-49b6-4d23-8ba6-d0505fa68899",
   "metadata": {},
   "source": [
    "# 분산경향 \n",
    "* 기술통계의 또 다른 관점 - 분산, 산포\n",
    "* 데이터가 어떻게 분포되어 있는지 설명하는 통계치\n",
    "* 자료의 흩어지거나 밀집되는 정도를 나타내는 척도\n",
    "  * 범위\n",
    "  * 사분위수\n",
    "  * 분산\n",
    "  * 표준편차\n",
    "  * 분산, 표준편차를 많이 사용 > 사분위수 > 범위"
   ]
  },
  {
   "cell_type": "markdown",
   "id": "7efd266c-1eab-4536-be45-737166cff7e6",
   "metadata": {},
   "source": [
    "# 범위\n",
    "* 수집한 자료의 가장 큰 값과 작은 값의 차이\n",
    "* 수집한 자료가 어느정도 흩어져 있는지 살펴볼 수 있는 통계치\n",
    "* 계산하기 쉽다\n",
    "* 특이값에 영향을 많이 받는다\n",
    "* 범위가 동일해도 분산정도는 크게 다를 수 있다\n",
    "> $r = h - l$ <br>\n",
    "> $R = x_{(n)} - x_{(1)}$"
   ]
  },
  {
   "cell_type": "markdown",
   "id": "a9f41aa8-5931-4281-a59a-8bc1c98663ff",
   "metadata": {},
   "source": [
    "#### 조선조 왕들 수명의 범위 조사"
   ]
  },
  {
   "cell_type": "code",
   "execution_count": 7,
   "id": "81ccd4ab-edcb-43fc-8321-fdd98d9e877d",
   "metadata": {},
   "outputs": [
    {
     "data": {
      "text/html": [
       "'82 16 66'"
      ],
      "text/latex": [
       "'82 16 66'"
      ],
      "text/markdown": [
       "'82 16 66'"
      ],
      "text/plain": [
       "[1] \"82 16 66\""
      ]
     },
     "metadata": {},
     "output_type": "display_data"
    }
   ],
   "source": [
    "kings <- c(73,62,45,53,38,16,51,28,37,30,56,30,33,56,66,54,40,33,59,36,82,48,44,22,32,67,52)\n",
    "\n",
    "max <- max(kings)\n",
    "min <- min(kings)\n",
    "\n",
    "range <- max - min\n",
    "paste(max, min, range)"
   ]
  },
  {
   "cell_type": "code",
   "execution_count": 8,
   "id": "90ad81b5-7501-4210-b6e0-82a18bb41757",
   "metadata": {},
   "outputs": [
    {
     "data": {
      "text/html": [
       "<style>\n",
       ".list-inline {list-style: none; margin:0; padding: 0}\n",
       ".list-inline>li {display: inline-block}\n",
       ".list-inline>li:not(:last-child)::after {content: \"\\00b7\"; padding: 0 .5ex}\n",
       "</style>\n",
       "<ol class=list-inline><li>16</li><li>82</li></ol>\n"
      ],
      "text/latex": [
       "\\begin{enumerate*}\n",
       "\\item 16\n",
       "\\item 82\n",
       "\\end{enumerate*}\n"
      ],
      "text/markdown": [
       "1. 16\n",
       "2. 82\n",
       "\n",
       "\n"
      ],
      "text/plain": [
       "[1] 16 82"
      ]
     },
     "metadata": {},
     "output_type": "display_data"
    }
   ],
   "source": [
    "# range : 최소값과 최대값 표시\n",
    "range(kings)"
   ]
  },
  {
   "cell_type": "markdown",
   "id": "f8853019-c5c4-4c72-8be7-aebec1a61aa3",
   "metadata": {},
   "source": [
    "#### 대학원생들 나이 범위 조사"
   ]
  },
  {
   "cell_type": "code",
   "execution_count": 9,
   "id": "6230b325-ead9-4a60-ba81-6265d0bde032",
   "metadata": {},
   "outputs": [
    {
     "data": {
      "text/html": [
       "'24 18 6'"
      ],
      "text/latex": [
       "'24 18 6'"
      ],
      "text/markdown": [
       "'24 18 6'"
      ],
      "text/plain": [
       "[1] \"24 18 6\""
      ]
     },
     "metadata": {},
     "output_type": "display_data"
    }
   ],
   "source": [
    "stus <- c(19,18,19,21,20,24,19,19,20,18,21,22,23,21,19,18,22,24,21,18,19)\n",
    "\n",
    "max <- max(stus)\n",
    "min <- min(stus)\n",
    "\n",
    "range <- max - min\n",
    "paste(max, min, range)"
   ]
  },
  {
   "cell_type": "code",
   "execution_count": 10,
   "id": "b93881b8-a07f-45b6-b2ad-bbac44053bc1",
   "metadata": {},
   "outputs": [
    {
     "data": {
      "text/html": [
       "<style>\n",
       ".list-inline {list-style: none; margin:0; padding: 0}\n",
       ".list-inline>li {display: inline-block}\n",
       ".list-inline>li:not(:last-child)::after {content: \"\\00b7\"; padding: 0 .5ex}\n",
       "</style>\n",
       "<ol class=list-inline><li>18</li><li>24</li></ol>\n"
      ],
      "text/latex": [
       "\\begin{enumerate*}\n",
       "\\item 18\n",
       "\\item 24\n",
       "\\end{enumerate*}\n"
      ],
      "text/markdown": [
       "1. 18\n",
       "2. 24\n",
       "\n",
       "\n"
      ],
      "text/plain": [
       "[1] 18 24"
      ]
     },
     "metadata": {},
     "output_type": "display_data"
    }
   ],
   "source": [
    "range(stus)"
   ]
  },
  {
   "cell_type": "markdown",
   "id": "8c60ffae-c4c1-4711-bc43-5c1d482dedd6",
   "metadata": {},
   "source": [
    "# 분산\n",
    "\n",
    "* 평균을 중심으로 밀집되거나 퍼짐 정도를 나타내는 척도\n",
    "* 모분산 $ \\sigma^2 $ : 모집단을 구성하는 모든 자료값과 모평균의 편차제곱에 대한 평균\n",
    "* 표본분산 $ s^2 $: 표본을 구성하는 모든 자료값과 표본평균의 편차의 제곱합을 n-1로 나눈 수치\n",
    "\n",
    "* 편차    \n",
    "> $(x_{i} - \\bar{x})$\n",
    "\n",
    "* 편차제곱\n",
    "> $(x_{i} - \\bar{x})^2$\n",
    "\n",
    "* 모분산\n",
    "> ## $ \\frac {\\sum(x_{i} - \\bar{x})^2}{N} $\n",
    "\n",
    "* 표본분산\n",
    "> ## $ \\frac {\\sum(x_{i} - \\bar{x})^2}{n-1} $"
   ]
  },
  {
   "cell_type": "code",
   "execution_count": 15,
   "id": "99ba640a-02f7-4e70-b36e-903ed64ca5a3",
   "metadata": {},
   "outputs": [
    {
     "data": {
      "text/html": [
       "6"
      ],
      "text/latex": [
       "6"
      ],
      "text/markdown": [
       "6"
      ],
      "text/plain": [
       "[1] 6"
      ]
     },
     "metadata": {},
     "output_type": "display_data"
    }
   ],
   "source": [
    "nums <- c(5,8,5,4,6,7,8,8,3,6)\n",
    "\n",
    "means <- mean(nums)  # 평균\n",
    "means"
   ]
  },
  {
   "cell_type": "code",
   "execution_count": 18,
   "id": "72bbe352-a14b-44e9-8ac4-1e913a288dec",
   "metadata": {},
   "outputs": [
    {
     "name": "stdout",
     "output_type": "stream",
     "text": [
      " [1] -1  2 -1 -2  0  1  2  2 -3  0\n",
      "[1] 0\n"
     ]
    }
   ],
   "source": [
    "devi <- nums - means  # 편차\n",
    "\n",
    "print(devi)\n",
    "print(sum(devi))      # 편차의 합은 0"
   ]
  },
  {
   "cell_type": "code",
   "execution_count": 19,
   "id": "7b8c5f2c-842f-481f-b234-597f644edb7a",
   "metadata": {},
   "outputs": [
    {
     "name": "stdout",
     "output_type": "stream",
     "text": [
      " [1] 1 4 1 4 0 1 4 4 9 0\n",
      "[1] 28\n"
     ]
    }
   ],
   "source": [
    "devi <- (nums - means) ** 2  # 편차제곱\n",
    "\n",
    "print(devi)\n",
    "print(sum(devi))             # 편차제곱의 합은 양수"
   ]
  },
  {
   "cell_type": "code",
   "execution_count": 20,
   "id": "baca7880-5645-493d-8381-5097e2ce0563",
   "metadata": {},
   "outputs": [
    {
     "data": {
      "text/html": [
       "2.8"
      ],
      "text/latex": [
       "2.8"
      ],
      "text/markdown": [
       "2.8"
      ],
      "text/plain": [
       "[1] 2.8"
      ]
     },
     "metadata": {},
     "output_type": "display_data"
    }
   ],
   "source": [
    "sum(devi) / length(nums)"
   ]
  },
  {
   "cell_type": "code",
   "execution_count": 22,
   "id": "61313827-160c-497f-84ed-bc48bddfbf28",
   "metadata": {},
   "outputs": [
    {
     "name": "stdout",
     "output_type": "stream",
     "text": [
      "[1] 2.8\n",
      "[1] 3.111111\n"
     ]
    }
   ],
   "source": [
    "# 편차제곱 합을 데이터 개수로 나눔 : 편차제곱의 평균 - 분산\n",
    "\n",
    "print(sum(devi) / length(nums))      # 모분산\n",
    "print(sum(devi) / (length(nums)-1))  # 표본분산"
   ]
  },
  {
   "cell_type": "code",
   "execution_count": 42,
   "id": "0a6b397e-3ebd-483c-8e60-7c574c24caa9",
   "metadata": {},
   "outputs": [
    {
     "name": "stdout",
     "output_type": "stream",
     "text": [
      "[1] 3.111111\n",
      "[1] 3.111111\n"
     ]
    }
   ],
   "source": [
    "# var : 분산\n",
    "print(var(nums))\n",
    "print(var(nums, use='everything'))"
   ]
  },
  {
   "cell_type": "code",
   "execution_count": 25,
   "id": "fe56cae9-cb6e-441c-a7b1-0f880008236a",
   "metadata": {},
   "outputs": [],
   "source": [
    "# A부서와 B부서 사원의 비상금 편차\n",
    "a <- c(30,26,40,28,26)\n",
    "b <- c(35,20,60,15,20)"
   ]
  },
  {
   "cell_type": "code",
   "execution_count": 36,
   "id": "9f70c0f2-e565-4ad9-badf-1b6cba5b1e44",
   "metadata": {},
   "outputs": [
    {
     "data": {
      "text/html": [
       "'30 30'"
      ],
      "text/latex": [
       "'30 30'"
      ],
      "text/markdown": [
       "'30 30'"
      ],
      "text/plain": [
       "[1] \"30 30\""
      ]
     },
     "metadata": {},
     "output_type": "display_data"
    }
   ],
   "source": [
    "ma <- mean(a)\n",
    "mb <- mean(b)\n",
    "\n",
    "paste(ma, mb)"
   ]
  },
  {
   "cell_type": "code",
   "execution_count": 39,
   "id": "e6e2110c-c940-4140-85dd-0eaa79ae89a8",
   "metadata": {},
   "outputs": [
    {
     "name": "stdout",
     "output_type": "stream",
     "text": [
      "[1] 34\n",
      "[1] 337.5\n"
     ]
    }
   ],
   "source": [
    "devi1 <- (a - ma) ** 2\n",
    "devi2 <- (b - mb) ** 2\n",
    "\n",
    "print(sum(devi1) / (length(a) - 1))\n",
    "print(sum(devi2) / (length(b) - 1))"
   ]
  },
  {
   "cell_type": "code",
   "execution_count": 40,
   "id": "467e6ecc-f3d7-4ca1-b980-8dc4c1419892",
   "metadata": {},
   "outputs": [
    {
     "data": {
      "text/html": [
       "'34 337.5'"
      ],
      "text/latex": [
       "'34 337.5'"
      ],
      "text/markdown": [
       "'34 337.5'"
      ],
      "text/plain": [
       "[1] \"34 337.5\""
      ]
     },
     "metadata": {},
     "output_type": "display_data"
    }
   ],
   "source": [
    "paste(var(a), var(b))"
   ]
  },
  {
   "cell_type": "markdown",
   "id": "d94ac674-abda-4058-8e96-e3237de48592",
   "metadata": {},
   "source": [
    "#### 조선조 왕들 수명의 분산 조사"
   ]
  },
  {
   "cell_type": "code",
   "execution_count": 45,
   "id": "c7f4e68a-33dd-4322-b165-ed3fe82c2266",
   "metadata": {},
   "outputs": [
    {
     "data": {
      "text/html": [
       "'46.037037037037 261.575498575499'"
      ],
      "text/latex": [
       "'46.037037037037 261.575498575499'"
      ],
      "text/markdown": [
       "'46.037037037037 261.575498575499'"
      ],
      "text/plain": [
       "[1] \"46.037037037037 261.575498575499\""
      ]
     },
     "metadata": {},
     "output_type": "display_data"
    }
   ],
   "source": [
    "mk <- mean(kings)\n",
    "\n",
    "devi <- (kings - mk) ** 2\n",
    "\n",
    "paste(mk, sum(devi) / (length(kings) - 1))"
   ]
  },
  {
   "cell_type": "code",
   "execution_count": 47,
   "id": "15f1ea66-232d-4e0c-ac0b-9fd22b132b59",
   "metadata": {},
   "outputs": [
    {
     "data": {
      "text/html": [
       "261.575498575499"
      ],
      "text/latex": [
       "261.575498575499"
      ],
      "text/markdown": [
       "261.575498575499"
      ],
      "text/plain": [
       "[1] 261.5755"
      ]
     },
     "metadata": {},
     "output_type": "display_data"
    }
   ],
   "source": [
    "var(kings)"
   ]
  },
  {
   "cell_type": "markdown",
   "id": "2d2d9858-9c62-46b5-a103-15ddae1cacc1",
   "metadata": {},
   "source": [
    "#### 대학원생들 나이 분산 조사"
   ]
  },
  {
   "cell_type": "code",
   "execution_count": 46,
   "id": "ddb35dd8-eef2-48c7-884f-b7a646753c3f",
   "metadata": {},
   "outputs": [
    {
     "data": {
      "text/html": [
       "'20.2380952380952 3.69047619047619'"
      ],
      "text/latex": [
       "'20.2380952380952 3.69047619047619'"
      ],
      "text/markdown": [
       "'20.2380952380952 3.69047619047619'"
      ],
      "text/plain": [
       "[1] \"20.2380952380952 3.69047619047619\""
      ]
     },
     "metadata": {},
     "output_type": "display_data"
    }
   ],
   "source": [
    "ms <- mean(stus)\n",
    "\n",
    "devi <- (stus - ms) ** 2\n",
    "\n",
    "paste(ms, sum(devi) / (length(stus) - 1))"
   ]
  },
  {
   "cell_type": "code",
   "execution_count": 50,
   "id": "a8fe8840-6902-49f8-862a-ddff090bf633",
   "metadata": {},
   "outputs": [
    {
     "data": {
      "text/html": [
       "3.69047619047619"
      ],
      "text/latex": [
       "3.69047619047619"
      ],
      "text/markdown": [
       "3.69047619047619"
      ],
      "text/plain": [
       "[1] 3.690476"
      ]
     },
     "metadata": {},
     "output_type": "display_data"
    }
   ],
   "source": [
    "var(stus)"
   ]
  },
  {
   "cell_type": "markdown",
   "id": "82104ea4-54bd-436c-b264-a79a911e698a",
   "metadata": {},
   "source": [
    "# 표준편차\n",
    "\n",
    "* 분산값에 제곱근을 취한 값\n",
    "* 분산은 편차를 제곱했기 때문에 결과값의 단위 역시 제곱이 됨\n",
    "* 분산의 단위를 원래 자료의 단위로 전환하기 위해 만든 값\n",
    "\n",
    "* 모표준편차 $\\sigma$\n",
    "> ## $ \\sqrt \\frac {\\sum(x_{i} - \\bar{x})^2}{N} $\n",
    "\n",
    "* 표본 표준편차 $s$\n",
    "> ## $ \\sqrt \\frac {\\sum(x_{i} - \\bar{x})^2}{n-1} $"
   ]
  },
  {
   "cell_type": "code",
   "execution_count": 54,
   "id": "de38066a-9034-4a3b-9b1a-fcddc1d86fcd",
   "metadata": {},
   "outputs": [
    {
     "data": {
      "text/html": [
       "'34 337.5'"
      ],
      "text/latex": [
       "'34 337.5'"
      ],
      "text/markdown": [
       "'34 337.5'"
      ],
      "text/plain": [
       "[1] \"34 337.5\""
      ]
     },
     "metadata": {},
     "output_type": "display_data"
    },
    {
     "data": {
      "text/html": [
       "'5.8309518948453 18.3711730708738'"
      ],
      "text/latex": [
       "'5.8309518948453 18.3711730708738'"
      ],
      "text/markdown": [
       "'5.8309518948453 18.3711730708738'"
      ],
      "text/plain": [
       "[1] \"5.8309518948453 18.3711730708738\""
      ]
     },
     "metadata": {},
     "output_type": "display_data"
    }
   ],
   "source": [
    "# A부서와 B부서 사원의 비상금 편차\n",
    "\n",
    "paste(var(a), var(b))              # 표본분산\n",
    "paste(sqrt(var(a)), sqrt(var(b)))  # (표본)표준편차"
   ]
  },
  {
   "cell_type": "code",
   "execution_count": 55,
   "id": "bd554259-3f77-422d-b11b-d5b4bcbe8d98",
   "metadata": {},
   "outputs": [
    {
     "data": {
      "text/html": [
       "'5.8309518948453 18.3711730708738'"
      ],
      "text/latex": [
       "'5.8309518948453 18.3711730708738'"
      ],
      "text/markdown": [
       "'5.8309518948453 18.3711730708738'"
      ],
      "text/plain": [
       "[1] \"5.8309518948453 18.3711730708738\""
      ]
     },
     "metadata": {},
     "output_type": "display_data"
    }
   ],
   "source": [
    "paste(sd(a), sd(b))"
   ]
  },
  {
   "cell_type": "code",
   "execution_count": 58,
   "id": "4a22e4cf-87ca-4ca8-9e04-0589ed2a8308",
   "metadata": {},
   "outputs": [
    {
     "data": {
      "text/html": [
       "'34 337.5'"
      ],
      "text/latex": [
       "'34 337.5'"
      ],
      "text/markdown": [
       "'34 337.5'"
      ],
      "text/plain": [
       "[1] \"34 337.5\""
      ]
     },
     "metadata": {},
     "output_type": "display_data"
    },
    {
     "data": {
      "text/html": [
       "'5.8309518948453 18.3711730708738'"
      ],
      "text/latex": [
       "'5.8309518948453 18.3711730708738'"
      ],
      "text/markdown": [
       "'5.8309518948453 18.3711730708738'"
      ],
      "text/plain": [
       "[1] \"5.8309518948453 18.3711730708738\""
      ]
     },
     "metadata": {},
     "output_type": "display_data"
    }
   ],
   "source": [
    "# 어떤 카푸치노 판매점들의 5일 동안 오후 4~5시 사이의 판매량 데이터를 보고\n",
    "# 어느 지점이 판매를 잘하였는지 파악하시오\n",
    "\n",
    "A <- c(20,40,50,60,80)\n",
    "B <- c(20,45,50,55,80)"
   ]
  },
  {
   "cell_type": "code",
   "execution_count": 61,
   "id": "470aff82-2fdd-4a00-a083-20db399f0f49",
   "metadata": {},
   "outputs": [
    {
     "data": {
      "text/html": [
       "'50 50'"
      ],
      "text/latex": [
       "'50 50'"
      ],
      "text/markdown": [
       "'50 50'"
      ],
      "text/plain": [
       "[1] \"50 50\""
      ]
     },
     "metadata": {},
     "output_type": "display_data"
    }
   ],
   "source": [
    "paste(mean(A), mean(B))"
   ]
  },
  {
   "cell_type": "code",
   "execution_count": 62,
   "id": "248d4bb7-245d-4cd7-910e-61ddb8bcb56a",
   "metadata": {},
   "outputs": [
    {
     "data": {
      "text/html": [
       "<style>\n",
       ".list-inline {list-style: none; margin:0; padding: 0}\n",
       ".list-inline>li {display: inline-block}\n",
       ".list-inline>li:not(:last-child)::after {content: \"\\00b7\"; padding: 0 .5ex}\n",
       "</style>\n",
       "<ol class=list-inline><li>'20 20'</li><li>'80 80'</li></ol>\n"
      ],
      "text/latex": [
       "\\begin{enumerate*}\n",
       "\\item '20 20'\n",
       "\\item '80 80'\n",
       "\\end{enumerate*}\n"
      ],
      "text/markdown": [
       "1. '20 20'\n",
       "2. '80 80'\n",
       "\n",
       "\n"
      ],
      "text/plain": [
       "[1] \"20 20\" \"80 80\""
      ]
     },
     "metadata": {},
     "output_type": "display_data"
    }
   ],
   "source": [
    "paste(range(A), range(B))"
   ]
  },
  {
   "cell_type": "code",
   "execution_count": 63,
   "id": "c6ffc682-15f7-4e1a-a146-dc294e5d9412",
   "metadata": {},
   "outputs": [
    {
     "data": {
      "text/html": [
       "'22.4 21.5'"
      ],
      "text/latex": [
       "'22.4 21.5'"
      ],
      "text/markdown": [
       "'22.4 21.5'"
      ],
      "text/plain": [
       "[1] \"22.4 21.5\""
      ]
     },
     "metadata": {},
     "output_type": "display_data"
    }
   ],
   "source": [
    "paste(round(sd(A), digits=1), round(sd(B), digits=1))"
   ]
  },
  {
   "cell_type": "code",
   "execution_count": 68,
   "id": "e5d6b0bb-7b60-4e60-b7db-48116603b63f",
   "metadata": {},
   "outputs": [],
   "source": [
    "# 회계수습사원들의 월급이 3536,3173,3448,3121,3622라고 한다\n",
    "# 사무수습사원들의 월급평균은 3550, 표준편차는 250이라 할때\n",
    "# 이 둘 수습사원 그룹을 비교하시오\n",
    "\n",
    "account <- c(3536,3173,3448,3121,3622)"
   ]
  },
  {
   "cell_type": "code",
   "execution_count": 67,
   "id": "8605192d-e161-4c0a-9903-b984c37475fa",
   "metadata": {},
   "outputs": [
    {
     "data": {
      "text/html": [
       "'3380 222.2'"
      ],
      "text/latex": [
       "'3380 222.2'"
      ],
      "text/markdown": [
       "'3380 222.2'"
      ],
      "text/plain": [
       "[1] \"3380 222.2\""
      ]
     },
     "metadata": {},
     "output_type": "display_data"
    }
   ],
   "source": [
    "paste(mean(account), round(sd(account), digits=1))"
   ]
  },
  {
   "cell_type": "markdown",
   "id": "a178f8d4-39ac-4566-b0f5-8699e63b7538",
   "metadata": {},
   "source": [
    "#### 조선조 왕들 수명의 표준편차 조사"
   ]
  },
  {
   "cell_type": "code",
   "execution_count": 70,
   "id": "5057f88f-1889-4cfc-ac2d-7cb6d2f1c0bd",
   "metadata": {},
   "outputs": [
    {
     "data": {
      "text/html": [
       "'46.037037037037 16.1732958476465'"
      ],
      "text/latex": [
       "'46.037037037037 16.1732958476465'"
      ],
      "text/markdown": [
       "'46.037037037037 16.1732958476465'"
      ],
      "text/plain": [
       "[1] \"46.037037037037 16.1732958476465\""
      ]
     },
     "metadata": {},
     "output_type": "display_data"
    }
   ],
   "source": [
    "paste(mean(kings), sd(kings))"
   ]
  },
  {
   "cell_type": "markdown",
   "id": "cbf3ee6c-8a11-4a9e-ac0e-a726b9a71715",
   "metadata": {},
   "source": [
    "#### 대학원생들 나이 표준편차 조사"
   ]
  },
  {
   "cell_type": "code",
   "execution_count": 71,
   "id": "40f310b5-5a85-47f6-a63e-41d1c3096e31",
   "metadata": {},
   "outputs": [
    {
     "data": {
      "text/html": [
       "'20.2380952380952 1.92106121466136'"
      ],
      "text/latex": [
       "'20.2380952380952 1.92106121466136'"
      ],
      "text/markdown": [
       "'20.2380952380952 1.92106121466136'"
      ],
      "text/plain": [
       "[1] \"20.2380952380952 1.92106121466136\""
      ]
     },
     "metadata": {},
     "output_type": "display_data"
    }
   ],
   "source": [
    "paste(mean(stus), sd(stus))"
   ]
  },
  {
   "cell_type": "markdown",
   "id": "aac146be-d2a3-4796-b8ff-73e63fc8e7ef",
   "metadata": {},
   "source": [
    "### 핫도그 먹기대회 기술통계"
   ]
  },
  {
   "cell_type": "code",
   "execution_count": 72,
   "id": "12c8b4af-bec6-485b-9df4-a69a749d64af",
   "metadata": {
    "collapsed": true,
    "jupyter": {
     "outputs_hidden": true
    },
    "scrolled": true
   },
   "outputs": [
    {
     "name": "stdout",
     "output_type": "stream",
     "text": [
      "   Year                       Winner Dogs.eaten       Country New.record\n",
      "1  1980 Paul Siederman & Joe Baldini       9.10 United States          0\n",
      "2  1981              Thomas DeBerry       11.00 United States          0\n",
      "3  1982               Steven Abrams       11.00 United States          0\n",
      "4  1983                 Luis Llamas       19.50        Mexico          0\n",
      "5  1984               Birgit Felden        9.50       Germany          0\n",
      "6  1985             Oscar Rodriguez       11.75 United States          0\n",
      "7  1986                 Mark Heller       15.50 United States          0\n",
      "8  1987                 Don Wolfman       12.00 United States          0\n",
      "9  1988                   Jay Green       14.00 United States          0\n",
      "10 1989                   Jay Green       13.00 United States          0\n",
      "11 1990                 Mike DeVito       16.00 United States          0\n",
      "12 1991             Frank Dellarosa       21.50 United States          1\n",
      "13 1992             Frank Dellarosa       19.00 United States          0\n",
      "14 1993                 Mike DeVito       17.00 United States          0\n",
      "15 1994                 Mike DeVito       20.00 United States          0\n",
      "16 1995              Edward Krachie       19.50 United States          0\n",
      "17 1996              Edward Krachie       22.25 United States          1\n",
      "18 1997           Hirofumi Nakajima       24.50         Japan          1\n",
      "19 1998           Hirofumi Nakajima       19.00         Japan          0\n",
      "20 1999                Steve Keiner       20.25 United States          0\n",
      "21 2000  Kazutoyo \"The Rabbit\" Arai       25.13         Japan          1\n",
      "22 2001            Takeru Kobayashi       50.00         Japan          1\n",
      "23 2002            Takeru Kobayashi       50.50         Japan          1\n",
      "24 2003            Takeru Kobayashi       44.50         Japan          0\n",
      "25 2004            Takeru Kobayashi       53.50         Japan          1\n",
      "26 2005            Takeru Kobayashi       49.00         Japan          0\n",
      "27 2006  Takeru \"Tsunami\" Kobayashi       53.75         Japan          1\n",
      "28 2007               Joey Chestnut       66.00 United States          1\n",
      "29 2008               Joey Chestnut       59.00 United States          0\n",
      "30 2009               Joey Chestnut       68.00 United States          1\n",
      "31 2010               Joey Chestnut       54.00 United States          0\n"
     ]
    }
   ],
   "source": [
    "hot <- read.csv(file = './data/hotdog.csv')\n",
    "print(hot)"
   ]
  },
  {
   "cell_type": "code",
   "execution_count": 73,
   "id": "0cf1e4e6-c348-4570-a371-2000818a8339",
   "metadata": {},
   "outputs": [
    {
     "data": {
      "text/html": [
       "<style>\n",
       ".list-inline {list-style: none; margin:0; padding: 0}\n",
       ".list-inline>li {display: inline-block}\n",
       ".list-inline>li:not(:last-child)::after {content: \"\\00b7\"; padding: 0 .5ex}\n",
       "</style>\n",
       "<ol class=list-inline><li>9.1</li><li>11</li><li>11</li><li>19.5</li><li>9.5</li><li>11.75</li><li>15.5</li><li>12</li><li>14</li><li>13</li><li>16</li><li>21.5</li><li>19</li><li>17</li><li>20</li><li>19.5</li><li>22.25</li><li>24.5</li><li>19</li><li>20.25</li><li>25.13</li><li>50</li><li>50.5</li><li>44.5</li><li>53.5</li><li>49</li><li>53.75</li><li>66</li><li>59</li><li>68</li><li>54</li></ol>\n"
      ],
      "text/latex": [
       "\\begin{enumerate*}\n",
       "\\item 9.1\n",
       "\\item 11\n",
       "\\item 11\n",
       "\\item 19.5\n",
       "\\item 9.5\n",
       "\\item 11.75\n",
       "\\item 15.5\n",
       "\\item 12\n",
       "\\item 14\n",
       "\\item 13\n",
       "\\item 16\n",
       "\\item 21.5\n",
       "\\item 19\n",
       "\\item 17\n",
       "\\item 20\n",
       "\\item 19.5\n",
       "\\item 22.25\n",
       "\\item 24.5\n",
       "\\item 19\n",
       "\\item 20.25\n",
       "\\item 25.13\n",
       "\\item 50\n",
       "\\item 50.5\n",
       "\\item 44.5\n",
       "\\item 53.5\n",
       "\\item 49\n",
       "\\item 53.75\n",
       "\\item 66\n",
       "\\item 59\n",
       "\\item 68\n",
       "\\item 54\n",
       "\\end{enumerate*}\n"
      ],
      "text/markdown": [
       "1. 9.1\n",
       "2. 11\n",
       "3. 11\n",
       "4. 19.5\n",
       "5. 9.5\n",
       "6. 11.75\n",
       "7. 15.5\n",
       "8. 12\n",
       "9. 14\n",
       "10. 13\n",
       "11. 16\n",
       "12. 21.5\n",
       "13. 19\n",
       "14. 17\n",
       "15. 20\n",
       "16. 19.5\n",
       "17. 22.25\n",
       "18. 24.5\n",
       "19. 19\n",
       "20. 20.25\n",
       "21. 25.13\n",
       "22. 50\n",
       "23. 50.5\n",
       "24. 44.5\n",
       "25. 53.5\n",
       "26. 49\n",
       "27. 53.75\n",
       "28. 66\n",
       "29. 59\n",
       "30. 68\n",
       "31. 54\n",
       "\n",
       "\n"
      ],
      "text/plain": [
       " [1]  9.10 11.00 11.00 19.50  9.50 11.75 15.50 12.00 14.00 13.00 16.00 21.50\n",
       "[13] 19.00 17.00 20.00 19.50 22.25 24.50 19.00 20.25 25.13 50.00 50.50 44.50\n",
       "[25] 53.50 49.00 53.75 66.00 59.00 68.00 54.00"
      ]
     },
     "metadata": {},
     "output_type": "display_data"
    }
   ],
   "source": [
    "hot$Dogs.eaten"
   ]
  },
  {
   "cell_type": "code",
   "execution_count": 82,
   "id": "12b190d6-459e-49ae-8269-b788081f9170",
   "metadata": {},
   "outputs": [
    {
     "data": {
      "text/html": [
       "<style>\n",
       ".list-inline {list-style: none; margin:0; padding: 0}\n",
       ".list-inline>li {display: inline-block}\n",
       ".list-inline>li:not(:last-child)::after {content: \"\\00b7\"; padding: 0 .5ex}\n",
       "</style>\n",
       "<ol class=list-inline><li>'9.1'</li><li>'68'</li></ol>\n"
      ],
      "text/latex": [
       "\\begin{enumerate*}\n",
       "\\item '9.1'\n",
       "\\item '68'\n",
       "\\end{enumerate*}\n"
      ],
      "text/markdown": [
       "1. '9.1'\n",
       "2. '68'\n",
       "\n",
       "\n"
      ],
      "text/plain": [
       "[1] \"9.1\" \"68\" "
      ]
     },
     "metadata": {},
     "output_type": "display_data"
    },
    {
     "data": {
      "text/html": [
       "'29 19'"
      ],
      "text/latex": [
       "'29 19'"
      ],
      "text/markdown": [
       "'29 19'"
      ],
      "text/plain": [
       "[1] \"29 19\""
      ]
     },
     "metadata": {},
     "output_type": "display_data"
    }
   ],
   "source": [
    "# 범위의 최소값과 최대값\n",
    "paste(range(hot$Dogs.eaten))\n",
    "# 평균과 표준편차\n",
    "paste(round(mean(hot$Dogs.eaten), digits = 1), round(sd(hot$Dogs.eaten), digits = 1))"
   ]
  },
  {
   "cell_type": "markdown",
   "id": "d1f1a294-413d-4a46-9a2f-bfb19b2d8cc7",
   "metadata": {},
   "source": [
    "### 사원데이터 기술통계"
   ]
  },
  {
   "cell_type": "code",
   "execution_count": 83,
   "id": "5a75a53c-ee3b-4117-b71c-fad27e49db6d",
   "metadata": {
    "collapsed": true,
    "jupyter": {
     "outputs_hidden": true
    }
   },
   "outputs": [
    {
     "data": {
      "text/html": [
       "<table class=\"dataframe\">\n",
       "<caption>A data.frame: 5 × 11</caption>\n",
       "<thead>\n",
       "\t<tr><th></th><th scope=col>EMPLOYEE_ID</th><th scope=col>FIRST_NAME</th><th scope=col>LAST_NAME</th><th scope=col>EMAIL</th><th scope=col>PHONE_NUMBER</th><th scope=col>HIRE_DATE</th><th scope=col>JOB_ID</th><th scope=col>SALARY</th><th scope=col>COMMISSION_PCT</th><th scope=col>MANAGER_ID</th><th scope=col>DEPARTMENT_ID</th></tr>\n",
       "\t<tr><th></th><th scope=col>&lt;int&gt;</th><th scope=col>&lt;chr&gt;</th><th scope=col>&lt;chr&gt;</th><th scope=col>&lt;chr&gt;</th><th scope=col>&lt;chr&gt;</th><th scope=col>&lt;chr&gt;</th><th scope=col>&lt;chr&gt;</th><th scope=col>&lt;dbl&gt;</th><th scope=col>&lt;dbl&gt;</th><th scope=col>&lt;int&gt;</th><th scope=col>&lt;int&gt;</th></tr>\n",
       "</thead>\n",
       "<tbody>\n",
       "\t<tr><th scope=row>1</th><td>100</td><td>Steven   </td><td>King   </td><td>SKING   </td><td>515.123.4567</td><td>2003-06-17</td><td>AD_PRES</td><td>24000</td><td>NA</td><td> NA</td><td>90</td></tr>\n",
       "\t<tr><th scope=row>2</th><td>101</td><td>Neena    </td><td>Kochhar</td><td>NKOCHHAR</td><td>515.123.4568</td><td>2005-09-21</td><td>AD_VP  </td><td>17000</td><td>NA</td><td>100</td><td>90</td></tr>\n",
       "\t<tr><th scope=row>3</th><td>102</td><td>Lex      </td><td>De Haan</td><td>LDEHAAN </td><td>515.123.4569</td><td>2001-01-13</td><td>AD_VP  </td><td>17000</td><td>NA</td><td>100</td><td>90</td></tr>\n",
       "\t<tr><th scope=row>4</th><td>103</td><td>Alexander</td><td>Hunold </td><td>AHUNOLD </td><td>590.423.4567</td><td>2006-01-03</td><td>IT_PROG</td><td> 9000</td><td>NA</td><td>102</td><td>60</td></tr>\n",
       "\t<tr><th scope=row>5</th><td>104</td><td>Bruce    </td><td>Ernst  </td><td>BERNST  </td><td>590.423.4568</td><td>2007-05-21</td><td>IT_PROG</td><td> 6000</td><td>NA</td><td>103</td><td>60</td></tr>\n",
       "</tbody>\n",
       "</table>\n"
      ],
      "text/latex": [
       "A data.frame: 5 × 11\n",
       "\\begin{tabular}{r|lllllllllll}\n",
       "  & EMPLOYEE\\_ID & FIRST\\_NAME & LAST\\_NAME & EMAIL & PHONE\\_NUMBER & HIRE\\_DATE & JOB\\_ID & SALARY & COMMISSION\\_PCT & MANAGER\\_ID & DEPARTMENT\\_ID\\\\\n",
       "  & <int> & <chr> & <chr> & <chr> & <chr> & <chr> & <chr> & <dbl> & <dbl> & <int> & <int>\\\\\n",
       "\\hline\n",
       "\t1 & 100 & Steven    & King    & SKING    & 515.123.4567 & 2003-06-17 & AD\\_PRES & 24000 & NA &  NA & 90\\\\\n",
       "\t2 & 101 & Neena     & Kochhar & NKOCHHAR & 515.123.4568 & 2005-09-21 & AD\\_VP   & 17000 & NA & 100 & 90\\\\\n",
       "\t3 & 102 & Lex       & De Haan & LDEHAAN  & 515.123.4569 & 2001-01-13 & AD\\_VP   & 17000 & NA & 100 & 90\\\\\n",
       "\t4 & 103 & Alexander & Hunold  & AHUNOLD  & 590.423.4567 & 2006-01-03 & IT\\_PROG &  9000 & NA & 102 & 60\\\\\n",
       "\t5 & 104 & Bruce     & Ernst   & BERNST   & 590.423.4568 & 2007-05-21 & IT\\_PROG &  6000 & NA & 103 & 60\\\\\n",
       "\\end{tabular}\n"
      ],
      "text/markdown": [
       "\n",
       "A data.frame: 5 × 11\n",
       "\n",
       "| <!--/--> | EMPLOYEE_ID &lt;int&gt; | FIRST_NAME &lt;chr&gt; | LAST_NAME &lt;chr&gt; | EMAIL &lt;chr&gt; | PHONE_NUMBER &lt;chr&gt; | HIRE_DATE &lt;chr&gt; | JOB_ID &lt;chr&gt; | SALARY &lt;dbl&gt; | COMMISSION_PCT &lt;dbl&gt; | MANAGER_ID &lt;int&gt; | DEPARTMENT_ID &lt;int&gt; |\n",
       "|---|---|---|---|---|---|---|---|---|---|---|---|\n",
       "| 1 | 100 | Steven    | King    | SKING    | 515.123.4567 | 2003-06-17 | AD_PRES | 24000 | NA |  NA | 90 |\n",
       "| 2 | 101 | Neena     | Kochhar | NKOCHHAR | 515.123.4568 | 2005-09-21 | AD_VP   | 17000 | NA | 100 | 90 |\n",
       "| 3 | 102 | Lex       | De Haan | LDEHAAN  | 515.123.4569 | 2001-01-13 | AD_VP   | 17000 | NA | 100 | 90 |\n",
       "| 4 | 103 | Alexander | Hunold  | AHUNOLD  | 590.423.4567 | 2006-01-03 | IT_PROG |  9000 | NA | 102 | 60 |\n",
       "| 5 | 104 | Bruce     | Ernst   | BERNST   | 590.423.4568 | 2007-05-21 | IT_PROG |  6000 | NA | 103 | 60 |\n",
       "\n"
      ],
      "text/plain": [
       "  EMPLOYEE_ID FIRST_NAME LAST_NAME EMAIL    PHONE_NUMBER HIRE_DATE  JOB_ID \n",
       "1 100         Steven     King      SKING    515.123.4567 2003-06-17 AD_PRES\n",
       "2 101         Neena      Kochhar   NKOCHHAR 515.123.4568 2005-09-21 AD_VP  \n",
       "3 102         Lex        De Haan   LDEHAAN  515.123.4569 2001-01-13 AD_VP  \n",
       "4 103         Alexander  Hunold    AHUNOLD  590.423.4567 2006-01-03 IT_PROG\n",
       "5 104         Bruce      Ernst     BERNST   590.423.4568 2007-05-21 IT_PROG\n",
       "  SALARY COMMISSION_PCT MANAGER_ID DEPARTMENT_ID\n",
       "1 24000  NA              NA        90           \n",
       "2 17000  NA             100        90           \n",
       "3 17000  NA             100        90           \n",
       "4  9000  NA             102        60           \n",
       "5  6000  NA             103        60           "
      ]
     },
     "metadata": {},
     "output_type": "display_data"
    }
   ],
   "source": [
    "emp <- read.csv('./data/employees.csv')\n",
    "head(emp, 5)"
   ]
  },
  {
   "cell_type": "code",
   "execution_count": 78,
   "id": "60f85b3e-0705-4868-b4a9-1d5ac72644c4",
   "metadata": {
    "collapsed": true,
    "jupyter": {
     "outputs_hidden": true
    }
   },
   "outputs": [
    {
     "data": {
      "text/html": [
       "<style>\n",
       ".list-inline {list-style: none; margin:0; padding: 0}\n",
       ".list-inline>li {display: inline-block}\n",
       ".list-inline>li:not(:last-child)::after {content: \"\\00b7\"; padding: 0 .5ex}\n",
       "</style>\n",
       "<ol class=list-inline><li>24000</li><li>17000</li><li>17000</li><li>9000</li><li>6000</li><li>4800</li><li>4800</li><li>4200</li><li>12008</li><li>9000</li><li>8200</li><li>7700</li><li>7800</li><li>6900</li><li>11000</li><li>3100</li><li>2900</li><li>2800</li><li>2600</li><li>2500</li><li>8000</li><li>8200</li><li>7900</li><li>6500</li><li>5800</li><li>3200</li><li>2700</li><li>2400</li><li>2200</li><li>3300</li><li>2800</li><li>2500</li><li>2100</li><li>3300</li><li>2900</li><li>2400</li><li>2200</li><li>3600</li><li>3200</li><li>2700</li><li>2500</li><li>3500</li><li>3100</li><li>2600</li><li>2500</li><li>14000</li><li>13500</li><li>12000</li><li>11000</li><li>10500</li><li>10000</li><li>9500</li><li>9000</li><li>8000</li><li>7500</li><li>7000</li><li>10000</li><li>9500</li><li>9000</li><li>8000</li><li>7500</li><li>7000</li><li>10500</li><li>9500</li><li>7200</li><li>6800</li><li>6400</li><li>6200</li><li>11500</li><li>10000</li><li>9600</li><li>7400</li><li>7300</li><li>6100</li><li>11000</li><li>8800</li><li>8600</li><li>8400</li><li>7000</li><li>6200</li><li>3200</li><li>3100</li><li>2500</li><li>2800</li><li>4200</li><li>4100</li><li>3400</li><li>3000</li><li>3800</li><li>3600</li><li>2900</li><li>2500</li><li>4000</li><li>3900</li><li>3200</li><li>2800</li><li>3100</li><li>3000</li><li>2600</li><li>2600</li><li>4400</li><li>13000</li><li>6000</li><li>6500</li><li>10000</li><li>12008</li><li>8300</li></ol>\n"
      ],
      "text/latex": [
       "\\begin{enumerate*}\n",
       "\\item 24000\n",
       "\\item 17000\n",
       "\\item 17000\n",
       "\\item 9000\n",
       "\\item 6000\n",
       "\\item 4800\n",
       "\\item 4800\n",
       "\\item 4200\n",
       "\\item 12008\n",
       "\\item 9000\n",
       "\\item 8200\n",
       "\\item 7700\n",
       "\\item 7800\n",
       "\\item 6900\n",
       "\\item 11000\n",
       "\\item 3100\n",
       "\\item 2900\n",
       "\\item 2800\n",
       "\\item 2600\n",
       "\\item 2500\n",
       "\\item 8000\n",
       "\\item 8200\n",
       "\\item 7900\n",
       "\\item 6500\n",
       "\\item 5800\n",
       "\\item 3200\n",
       "\\item 2700\n",
       "\\item 2400\n",
       "\\item 2200\n",
       "\\item 3300\n",
       "\\item 2800\n",
       "\\item 2500\n",
       "\\item 2100\n",
       "\\item 3300\n",
       "\\item 2900\n",
       "\\item 2400\n",
       "\\item 2200\n",
       "\\item 3600\n",
       "\\item 3200\n",
       "\\item 2700\n",
       "\\item 2500\n",
       "\\item 3500\n",
       "\\item 3100\n",
       "\\item 2600\n",
       "\\item 2500\n",
       "\\item 14000\n",
       "\\item 13500\n",
       "\\item 12000\n",
       "\\item 11000\n",
       "\\item 10500\n",
       "\\item 10000\n",
       "\\item 9500\n",
       "\\item 9000\n",
       "\\item 8000\n",
       "\\item 7500\n",
       "\\item 7000\n",
       "\\item 10000\n",
       "\\item 9500\n",
       "\\item 9000\n",
       "\\item 8000\n",
       "\\item 7500\n",
       "\\item 7000\n",
       "\\item 10500\n",
       "\\item 9500\n",
       "\\item 7200\n",
       "\\item 6800\n",
       "\\item 6400\n",
       "\\item 6200\n",
       "\\item 11500\n",
       "\\item 10000\n",
       "\\item 9600\n",
       "\\item 7400\n",
       "\\item 7300\n",
       "\\item 6100\n",
       "\\item 11000\n",
       "\\item 8800\n",
       "\\item 8600\n",
       "\\item 8400\n",
       "\\item 7000\n",
       "\\item 6200\n",
       "\\item 3200\n",
       "\\item 3100\n",
       "\\item 2500\n",
       "\\item 2800\n",
       "\\item 4200\n",
       "\\item 4100\n",
       "\\item 3400\n",
       "\\item 3000\n",
       "\\item 3800\n",
       "\\item 3600\n",
       "\\item 2900\n",
       "\\item 2500\n",
       "\\item 4000\n",
       "\\item 3900\n",
       "\\item 3200\n",
       "\\item 2800\n",
       "\\item 3100\n",
       "\\item 3000\n",
       "\\item 2600\n",
       "\\item 2600\n",
       "\\item 4400\n",
       "\\item 13000\n",
       "\\item 6000\n",
       "\\item 6500\n",
       "\\item 10000\n",
       "\\item 12008\n",
       "\\item 8300\n",
       "\\end{enumerate*}\n"
      ],
      "text/markdown": [
       "1. 24000\n",
       "2. 17000\n",
       "3. 17000\n",
       "4. 9000\n",
       "5. 6000\n",
       "6. 4800\n",
       "7. 4800\n",
       "8. 4200\n",
       "9. 12008\n",
       "10. 9000\n",
       "11. 8200\n",
       "12. 7700\n",
       "13. 7800\n",
       "14. 6900\n",
       "15. 11000\n",
       "16. 3100\n",
       "17. 2900\n",
       "18. 2800\n",
       "19. 2600\n",
       "20. 2500\n",
       "21. 8000\n",
       "22. 8200\n",
       "23. 7900\n",
       "24. 6500\n",
       "25. 5800\n",
       "26. 3200\n",
       "27. 2700\n",
       "28. 2400\n",
       "29. 2200\n",
       "30. 3300\n",
       "31. 2800\n",
       "32. 2500\n",
       "33. 2100\n",
       "34. 3300\n",
       "35. 2900\n",
       "36. 2400\n",
       "37. 2200\n",
       "38. 3600\n",
       "39. 3200\n",
       "40. 2700\n",
       "41. 2500\n",
       "42. 3500\n",
       "43. 3100\n",
       "44. 2600\n",
       "45. 2500\n",
       "46. 14000\n",
       "47. 13500\n",
       "48. 12000\n",
       "49. 11000\n",
       "50. 10500\n",
       "51. 10000\n",
       "52. 9500\n",
       "53. 9000\n",
       "54. 8000\n",
       "55. 7500\n",
       "56. 7000\n",
       "57. 10000\n",
       "58. 9500\n",
       "59. 9000\n",
       "60. 8000\n",
       "61. 7500\n",
       "62. 7000\n",
       "63. 10500\n",
       "64. 9500\n",
       "65. 7200\n",
       "66. 6800\n",
       "67. 6400\n",
       "68. 6200\n",
       "69. 11500\n",
       "70. 10000\n",
       "71. 9600\n",
       "72. 7400\n",
       "73. 7300\n",
       "74. 6100\n",
       "75. 11000\n",
       "76. 8800\n",
       "77. 8600\n",
       "78. 8400\n",
       "79. 7000\n",
       "80. 6200\n",
       "81. 3200\n",
       "82. 3100\n",
       "83. 2500\n",
       "84. 2800\n",
       "85. 4200\n",
       "86. 4100\n",
       "87. 3400\n",
       "88. 3000\n",
       "89. 3800\n",
       "90. 3600\n",
       "91. 2900\n",
       "92. 2500\n",
       "93. 4000\n",
       "94. 3900\n",
       "95. 3200\n",
       "96. 2800\n",
       "97. 3100\n",
       "98. 3000\n",
       "99. 2600\n",
       "100. 2600\n",
       "101. 4400\n",
       "102. 13000\n",
       "103. 6000\n",
       "104. 6500\n",
       "105. 10000\n",
       "106. 12008\n",
       "107. 8300\n",
       "\n",
       "\n"
      ],
      "text/plain": [
       "  [1] 24000 17000 17000  9000  6000  4800  4800  4200 12008  9000  8200  7700\n",
       " [13]  7800  6900 11000  3100  2900  2800  2600  2500  8000  8200  7900  6500\n",
       " [25]  5800  3200  2700  2400  2200  3300  2800  2500  2100  3300  2900  2400\n",
       " [37]  2200  3600  3200  2700  2500  3500  3100  2600  2500 14000 13500 12000\n",
       " [49] 11000 10500 10000  9500  9000  8000  7500  7000 10000  9500  9000  8000\n",
       " [61]  7500  7000 10500  9500  7200  6800  6400  6200 11500 10000  9600  7400\n",
       " [73]  7300  6100 11000  8800  8600  8400  7000  6200  3200  3100  2500  2800\n",
       " [85]  4200  4100  3400  3000  3800  3600  2900  2500  4000  3900  3200  2800\n",
       " [97]  3100  3000  2600  2600  4400 13000  6000  6500 10000 12008  8300"
      ]
     },
     "metadata": {},
     "output_type": "display_data"
    }
   ],
   "source": [
    "emp$SALARY"
   ]
  },
  {
   "cell_type": "code",
   "execution_count": 80,
   "id": "da17a975-3fab-48ba-bdc8-bd0789d00e40",
   "metadata": {},
   "outputs": [
    {
     "data": {
      "text/html": [
       "<style>\n",
       ".list-inline {list-style: none; margin:0; padding: 0}\n",
       ".list-inline>li {display: inline-block}\n",
       ".list-inline>li:not(:last-child)::after {content: \"\\00b7\"; padding: 0 .5ex}\n",
       "</style>\n",
       "<ol class=list-inline><li>'2100'</li><li>'24000'</li></ol>\n"
      ],
      "text/latex": [
       "\\begin{enumerate*}\n",
       "\\item '2100'\n",
       "\\item '24000'\n",
       "\\end{enumerate*}\n"
      ],
      "text/markdown": [
       "1. '2100'\n",
       "2. '24000'\n",
       "\n",
       "\n"
      ],
      "text/plain": [
       "[1] \"2100\"  \"24000\""
      ]
     },
     "metadata": {},
     "output_type": "display_data"
    },
    {
     "data": {
      "text/html": [
       "'6461.8 3909.6'"
      ],
      "text/latex": [
       "'6461.8 3909.6'"
      ],
      "text/markdown": [
       "'6461.8 3909.6'"
      ],
      "text/plain": [
       "[1] \"6461.8 3909.6\""
      ]
     },
     "metadata": {},
     "output_type": "display_data"
    }
   ],
   "source": [
    "# 범위의 최소값과 최대값\n",
    "paste(range(emp$SALARY))\n",
    "# 평균과 표준편차\n",
    "paste(round(mean(emp$SALARY), digits = 1), round(sd(emp$SALARY), digits = 1))"
   ]
  },
  {
   "cell_type": "code",
   "execution_count": 85,
   "id": "c0e964aa-763d-4fba-9703-4e4e05e42fe5",
   "metadata": {},
   "outputs": [
    {
     "data": {
      "text/html": [
       "'0.2 0.1'"
      ],
      "text/latex": [
       "'0.2 0.1'"
      ],
      "text/markdown": [
       "'0.2 0.1'"
      ],
      "text/plain": [
       "[1] \"0.2 0.1\""
      ]
     },
     "metadata": {},
     "output_type": "display_data"
    }
   ],
   "source": [
    "paste(round(mean(emp$COMMISSION_PCT, na.rm=T), digits = 1), round(sd(emp$COMMISSION_PCT, na.rm=T), digits = 1))"
   ]
  },
  {
   "cell_type": "markdown",
   "id": "7d0646e3-d807-471e-b450-db528d4765aa",
   "metadata": {},
   "source": [
    "### 타이타닉 생존자 기술통계"
   ]
  },
  {
   "cell_type": "code",
   "execution_count": 86,
   "id": "37662d7e-c1a4-4e07-90d4-f9394c28496d",
   "metadata": {
    "collapsed": true,
    "jupyter": {
     "outputs_hidden": true
    }
   },
   "outputs": [
    {
     "data": {
      "text/html": [
       "<table class=\"dataframe\">\n",
       "<caption>A data.frame: 5 × 11</caption>\n",
       "<thead>\n",
       "\t<tr><th></th><th scope=col>pclass</th><th scope=col>survived</th><th scope=col>name</th><th scope=col>sex</th><th scope=col>age</th><th scope=col>sibsp</th><th scope=col>parch</th><th scope=col>ticket</th><th scope=col>fare</th><th scope=col>cabin</th><th scope=col>embarked</th></tr>\n",
       "\t<tr><th></th><th scope=col>&lt;int&gt;</th><th scope=col>&lt;int&gt;</th><th scope=col>&lt;chr&gt;</th><th scope=col>&lt;chr&gt;</th><th scope=col>&lt;dbl&gt;</th><th scope=col>&lt;int&gt;</th><th scope=col>&lt;int&gt;</th><th scope=col>&lt;chr&gt;</th><th scope=col>&lt;dbl&gt;</th><th scope=col>&lt;chr&gt;</th><th scope=col>&lt;chr&gt;</th></tr>\n",
       "</thead>\n",
       "<tbody>\n",
       "\t<tr><th scope=row>1</th><td>1</td><td>1</td><td>Allen, Miss. Elisabeth Walton                  </td><td>female</td><td>29.0000</td><td>0</td><td>0</td><td>24160 </td><td>211.3375</td><td>B5     </td><td>S</td></tr>\n",
       "\t<tr><th scope=row>2</th><td>1</td><td>1</td><td>Allison, Master. Hudson Trevor                 </td><td>male  </td><td> 0.9167</td><td>1</td><td>2</td><td>113781</td><td>151.5500</td><td>C22 C26</td><td>S</td></tr>\n",
       "\t<tr><th scope=row>3</th><td>1</td><td>0</td><td>Allison, Miss. Helen Loraine                   </td><td>female</td><td> 2.0000</td><td>1</td><td>2</td><td>113781</td><td>151.5500</td><td>C22 C26</td><td>S</td></tr>\n",
       "\t<tr><th scope=row>4</th><td>1</td><td>0</td><td>Allison, Mr. Hudson Joshua Creighton           </td><td>male  </td><td>30.0000</td><td>1</td><td>2</td><td>113781</td><td>151.5500</td><td>C22 C26</td><td>S</td></tr>\n",
       "\t<tr><th scope=row>5</th><td>1</td><td>0</td><td>Allison, Mrs. Hudson J C (Bessie Waldo Daniels)</td><td>female</td><td>25.0000</td><td>1</td><td>2</td><td>113781</td><td>151.5500</td><td>C22 C26</td><td>S</td></tr>\n",
       "</tbody>\n",
       "</table>\n"
      ],
      "text/latex": [
       "A data.frame: 5 × 11\n",
       "\\begin{tabular}{r|lllllllllll}\n",
       "  & pclass & survived & name & sex & age & sibsp & parch & ticket & fare & cabin & embarked\\\\\n",
       "  & <int> & <int> & <chr> & <chr> & <dbl> & <int> & <int> & <chr> & <dbl> & <chr> & <chr>\\\\\n",
       "\\hline\n",
       "\t1 & 1 & 1 & Allen, Miss. Elisabeth Walton                   & female & 29.0000 & 0 & 0 & 24160  & 211.3375 & B5      & S\\\\\n",
       "\t2 & 1 & 1 & Allison, Master. Hudson Trevor                  & male   &  0.9167 & 1 & 2 & 113781 & 151.5500 & C22 C26 & S\\\\\n",
       "\t3 & 1 & 0 & Allison, Miss. Helen Loraine                    & female &  2.0000 & 1 & 2 & 113781 & 151.5500 & C22 C26 & S\\\\\n",
       "\t4 & 1 & 0 & Allison, Mr. Hudson Joshua Creighton            & male   & 30.0000 & 1 & 2 & 113781 & 151.5500 & C22 C26 & S\\\\\n",
       "\t5 & 1 & 0 & Allison, Mrs. Hudson J C (Bessie Waldo Daniels) & female & 25.0000 & 1 & 2 & 113781 & 151.5500 & C22 C26 & S\\\\\n",
       "\\end{tabular}\n"
      ],
      "text/markdown": [
       "\n",
       "A data.frame: 5 × 11\n",
       "\n",
       "| <!--/--> | pclass &lt;int&gt; | survived &lt;int&gt; | name &lt;chr&gt; | sex &lt;chr&gt; | age &lt;dbl&gt; | sibsp &lt;int&gt; | parch &lt;int&gt; | ticket &lt;chr&gt; | fare &lt;dbl&gt; | cabin &lt;chr&gt; | embarked &lt;chr&gt; |\n",
       "|---|---|---|---|---|---|---|---|---|---|---|---|\n",
       "| 1 | 1 | 1 | Allen, Miss. Elisabeth Walton                   | female | 29.0000 | 0 | 0 | 24160  | 211.3375 | B5      | S |\n",
       "| 2 | 1 | 1 | Allison, Master. Hudson Trevor                  | male   |  0.9167 | 1 | 2 | 113781 | 151.5500 | C22 C26 | S |\n",
       "| 3 | 1 | 0 | Allison, Miss. Helen Loraine                    | female |  2.0000 | 1 | 2 | 113781 | 151.5500 | C22 C26 | S |\n",
       "| 4 | 1 | 0 | Allison, Mr. Hudson Joshua Creighton            | male   | 30.0000 | 1 | 2 | 113781 | 151.5500 | C22 C26 | S |\n",
       "| 5 | 1 | 0 | Allison, Mrs. Hudson J C (Bessie Waldo Daniels) | female | 25.0000 | 1 | 2 | 113781 | 151.5500 | C22 C26 | S |\n",
       "\n"
      ],
      "text/plain": [
       "  pclass survived name                                            sex   \n",
       "1 1      1        Allen, Miss. Elisabeth Walton                   female\n",
       "2 1      1        Allison, Master. Hudson Trevor                  male  \n",
       "3 1      0        Allison, Miss. Helen Loraine                    female\n",
       "4 1      0        Allison, Mr. Hudson Joshua Creighton            male  \n",
       "5 1      0        Allison, Mrs. Hudson J C (Bessie Waldo Daniels) female\n",
       "  age     sibsp parch ticket fare     cabin   embarked\n",
       "1 29.0000 0     0     24160  211.3375 B5      S       \n",
       "2  0.9167 1     2     113781 151.5500 C22 C26 S       \n",
       "3  2.0000 1     2     113781 151.5500 C22 C26 S       \n",
       "4 30.0000 1     2     113781 151.5500 C22 C26 S       \n",
       "5 25.0000 1     2     113781 151.5500 C22 C26 S       "
      ]
     },
     "metadata": {},
     "output_type": "display_data"
    }
   ],
   "source": [
    "titanic <- read.csv('./data/titanic.csv')\n",
    "head(titanic, 5)"
   ]
  },
  {
   "cell_type": "code",
   "execution_count": 88,
   "id": "f7337d78-13e5-4b33-b6ee-88d24b3e99c5",
   "metadata": {},
   "outputs": [
    {
     "data": {
      "text/html": [
       "'29.9 14.4'"
      ],
      "text/latex": [
       "'29.9 14.4'"
      ],
      "text/markdown": [
       "'29.9 14.4'"
      ],
      "text/plain": [
       "[1] \"29.9 14.4\""
      ]
     },
     "metadata": {},
     "output_type": "display_data"
    }
   ],
   "source": [
    "paste(round(mean(titanic$age, na.rm=T), digits = 1), round(sd(titanic$age, na.rm=T), digits = 1))"
   ]
  },
  {
   "cell_type": "code",
   "execution_count": 87,
   "id": "44ae5505-ec33-4752-957e-302511aa6082",
   "metadata": {},
   "outputs": [
    {
     "data": {
      "text/html": [
       "'33.3 51.8'"
      ],
      "text/latex": [
       "'33.3 51.8'"
      ],
      "text/markdown": [
       "'33.3 51.8'"
      ],
      "text/plain": [
       "[1] \"33.3 51.8\""
      ]
     },
     "metadata": {},
     "output_type": "display_data"
    }
   ],
   "source": [
    "paste(round(mean(titanic$fare, na.rm=T), digits = 1), round(sd(titanic$fare, na.rm=T), digits = 1))"
   ]
  }
 ],
 "metadata": {
  "kernelspec": {
   "display_name": "R",
   "language": "R",
   "name": "ir"
  },
  "language_info": {
   "codemirror_mode": "r",
   "file_extension": ".r",
   "mimetype": "text/x-r-source",
   "name": "R",
   "pygments_lexer": "r",
   "version": "4.3.1"
  }
 },
 "nbformat": 4,
 "nbformat_minor": 5
}
