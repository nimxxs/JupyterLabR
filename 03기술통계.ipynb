{
 "cells": [
  {
   "cell_type": "markdown",
   "id": "ecbe871f-3f70-46fb-b0a6-c84a5c84d4da",
   "metadata": {},
   "source": [
    "# 기술통계 분석관점\n",
    "\n",
    "### 1. 중심화경향 \n",
    "  * 수집한 자료 전체를 `대표하는 값`이 무엇인지 나타내는 통계 (대표값)\n",
    "    + 평균 : 자료를 모두 더해서 전체 자료의 갯수로 나눈 값 (정량적 자료의 대표값)   \n",
    "    + 중앙값 : 자료를 크기 순으로 정렬했을 때, 중앙에 위치하는 값 (순서자료의 대표값)\n",
    "    + 최빈값 : 수집한 데이터 중 그 빈도가 가장 많이 나타나는 데이터 (명목자료의 대표값)     \n",
    "\n",
    "### 2. 분산경향 \n",
    "  * 데이터가 어떻게 `분포`되어 있는지 설명하는 통계치\n",
    "    + 범위\n",
    "    + 사분위수\n",
    "    + 분산\n",
    "    + 표준편차"
   ]
  },
  {
   "cell_type": "markdown",
   "id": "51897ae1-7794-4f05-a519-9df0718d2b4a",
   "metadata": {},
   "source": [
    "# 대표값\n",
    "### **평균 : 중심 척도의 대표적인 통계값**\n",
    "\n",
    "* 평균은 유일하다\n",
    "* 평균은 계산하기 쉽다\n",
    "* 모든 측정값을 반영한다\n",
    "* 단, 평균은 특이값(이상치)에 영향을 받는다\n",
    "* ### $\\bar x = {1 \\over n} \\sum x_i $"
   ]
  },
  {
   "cell_type": "markdown",
   "id": "825c816f-0380-4517-91aa-c9551c810bc0",
   "metadata": {},
   "source": [
    "### 평균 구해보기\n",
    "* 벡터 : R에서 1차원 데이터를 저장할 때 자주 사용하는 자료구조\n",
    "    + c(자료들...) (파이썬에 리스트와 같음)"
   ]
  },
  {
   "cell_type": "code",
   "execution_count": 9,
   "id": "73192e2f-1116-4de4-b715-29b780a0f50f",
   "metadata": {},
   "outputs": [
    {
     "name": "stdout",
     "output_type": "stream",
     "text": [
      "[1] \"55 5.5\"\n",
      "[1] 5.5\n"
     ]
    }
   ],
   "source": [
    "# 1 ~ 10 까지 정수들의 평균 : mean\n",
    "nums <- c(1,2,3,4,5,6,7,8,9,10)\n",
    "\n",
    "print(paste (sum(nums), sum(nums)/10) )\n",
    "print(mean(nums))"
   ]
  },
  {
   "cell_type": "markdown",
   "id": "7a8acd99-0d95-472e-867c-05f44577a691",
   "metadata": {},
   "source": [
    "#### 조선조 왕들의 평균 수명 조사"
   ]
  },
  {
   "cell_type": "code",
   "execution_count": 21,
   "id": "71924bd1-8bd6-48b2-91fb-a5daa8ff2cab",
   "metadata": {},
   "outputs": [
    {
     "name": "stdout",
     "output_type": "stream",
     "text": [
      "[1] 46.03704\n",
      "[1] 46\n",
      "[1] 46\n"
     ]
    }
   ],
   "source": [
    "kings <- c(73,62,45,53,38,16,51,28,37,30,56,30,33,56,66,54,40,33,59,36,82,48,44,22,32,67,52)\n",
    "\n",
    "print(mean(kings))\n",
    "print(round(mean(kings))) # 반올림 함수 : round(값, digits=소수점자리)\n",
    "print(round(mean(kings), digits = 1))"
   ]
  },
  {
   "cell_type": "markdown",
   "id": "2e26bca5-faec-45b6-9f12-bf1ee4089280",
   "metadata": {},
   "source": [
    "#### 대학원생들의 평균 나이 조사"
   ]
  },
  {
   "cell_type": "code",
   "execution_count": 24,
   "id": "ca22c89d-0352-4a82-a1e2-59612abe8e68",
   "metadata": {
    "scrolled": true
   },
   "outputs": [
    {
     "name": "stdout",
     "output_type": "stream",
     "text": [
      "[1] 20.2381\n",
      "[1] 20.2\n"
     ]
    }
   ],
   "source": [
    "stus <- c(19,18,19,21,20,24,19,19,20,18,21,22,23,21,19,18,22,24,21,18,19)\n",
    "\n",
    "print(mean(stus))\n",
    "print(round(mean(stus), digits = 1))"
   ]
  },
  {
   "cell_type": "markdown",
   "id": "9deb37ca-3e5b-4d6f-acad-86ed0e35f884",
   "metadata": {},
   "source": [
    "### 데이터파일(csv)을 이용한 평균 계산\n",
    "* read.csv() - 기본 내장 함수\n",
    "* read_csv() - readr 패키지에 포함된 함수, read.scv의 개선버전\n",
    "* fread() - data.table 패키지에 포함된 함수, 대용량 파일을 `빠르게` 척척 읽어들임"
   ]
  },
  {
   "cell_type": "code",
   "execution_count": 27,
   "id": "498b5a59-c97c-41e9-9570-e4ea10161ecc",
   "metadata": {
    "collapsed": true,
    "jupyter": {
     "outputs_hidden": true
    }
   },
   "outputs": [
    {
     "data": {
      "text/html": [
       "<table class=\"dataframe\">\n",
       "<caption>A data.frame: 5 × 3</caption>\n",
       "<thead>\n",
       "\t<tr><th></th><th scope=col>student.number</th><th scope=col>english</th><th scope=col>mathematics</th></tr>\n",
       "\t<tr><th></th><th scope=col>&lt;int&gt;</th><th scope=col>&lt;int&gt;</th><th scope=col>&lt;int&gt;</th></tr>\n",
       "</thead>\n",
       "<tbody>\n",
       "\t<tr><th scope=row>1</th><td>1</td><td>42</td><td>65</td></tr>\n",
       "\t<tr><th scope=row>2</th><td>2</td><td>69</td><td>80</td></tr>\n",
       "\t<tr><th scope=row>3</th><td>3</td><td>56</td><td>63</td></tr>\n",
       "\t<tr><th scope=row>4</th><td>4</td><td>41</td><td>63</td></tr>\n",
       "\t<tr><th scope=row>5</th><td>5</td><td>57</td><td>76</td></tr>\n",
       "</tbody>\n",
       "</table>\n"
      ],
      "text/latex": [
       "A data.frame: 5 × 3\n",
       "\\begin{tabular}{r|lll}\n",
       "  & student.number & english & mathematics\\\\\n",
       "  & <int> & <int> & <int>\\\\\n",
       "\\hline\n",
       "\t1 & 1 & 42 & 65\\\\\n",
       "\t2 & 2 & 69 & 80\\\\\n",
       "\t3 & 3 & 56 & 63\\\\\n",
       "\t4 & 4 & 41 & 63\\\\\n",
       "\t5 & 5 & 57 & 76\\\\\n",
       "\\end{tabular}\n"
      ],
      "text/markdown": [
       "\n",
       "A data.frame: 5 × 3\n",
       "\n",
       "| <!--/--> | student.number &lt;int&gt; | english &lt;int&gt; | mathematics &lt;int&gt; |\n",
       "|---|---|---|---|\n",
       "| 1 | 1 | 42 | 65 |\n",
       "| 2 | 2 | 69 | 80 |\n",
       "| 3 | 3 | 56 | 63 |\n",
       "| 4 | 4 | 41 | 63 |\n",
       "| 5 | 5 | 57 | 76 |\n",
       "\n"
      ],
      "text/plain": [
       "  student.number english mathematics\n",
       "1 1              42      65         \n",
       "2 2              69      80         \n",
       "3 3              56      63         \n",
       "4 4              41      63         \n",
       "5 5              57      76         "
      ]
     },
     "metadata": {},
     "output_type": "display_data"
    }
   ],
   "source": [
    "# read.csv를 이용해서 파일 내용을 데이터프레임에 저장\n",
    "exams <- read.csv(file = './data/exams.csv')\n",
    "head(exams, 5)  # 데이터프레임의 모든 데이터들 중 상위 5개만 출력"
   ]
  },
  {
   "cell_type": "code",
   "execution_count": 28,
   "id": "7cb577da-2bba-4f62-9b7c-ab6094d8f121",
   "metadata": {
    "collapsed": true,
    "jupyter": {
     "outputs_hidden": true
    }
   },
   "outputs": [
    {
     "data": {
      "text/html": [
       "<table class=\"dataframe\">\n",
       "<caption>A data.frame: 5 × 3</caption>\n",
       "<thead>\n",
       "\t<tr><th></th><th scope=col>student.number</th><th scope=col>english</th><th scope=col>mathematics</th></tr>\n",
       "\t<tr><th></th><th scope=col>&lt;int&gt;</th><th scope=col>&lt;int&gt;</th><th scope=col>&lt;int&gt;</th></tr>\n",
       "</thead>\n",
       "<tbody>\n",
       "\t<tr><th scope=row>46</th><td>46</td><td>45</td><td>71</td></tr>\n",
       "\t<tr><th scope=row>47</th><td>47</td><td>66</td><td>80</td></tr>\n",
       "\t<tr><th scope=row>48</th><td>48</td><td>55</td><td>77</td></tr>\n",
       "\t<tr><th scope=row>49</th><td>49</td><td>64</td><td>83</td></tr>\n",
       "\t<tr><th scope=row>50</th><td>50</td><td>66</td><td>88</td></tr>\n",
       "</tbody>\n",
       "</table>\n"
      ],
      "text/latex": [
       "A data.frame: 5 × 3\n",
       "\\begin{tabular}{r|lll}\n",
       "  & student.number & english & mathematics\\\\\n",
       "  & <int> & <int> & <int>\\\\\n",
       "\\hline\n",
       "\t46 & 46 & 45 & 71\\\\\n",
       "\t47 & 47 & 66 & 80\\\\\n",
       "\t48 & 48 & 55 & 77\\\\\n",
       "\t49 & 49 & 64 & 83\\\\\n",
       "\t50 & 50 & 66 & 88\\\\\n",
       "\\end{tabular}\n"
      ],
      "text/markdown": [
       "\n",
       "A data.frame: 5 × 3\n",
       "\n",
       "| <!--/--> | student.number &lt;int&gt; | english &lt;int&gt; | mathematics &lt;int&gt; |\n",
       "|---|---|---|---|\n",
       "| 46 | 46 | 45 | 71 |\n",
       "| 47 | 47 | 66 | 80 |\n",
       "| 48 | 48 | 55 | 77 |\n",
       "| 49 | 49 | 64 | 83 |\n",
       "| 50 | 50 | 66 | 88 |\n",
       "\n"
      ],
      "text/plain": [
       "   student.number english mathematics\n",
       "46 46             45      71         \n",
       "47 47             66      80         \n",
       "48 48             55      77         \n",
       "49 49             64      83         \n",
       "50 50             66      88         "
      ]
     },
     "metadata": {},
     "output_type": "display_data"
    }
   ],
   "source": [
    "tail(exams, 5)  # 데이터프레임의 모든 테이터들 중 하위 5개만 출력"
   ]
  },
  {
   "cell_type": "markdown",
   "id": "102f2ba8-44ac-48a0-b756-722e8cd6c808",
   "metadata": {},
   "source": [
    "### 데이터프레임 컬럼 다루기\n",
    "* df명[컬럼명]\n",
    "* df명[, 열번호]      : 특정 열만 지정시\n",
    "* df명$컬럼명         : 특정 열만 지정시\n",
    "* df명[C(열번호,..)]  : 특정 열들 지정시"
   ]
  },
  {
   "cell_type": "code",
   "execution_count": null,
   "id": "3a5a71d8-47e3-4818-b504-f1c493e7ceef",
   "metadata": {},
   "outputs": [],
   "source": [
    "head(exams['english'], 5)"
   ]
  },
  {
   "cell_type": "code",
   "execution_count": 40,
   "id": "6bdfa4e8-cc57-4de5-9b50-23b1d7142420",
   "metadata": {},
   "outputs": [
    {
     "data": {
      "text/html": [
       "<style>\n",
       ".list-inline {list-style: none; margin:0; padding: 0}\n",
       ".list-inline>li {display: inline-block}\n",
       ".list-inline>li:not(:last-child)::after {content: \"\\00b7\"; padding: 0 .5ex}\n",
       "</style>\n",
       "<ol class=list-inline><li>42</li><li>69</li><li>56</li><li>41</li><li>57</li></ol>\n"
      ],
      "text/latex": [
       "\\begin{enumerate*}\n",
       "\\item 42\n",
       "\\item 69\n",
       "\\item 56\n",
       "\\item 41\n",
       "\\item 57\n",
       "\\end{enumerate*}\n"
      ],
      "text/markdown": [
       "1. 42\n",
       "2. 69\n",
       "3. 56\n",
       "4. 41\n",
       "5. 57\n",
       "\n",
       "\n"
      ],
      "text/plain": [
       "[1] 42 69 56 41 57"
      ]
     },
     "metadata": {},
     "output_type": "display_data"
    }
   ],
   "source": [
    "head(exams[, 2], 5)  # 단일 컬럼 선택시 결과는 벡터로 출력"
   ]
  },
  {
   "cell_type": "code",
   "execution_count": 41,
   "id": "2b9ee324-82a0-4b19-acc7-b3c064cbeec7",
   "metadata": {
    "collapsed": true,
    "jupyter": {
     "outputs_hidden": true
    }
   },
   "outputs": [
    {
     "data": {
      "text/html": [
       "<table class=\"dataframe\">\n",
       "<caption>A data.frame: 5 × 1</caption>\n",
       "<thead>\n",
       "\t<tr><th></th><th scope=col>english</th></tr>\n",
       "\t<tr><th></th><th scope=col>&lt;int&gt;</th></tr>\n",
       "</thead>\n",
       "<tbody>\n",
       "\t<tr><th scope=row>1</th><td>42</td></tr>\n",
       "\t<tr><th scope=row>2</th><td>69</td></tr>\n",
       "\t<tr><th scope=row>3</th><td>56</td></tr>\n",
       "\t<tr><th scope=row>4</th><td>41</td></tr>\n",
       "\t<tr><th scope=row>5</th><td>57</td></tr>\n",
       "</tbody>\n",
       "</table>\n"
      ],
      "text/latex": [
       "A data.frame: 5 × 1\n",
       "\\begin{tabular}{r|l}\n",
       "  & english\\\\\n",
       "  & <int>\\\\\n",
       "\\hline\n",
       "\t1 & 42\\\\\n",
       "\t2 & 69\\\\\n",
       "\t3 & 56\\\\\n",
       "\t4 & 41\\\\\n",
       "\t5 & 57\\\\\n",
       "\\end{tabular}\n"
      ],
      "text/markdown": [
       "\n",
       "A data.frame: 5 × 1\n",
       "\n",
       "| <!--/--> | english &lt;int&gt; |\n",
       "|---|---|\n",
       "| 1 | 42 |\n",
       "| 2 | 69 |\n",
       "| 3 | 56 |\n",
       "| 4 | 41 |\n",
       "| 5 | 57 |\n",
       "\n"
      ],
      "text/plain": [
       "  english\n",
       "1 42     \n",
       "2 69     \n",
       "3 56     \n",
       "4 41     \n",
       "5 57     "
      ]
     },
     "metadata": {},
     "output_type": "display_data"
    }
   ],
   "source": [
    "head(exams[c(2)], 5)  # 다중 컬럼 선택시 결과는 데이터프레임으로 출력"
   ]
  },
  {
   "cell_type": "code",
   "execution_count": 39,
   "id": "913f635f-9aa2-47ed-9fd4-9feede762526",
   "metadata": {},
   "outputs": [
    {
     "data": {
      "text/html": [
       "58.38"
      ],
      "text/latex": [
       "58.38"
      ],
      "text/markdown": [
       "58.38"
      ],
      "text/plain": [
       "[1] 58.38"
      ]
     },
     "metadata": {},
     "output_type": "display_data"
    }
   ],
   "source": [
    "# 영어과목 평균 구하기\n",
    "sum(exams['english']) / 50"
   ]
  },
  {
   "cell_type": "code",
   "execution_count": 43,
   "id": "606df6d4-4520-409a-b2d1-5ec155487c34",
   "metadata": {},
   "outputs": [
    {
     "data": {
      "text/html": [
       "58.38"
      ],
      "text/latex": [
       "58.38"
      ],
      "text/markdown": [
       "58.38"
      ],
      "text/plain": [
       "[1] 58.38"
      ]
     },
     "metadata": {},
     "output_type": "display_data"
    }
   ],
   "source": [
    "mean(exams[, 2])"
   ]
  },
  {
   "cell_type": "code",
   "execution_count": 44,
   "id": "19b81be3-2e20-4804-a791-d5d29bb1d782",
   "metadata": {},
   "outputs": [
    {
     "data": {
      "text/html": [
       "78.88"
      ],
      "text/latex": [
       "78.88"
      ],
      "text/markdown": [
       "78.88"
      ],
      "text/plain": [
       "[1] 78.88"
      ]
     },
     "metadata": {},
     "output_type": "display_data"
    }
   ],
   "source": [
    "# 수학과목 평균 구하기\n",
    "sum(exams['mathematics']) / 50"
   ]
  },
  {
   "cell_type": "code",
   "execution_count": 45,
   "id": "6b577b9e-0227-4bf5-90b4-18d8e4d5ccc4",
   "metadata": {},
   "outputs": [
    {
     "data": {
      "text/html": [
       "78.88"
      ],
      "text/latex": [
       "78.88"
      ],
      "text/markdown": [
       "78.88"
      ],
      "text/plain": [
       "[1] 78.88"
      ]
     },
     "metadata": {},
     "output_type": "display_data"
    }
   ],
   "source": [
    "mean(exams[, 3])"
   ]
  },
  {
   "cell_type": "markdown",
   "id": "116d4772-d64e-4628-bfd4-596f8077a195",
   "metadata": {},
   "source": [
    "### 데이터프레임에 집계함수 적용하기\n",
    "* apply(df명, 적용방향, 집계함수)\n",
    "* 적용방향은 1은 가로, 2는 세로임"
   ]
  },
  {
   "cell_type": "code",
   "execution_count": 47,
   "id": "b63b33b4-38b2-4022-befc-e88fcaee5707",
   "metadata": {},
   "outputs": [
    {
     "data": {
      "text/html": [
       "<style>\n",
       ".dl-inline {width: auto; margin:0; padding: 0}\n",
       ".dl-inline>dt, .dl-inline>dd {float: none; width: auto; display: inline-block}\n",
       ".dl-inline>dt::after {content: \":\\0020\"; padding-right: .5ex}\n",
       ".dl-inline>dt:not(:first-of-type) {padding-left: .5ex}\n",
       "</style><dl class=dl-inline><dt>english</dt><dd>58.38</dd><dt>mathematics</dt><dd>78.88</dd></dl>\n"
      ],
      "text/latex": [
       "\\begin{description*}\n",
       "\\item[english] 58.38\n",
       "\\item[mathematics] 78.88\n",
       "\\end{description*}\n"
      ],
      "text/markdown": [
       "english\n",
       ":   58.38mathematics\n",
       ":   78.88\n",
       "\n"
      ],
      "text/plain": [
       "    english mathematics \n",
       "      58.38       78.88 "
      ]
     },
     "metadata": {},
     "output_type": "display_data"
    }
   ],
   "source": [
    "apply(exams[c(2,3)], 2, mean)"
   ]
  },
  {
   "cell_type": "code",
   "execution_count": 48,
   "id": "aec3e67d-d96d-4a96-aded-15fdd6f58c90",
   "metadata": {},
   "outputs": [
    {
     "data": {
      "text/html": [
       "<style>\n",
       ".dl-inline {width: auto; margin:0; padding: 0}\n",
       ".dl-inline>dt, .dl-inline>dd {float: none; width: auto; display: inline-block}\n",
       ".dl-inline>dt::after {content: \":\\0020\"; padding-right: .5ex}\n",
       ".dl-inline>dt:not(:first-of-type) {padding-left: .5ex}\n",
       "</style><dl class=dl-inline><dt>english</dt><dd>58.38</dd><dt>mathematics</dt><dd>78.88</dd></dl>\n"
      ],
      "text/latex": [
       "\\begin{description*}\n",
       "\\item[english] 58.38\n",
       "\\item[mathematics] 78.88\n",
       "\\end{description*}\n"
      ],
      "text/markdown": [
       "english\n",
       ":   58.38mathematics\n",
       ":   78.88\n",
       "\n"
      ],
      "text/plain": [
       "    english mathematics \n",
       "      58.38       78.88 "
      ]
     },
     "metadata": {},
     "output_type": "display_data"
    }
   ],
   "source": [
    "apply(exams[, -1], 2, mean)"
   ]
  },
  {
   "cell_type": "markdown",
   "id": "82132d74-0216-478b-ab3e-551f7dd0e638",
   "metadata": {},
   "source": [
    "### 혈당검사 데이터를 이용해서 각 테스트에 대한 평균 조사"
   ]
  },
  {
   "cell_type": "code",
   "execution_count": 60,
   "id": "de9dc339-93a6-4004-95e3-2c56d9931877",
   "metadata": {},
   "outputs": [
    {
     "data": {
      "text/html": [
       "<table class=\"dataframe\">\n",
       "<caption>A data.frame: 5 × 5</caption>\n",
       "<thead>\n",
       "\t<tr><th></th><th scope=col>ID</th><th scope=col>Gender</th><th scope=col>Treatment</th><th scope=col>Test1</th><th scope=col>Test2</th></tr>\n",
       "\t<tr><th></th><th scope=col>&lt;int&gt;</th><th scope=col>&lt;chr&gt;</th><th scope=col>&lt;chr&gt;</th><th scope=col>&lt;int&gt;</th><th scope=col>&lt;int&gt;</th></tr>\n",
       "</thead>\n",
       "<tbody>\n",
       "\t<tr><th scope=row>1</th><td>1</td><td>Male  </td><td>Control     </td><td>98</td><td>32</td></tr>\n",
       "\t<tr><th scope=row>2</th><td>2</td><td>Female</td><td>Experimental</td><td>87</td><td>33</td></tr>\n",
       "\t<tr><th scope=row>3</th><td>3</td><td>Female</td><td>Control     </td><td>89</td><td>54</td></tr>\n",
       "\t<tr><th scope=row>4</th><td>4</td><td>Female</td><td>Control     </td><td>88</td><td>44</td></tr>\n",
       "\t<tr><th scope=row>5</th><td>5</td><td>Male  </td><td>Experimental</td><td>76</td><td>64</td></tr>\n",
       "</tbody>\n",
       "</table>\n"
      ],
      "text/latex": [
       "A data.frame: 5 × 5\n",
       "\\begin{tabular}{r|lllll}\n",
       "  & ID & Gender & Treatment & Test1 & Test2\\\\\n",
       "  & <int> & <chr> & <chr> & <int> & <int>\\\\\n",
       "\\hline\n",
       "\t1 & 1 & Male   & Control      & 98 & 32\\\\\n",
       "\t2 & 2 & Female & Experimental & 87 & 33\\\\\n",
       "\t3 & 3 & Female & Control      & 89 & 54\\\\\n",
       "\t4 & 4 & Female & Control      & 88 & 44\\\\\n",
       "\t5 & 5 & Male   & Experimental & 76 & 64\\\\\n",
       "\\end{tabular}\n"
      ],
      "text/markdown": [
       "\n",
       "A data.frame: 5 × 5\n",
       "\n",
       "| <!--/--> | ID &lt;int&gt; | Gender &lt;chr&gt; | Treatment &lt;chr&gt; | Test1 &lt;int&gt; | Test2 &lt;int&gt; |\n",
       "|---|---|---|---|---|---|\n",
       "| 1 | 1 | Male   | Control      | 98 | 32 |\n",
       "| 2 | 2 | Female | Experimental | 87 | 33 |\n",
       "| 3 | 3 | Female | Control      | 89 | 54 |\n",
       "| 4 | 4 | Female | Control      | 88 | 44 |\n",
       "| 5 | 5 | Male   | Experimental | 76 | 64 |\n",
       "\n"
      ],
      "text/plain": [
       "  ID Gender Treatment    Test1 Test2\n",
       "1 1  Male   Control      98    32   \n",
       "2 2  Female Experimental 87    33   \n",
       "3 3  Female Control      89    54   \n",
       "4 4  Female Control      88    44   \n",
       "5 5  Male   Experimental 76    64   "
      ]
     },
     "metadata": {},
     "output_type": "display_data"
    }
   ],
   "source": [
    "bloods <- read.csv(file = './data/drugtests.csv')\n",
    "head(bloods, 5)"
   ]
  },
  {
   "cell_type": "code",
   "execution_count": 61,
   "id": "8640625e-c758-434c-81f4-0f736a315434",
   "metadata": {},
   "outputs": [
    {
     "data": {
      "text/html": [
       "<style>\n",
       ".dl-inline {width: auto; margin:0; padding: 0}\n",
       ".dl-inline>dt, .dl-inline>dd {float: none; width: auto; display: inline-block}\n",
       ".dl-inline>dt::after {content: \":\\0020\"; padding-right: .5ex}\n",
       ".dl-inline>dt:not(:first-of-type) {padding-left: .5ex}\n",
       "</style><dl class=dl-inline><dt>Test1</dt><dd>83.52</dd><dt>Test2</dt><dd>64.24</dd></dl>\n"
      ],
      "text/latex": [
       "\\begin{description*}\n",
       "\\item[Test1] 83.52\n",
       "\\item[Test2] 64.24\n",
       "\\end{description*}\n"
      ],
      "text/markdown": [
       "Test1\n",
       ":   83.52Test2\n",
       ":   64.24\n",
       "\n"
      ],
      "text/plain": [
       "Test1 Test2 \n",
       "83.52 64.24 "
      ]
     },
     "metadata": {},
     "output_type": "display_data"
    }
   ],
   "source": [
    "apply(bloods[c(4,5)], 2, mean)"
   ]
  },
  {
   "cell_type": "markdown",
   "id": "d764082b-73cc-4b93-be71-e396c1dff0b5",
   "metadata": {},
   "source": [
    "### 데이터 요약하기\n",
    "* dim : 데이터의 행열 구성 확인\n",
    "* str : 데이터의 전반적인 구조 확인\n",
    "* summary"
   ]
  },
  {
   "cell_type": "code",
   "execution_count": 62,
   "id": "c62c4608-7f52-45d5-a490-81c8e69826e3",
   "metadata": {},
   "outputs": [
    {
     "data": {
      "text/plain": [
       "NULL"
      ]
     },
     "metadata": {},
     "output_type": "display_data"
    }
   ],
   "source": [
    "dim(kings)  # 벡터는 NULL로 출력!"
   ]
  },
  {
   "cell_type": "code",
   "execution_count": 63,
   "id": "4611321a-476c-4a37-a5f8-55521ed5f974",
   "metadata": {},
   "outputs": [
    {
     "data": {
      "text/html": [
       "<style>\n",
       ".list-inline {list-style: none; margin:0; padding: 0}\n",
       ".list-inline>li {display: inline-block}\n",
       ".list-inline>li:not(:last-child)::after {content: \"\\00b7\"; padding: 0 .5ex}\n",
       "</style>\n",
       "<ol class=list-inline><li>50</li><li>3</li></ol>\n"
      ],
      "text/latex": [
       "\\begin{enumerate*}\n",
       "\\item 50\n",
       "\\item 3\n",
       "\\end{enumerate*}\n"
      ],
      "text/markdown": [
       "1. 50\n",
       "2. 3\n",
       "\n",
       "\n"
      ],
      "text/plain": [
       "[1] 50  3"
      ]
     },
     "metadata": {},
     "output_type": "display_data"
    }
   ],
   "source": [
    "dim(exams)"
   ]
  },
  {
   "cell_type": "code",
   "execution_count": 64,
   "id": "c20ac4bf-5cc1-4df7-a97d-556c3d328aac",
   "metadata": {},
   "outputs": [
    {
     "data": {
      "text/html": [
       "<style>\n",
       ".list-inline {list-style: none; margin:0; padding: 0}\n",
       ".list-inline>li {display: inline-block}\n",
       ".list-inline>li:not(:last-child)::after {content: \"\\00b7\"; padding: 0 .5ex}\n",
       "</style>\n",
       "<ol class=list-inline><li>25</li><li>5</li></ol>\n"
      ],
      "text/latex": [
       "\\begin{enumerate*}\n",
       "\\item 25\n",
       "\\item 5\n",
       "\\end{enumerate*}\n"
      ],
      "text/markdown": [
       "1. 25\n",
       "2. 5\n",
       "\n",
       "\n"
      ],
      "text/plain": [
       "[1] 25  5"
      ]
     },
     "metadata": {},
     "output_type": "display_data"
    }
   ],
   "source": [
    "dim(bloods)"
   ]
  },
  {
   "cell_type": "code",
   "execution_count": 65,
   "id": "744676cf-205c-4fe7-b8f1-cc0b562ce54b",
   "metadata": {},
   "outputs": [
    {
     "name": "stdout",
     "output_type": "stream",
     "text": [
      " num [1:27] 73 62 45 53 38 16 51 28 37 30 ...\n"
     ]
    }
   ],
   "source": [
    "str(kings)"
   ]
  },
  {
   "cell_type": "code",
   "execution_count": 66,
   "id": "42415b56-302a-48d8-94d5-a64e9883013d",
   "metadata": {},
   "outputs": [
    {
     "name": "stdout",
     "output_type": "stream",
     "text": [
      "'data.frame':\t50 obs. of  3 variables:\n",
      " $ student.number: int  1 2 3 4 5 6 7 8 9 10 ...\n",
      " $ english       : int  42 69 56 41 57 48 65 49 65 58 ...\n",
      " $ mathematics   : int  65 80 63 63 76 60 81 66 78 82 ...\n"
     ]
    }
   ],
   "source": [
    "str(exams)"
   ]
  },
  {
   "cell_type": "code",
   "execution_count": 67,
   "id": "e510d862-df02-4255-b568-5aa59d8db7ed",
   "metadata": {},
   "outputs": [
    {
     "name": "stdout",
     "output_type": "stream",
     "text": [
      "'data.frame':\t25 obs. of  5 variables:\n",
      " $ ID       : int  1 2 3 4 5 6 7 8 9 10 ...\n",
      " $ Gender   : chr  \"Male\" \"Female\" \"Female\" \"Female\" ...\n",
      " $ Treatment: chr  \"Control\" \"Experimental\" \"Control\" \"Control\" ...\n",
      " $ Test1    : int  98 87 89 88 76 68 78 98 93 76 ...\n",
      " $ Test2    : int  32 33 54 44 64 54 44 32 64 37 ...\n"
     ]
    }
   ],
   "source": [
    "str(bloods)"
   ]
  },
  {
   "cell_type": "code",
   "execution_count": 68,
   "id": "7e7bde7e-e93e-4256-82b5-629444fe5e16",
   "metadata": {},
   "outputs": [
    {
     "data": {
      "text/plain": [
       "   Min. 1st Qu.  Median    Mean 3rd Qu.    Max. \n",
       "  16.00   33.00   45.00   46.04   56.00   82.00 "
      ]
     },
     "metadata": {},
     "output_type": "display_data"
    }
   ],
   "source": [
    "summary(kings)"
   ]
  },
  {
   "cell_type": "code",
   "execution_count": 69,
   "id": "2910c6c2-d3dd-4523-bd7f-d9d5d9b83e86",
   "metadata": {},
   "outputs": [
    {
     "data": {
      "text/plain": [
       " student.number     english       mathematics   \n",
       " Min.   : 1.00   Min.   :37.00   Min.   :57.00  \n",
       " 1st Qu.:13.25   1st Qu.:54.00   1st Qu.:76.00  \n",
       " Median :25.50   Median :57.50   Median :80.00  \n",
       " Mean   :25.50   Mean   :58.38   Mean   :78.88  \n",
       " 3rd Qu.:37.75   3rd Qu.:65.00   3rd Qu.:84.00  \n",
       " Max.   :50.00   Max.   :79.00   Max.   :94.00  "
      ]
     },
     "metadata": {},
     "output_type": "display_data"
    }
   ],
   "source": [
    "summary(exams)"
   ]
  },
  {
   "cell_type": "code",
   "execution_count": 70,
   "id": "a2509370-6764-471d-b0ab-38a23cb54f48",
   "metadata": {},
   "outputs": [
    {
     "data": {
      "text/plain": [
       "       ID        Gender           Treatment             Test1      \n",
       " Min.   : 1   Length:25          Length:25          Min.   :65.00  \n",
       " 1st Qu.: 7   Class :character   Class :character   1st Qu.:77.00  \n",
       " Median :13   Mode  :character   Mode  :character   Median :86.00  \n",
       " Mean   :13                                         Mean   :83.52  \n",
       " 3rd Qu.:19                                         3rd Qu.:89.00  \n",
       " Max.   :25                                         Max.   :98.00  \n",
       "     Test2      \n",
       " Min.   :32.00  \n",
       " 1st Qu.:44.00  \n",
       " Median :64.00  \n",
       " Mean   :64.24  \n",
       " 3rd Qu.:81.00  \n",
       " Max.   :99.00  "
      ]
     },
     "metadata": {},
     "output_type": "display_data"
    }
   ],
   "source": [
    "summary(bloods)"
   ]
  },
  {
   "cell_type": "markdown",
   "id": "a7f78f2a-415d-46b4-a031-0f9ee9fa8f08",
   "metadata": {},
   "source": [
    "# 중앙값median\n",
    "* 자료를 오름차순으로 나열한 후 가장 가운데 놓인 수\n",
    "* 특이값의 영향을 받는 평균을 보완한 수치\n",
    "* 자료 갯수가 짝수인 경우와 홀수인 경우 계산하는 방법이 다름\n",
    "  + 데이터의 개수 $n$이 홀수라면, $\\frac{(n+1)}{2} $번째 데이터가 중앙값\n",
    "  + 데이터의 개수 $n$이 짝수라면, $\\frac{n}{2}$번째 데이터와 $\\frac{n}{2} + 1$번째 데이터의 평균이 중앙값"
   ]
  },
  {
   "cell_type": "markdown",
   "id": "56e9a67f-89b4-4df0-8bd9-0a6fc3f02caa",
   "metadata": {},
   "source": [
    "#### 조선조 왕들의 수명의 중앙값 조사"
   ]
  },
  {
   "cell_type": "code",
   "execution_count": 73,
   "id": "240e6e4f-b47f-4ad2-aad9-82c009a56963",
   "metadata": {},
   "outputs": [
    {
     "data": {
      "text/html": [
       "'46.037037037037 45'"
      ],
      "text/latex": [
       "'46.037037037037 45'"
      ],
      "text/markdown": [
       "'46.037037037037 45'"
      ],
      "text/plain": [
       "[1] \"46.037037037037 45\""
      ]
     },
     "metadata": {},
     "output_type": "display_data"
    }
   ],
   "source": [
    "paste(mean(kings), median(kings))  # 중앙값은 평균값보다 작게 나옴"
   ]
  },
  {
   "cell_type": "code",
   "execution_count": 75,
   "id": "3e4cc310-3b19-428f-977c-614c1a9f38ad",
   "metadata": {},
   "outputs": [
    {
     "name": "stdout",
     "output_type": "stream",
     "text": [
      " [1] 73 62 45 53 38 16 51 28 37 30 56 30 33 56 66 54 40 33 59 36 82 48 44 22 32\n",
      "[26] 67 52\n"
     ]
    }
   ],
   "source": [
    "print(kings)"
   ]
  },
  {
   "cell_type": "code",
   "execution_count": 77,
   "id": "0b787d0e-f094-4315-a013-08a81bd68ad3",
   "metadata": {},
   "outputs": [
    {
     "name": "stdout",
     "output_type": "stream",
     "text": [
      " [1] 16 22 28 30 30 32 33 33 36 37 38 40 44 45 48 51 52 53 54 56 56 59 62 66 67\n",
      "[26] 73 82\n"
     ]
    }
   ],
   "source": [
    "print(sort(kings))  # 벡터의 요소를 오름차순 정렬함"
   ]
  },
  {
   "cell_type": "code",
   "execution_count": 87,
   "id": "25394b2b-7a94-4990-9bfd-4eaa01123a5f",
   "metadata": {},
   "outputs": [
    {
     "data": {
      "text/html": [
       "14"
      ],
      "text/latex": [
       "14"
      ],
      "text/markdown": [
       "14"
      ],
      "text/plain": [
       "[1] 14"
      ]
     },
     "metadata": {},
     "output_type": "display_data"
    }
   ],
   "source": [
    "# 벡터의 요소들 중 정중앙에 위치한 값을 알아내기 위해 위치값 계산\n",
    "cnt <- length(kings)\n",
    "pos <- ceiling((cnt / 2)) # 위치값 계산\n",
    "pos                       # 인덱스가 0부터 시작하므로"
   ]
  },
  {
   "cell_type": "code",
   "execution_count": 88,
   "id": "422060f5-d636-4460-9055-6330494707f1",
   "metadata": {},
   "outputs": [
    {
     "data": {
      "text/html": [
       "45"
      ],
      "text/latex": [
       "45"
      ],
      "text/markdown": [
       "45"
      ],
      "text/plain": [
       "[1] 45"
      ]
     },
     "metadata": {},
     "output_type": "display_data"
    }
   ],
   "source": [
    "sort(kings)[pos]"
   ]
  },
  {
   "cell_type": "markdown",
   "id": "4c31280a-ed71-435b-9ffd-ed2888c7b1bd",
   "metadata": {},
   "source": [
    "#### 대학원생들의 나이의 중앙값 조사"
   ]
  },
  {
   "cell_type": "code",
   "execution_count": 74,
   "id": "154ac81c-0522-4c3c-91b0-945a98293538",
   "metadata": {},
   "outputs": [
    {
     "data": {
      "text/html": [
       "'20.2380952380952 20'"
      ],
      "text/latex": [
       "'20.2380952380952 20'"
      ],
      "text/markdown": [
       "'20.2380952380952 20'"
      ],
      "text/plain": [
       "[1] \"20.2380952380952 20\""
      ]
     },
     "metadata": {},
     "output_type": "display_data"
    }
   ],
   "source": [
    "paste(mean(stus), median(stus))"
   ]
  },
  {
   "cell_type": "markdown",
   "id": "e9d16073-74d0-457c-81a0-5e92c86611c1",
   "metadata": {},
   "source": [
    "### 최빈값\n",
    "* 데이터들 중에서 빈도(frequency)가 가장 큰 값\n",
    "* 두번 이상 발생하는 자료 중에서 자주 나타나는 자료값\n",
    "* 극단값에 전혀 영향을 받지 않음\n",
    "* 존재하지 않거나 여러개 존재할 수 있음"
   ]
  },
  {
   "cell_type": "markdown",
   "id": "d8ad5ea0-7cad-492e-aac5-41cf3a516bb9",
   "metadata": {},
   "source": [
    "#### 조선조 왕들의 수명의 최빈값 조사"
   ]
  },
  {
   "cell_type": "code",
   "execution_count": 91,
   "id": "62b321ff-0b05-4fcc-a012-f7d59116c354",
   "metadata": {},
   "outputs": [
    {
     "data": {
      "text/plain": [
       "kings\n",
       "16 22 28 30 32 33 36 37 38 40 44 45 48 51 52 53 54 56 59 62 66 67 73 82 \n",
       " 1  1  1  2  1  2  1  1  1  1  1  1  1  1  1  1  1  2  1  1  1  1  1  1 "
      ]
     },
     "metadata": {},
     "output_type": "display_data"
    }
   ],
   "source": [
    "# 벡터에 대한 빈도표 작성 : table\n",
    "frq <- table(kings)\n",
    "frq"
   ]
  },
  {
   "cell_type": "code",
   "execution_count": 97,
   "id": "39a12803-a4d2-4b08-9126-92d80b145b06",
   "metadata": {},
   "outputs": [
    {
     "name": "stdout",
     "output_type": "stream",
     "text": [
      "[1] 2\n",
      "30 33 56 \n",
      " 4  6 18 \n",
      "kings\n",
      "30 33 37 \n",
      " 2  2  1 \n",
      "[1] \"30\" \"33\" \"37\"\n"
     ]
    }
   ],
   "source": [
    "print(max(frq))               # 최대값, 빈도 구하고\n",
    "print(which(frq == max(frq))) # 위치 구하고\n",
    "print(frq[c(4,6,8)])          # 조사?하고\n",
    "print(names(frq[c(4,6,8)]))   # 이름 출력하고"
   ]
  },
  {
   "cell_type": "code",
   "execution_count": 93,
   "id": "f5132c70-7c37-4f8e-9f96-1687d5db4157",
   "metadata": {},
   "outputs": [
    {
     "data": {
      "text/html": [
       "<style>\n",
       ".list-inline {list-style: none; margin:0; padding: 0}\n",
       ".list-inline>li {display: inline-block}\n",
       ".list-inline>li:not(:last-child)::after {content: \"\\00b7\"; padding: 0 .5ex}\n",
       "</style>\n",
       "<ol class=list-inline><li>'30'</li><li>'33'</li><li>'56'</li></ol>\n"
      ],
      "text/latex": [
       "\\begin{enumerate*}\n",
       "\\item '30'\n",
       "\\item '33'\n",
       "\\item '56'\n",
       "\\end{enumerate*}\n"
      ],
      "text/markdown": [
       "1. '30'\n",
       "2. '33'\n",
       "3. '56'\n",
       "\n",
       "\n"
      ],
      "text/plain": [
       "[1] \"30\" \"33\" \"56\""
      ]
     },
     "metadata": {},
     "output_type": "display_data"
    }
   ],
   "source": [
    "# names : 데이터 프레임에서 특정 요소의 컬럼명 출력\n",
    "# which : 벡터 중 특정 요소의 위치를 출력\n",
    "# max : 벡터에서 가장 큰 값을 출력\n",
    "names(frq)[which(frq == max(frq))]"
   ]
  },
  {
   "cell_type": "markdown",
   "id": "ac1a0cf1-98b7-4d82-ae2c-fbdc8af220bc",
   "metadata": {},
   "source": [
    "#### 대학원생들의 나이의 최빈값 조사"
   ]
  },
  {
   "cell_type": "code",
   "execution_count": 104,
   "id": "a4dc9345-1799-46cf-9aa4-206746965344",
   "metadata": {},
   "outputs": [
    {
     "name": "stdout",
     "output_type": "stream",
     "text": [
      "stus\n",
      "18 19 20 21 22 23 24 \n",
      " 4  6  2  4  2  1  2 \n"
     ]
    }
   ],
   "source": [
    "frq2 <- table(stus)\n",
    "print(frq2)"
   ]
  },
  {
   "cell_type": "code",
   "execution_count": 105,
   "id": "3f1bf04d-5c41-4f9f-8ed5-b17ba8962534",
   "metadata": {},
   "outputs": [
    {
     "data": {
      "text/html": [
       "'19'"
      ],
      "text/latex": [
       "'19'"
      ],
      "text/markdown": [
       "'19'"
      ],
      "text/plain": [
       "[1] \"19\""
      ]
     },
     "metadata": {},
     "output_type": "display_data"
    }
   ],
   "source": [
    "names(frq2[which(frq2 == max(frq2))])"
   ]
  },
  {
   "cell_type": "markdown",
   "id": "73130783-1075-4d78-8416-95a501a448db",
   "metadata": {},
   "source": [
    "### 핫도그 먹기대회 기술통계"
   ]
  },
  {
   "cell_type": "code",
   "execution_count": 107,
   "id": "dd9efae7-9f29-48d9-b9b8-f56722184d2d",
   "metadata": {
    "collapsed": true,
    "jupyter": {
     "outputs_hidden": true
    }
   },
   "outputs": [
    {
     "name": "stdout",
     "output_type": "stream",
     "text": [
      "   Year                       Winner Dogs.eaten       Country New.record\n",
      "1  1980 Paul Siederman & Joe Baldini       9.10 United States          0\n",
      "2  1981              Thomas DeBerry       11.00 United States          0\n",
      "3  1982               Steven Abrams       11.00 United States          0\n",
      "4  1983                 Luis Llamas       19.50        Mexico          0\n",
      "5  1984               Birgit Felden        9.50       Germany          0\n",
      "6  1985             Oscar Rodriguez       11.75 United States          0\n",
      "7  1986                 Mark Heller       15.50 United States          0\n",
      "8  1987                 Don Wolfman       12.00 United States          0\n",
      "9  1988                   Jay Green       14.00 United States          0\n",
      "10 1989                   Jay Green       13.00 United States          0\n",
      "11 1990                 Mike DeVito       16.00 United States          0\n",
      "12 1991             Frank Dellarosa       21.50 United States          1\n",
      "13 1992             Frank Dellarosa       19.00 United States          0\n",
      "14 1993                 Mike DeVito       17.00 United States          0\n",
      "15 1994                 Mike DeVito       20.00 United States          0\n",
      "16 1995              Edward Krachie       19.50 United States          0\n",
      "17 1996              Edward Krachie       22.25 United States          1\n",
      "18 1997           Hirofumi Nakajima       24.50         Japan          1\n",
      "19 1998           Hirofumi Nakajima       19.00         Japan          0\n",
      "20 1999                Steve Keiner       20.25 United States          0\n",
      "21 2000  Kazutoyo \"The Rabbit\" Arai       25.13         Japan          1\n",
      "22 2001            Takeru Kobayashi       50.00         Japan          1\n",
      "23 2002            Takeru Kobayashi       50.50         Japan          1\n",
      "24 2003            Takeru Kobayashi       44.50         Japan          0\n",
      "25 2004            Takeru Kobayashi       53.50         Japan          1\n",
      "26 2005            Takeru Kobayashi       49.00         Japan          0\n",
      "27 2006  Takeru \"Tsunami\" Kobayashi       53.75         Japan          1\n",
      "28 2007               Joey Chestnut       66.00 United States          1\n",
      "29 2008               Joey Chestnut       59.00 United States          0\n",
      "30 2009               Joey Chestnut       68.00 United States          1\n",
      "31 2010               Joey Chestnut       54.00 United States          0\n"
     ]
    }
   ],
   "source": [
    "hot <- read.csv(file = './data/hotdog.csv')\n",
    "print(hot)"
   ]
  },
  {
   "cell_type": "code",
   "execution_count": 126,
   "id": "60f26573-78bf-47c8-8fd3-0f5fef8fec16",
   "metadata": {
    "collapsed": true,
    "jupyter": {
     "outputs_hidden": true
    }
   },
   "outputs": [
    {
     "name": "stdout",
     "output_type": "stream",
     "text": [
      "'data.frame':\t31 obs. of  5 variables:\n",
      " $ Year      : int  1980 1981 1982 1983 1984 1985 1986 1987 1988 1989 ...\n",
      " $ Winner    : chr  \"Paul Siederman & Joe Baldini\" \"Thomas DeBerry \" \"Steven Abrams \" \"Luis Llamas \" ...\n",
      " $ Dogs.eaten: num  9.1 11 11 19.5 9.5 ...\n",
      " $ Country   : chr  \"United States\" \"United States\" \"United States\" \"Mexico\" ...\n",
      " $ New.record: int  0 0 0 0 0 0 0 0 0 0 ...\n"
     ]
    }
   ],
   "source": [
    "str(hot)"
   ]
  },
  {
   "cell_type": "code",
   "execution_count": 145,
   "id": "d138c523-8964-42eb-bbb9-16ab2d0fa851",
   "metadata": {},
   "outputs": [
    {
     "data": {
      "text/html": [
       "<style>\n",
       ".list-inline {list-style: none; margin:0; padding: 0}\n",
       ".list-inline>li {display: inline-block}\n",
       ".list-inline>li:not(:last-child)::after {content: \"\\00b7\"; padding: 0 .5ex}\n",
       "</style>\n",
       "<ol class=list-inline><li>9.1</li><li>11</li><li>11</li><li>19.5</li><li>9.5</li><li>11.75</li><li>15.5</li><li>12</li><li>14</li><li>13</li><li>16</li><li>21.5</li><li>19</li><li>17</li><li>20</li><li>19.5</li><li>22.25</li><li>24.5</li><li>19</li><li>20.25</li><li>25.13</li><li>50</li><li>50.5</li><li>44.5</li><li>53.5</li><li>49</li><li>53.75</li><li>66</li><li>59</li><li>68</li><li>54</li></ol>\n"
      ],
      "text/latex": [
       "\\begin{enumerate*}\n",
       "\\item 9.1\n",
       "\\item 11\n",
       "\\item 11\n",
       "\\item 19.5\n",
       "\\item 9.5\n",
       "\\item 11.75\n",
       "\\item 15.5\n",
       "\\item 12\n",
       "\\item 14\n",
       "\\item 13\n",
       "\\item 16\n",
       "\\item 21.5\n",
       "\\item 19\n",
       "\\item 17\n",
       "\\item 20\n",
       "\\item 19.5\n",
       "\\item 22.25\n",
       "\\item 24.5\n",
       "\\item 19\n",
       "\\item 20.25\n",
       "\\item 25.13\n",
       "\\item 50\n",
       "\\item 50.5\n",
       "\\item 44.5\n",
       "\\item 53.5\n",
       "\\item 49\n",
       "\\item 53.75\n",
       "\\item 66\n",
       "\\item 59\n",
       "\\item 68\n",
       "\\item 54\n",
       "\\end{enumerate*}\n"
      ],
      "text/markdown": [
       "1. 9.1\n",
       "2. 11\n",
       "3. 11\n",
       "4. 19.5\n",
       "5. 9.5\n",
       "6. 11.75\n",
       "7. 15.5\n",
       "8. 12\n",
       "9. 14\n",
       "10. 13\n",
       "11. 16\n",
       "12. 21.5\n",
       "13. 19\n",
       "14. 17\n",
       "15. 20\n",
       "16. 19.5\n",
       "17. 22.25\n",
       "18. 24.5\n",
       "19. 19\n",
       "20. 20.25\n",
       "21. 25.13\n",
       "22. 50\n",
       "23. 50.5\n",
       "24. 44.5\n",
       "25. 53.5\n",
       "26. 49\n",
       "27. 53.75\n",
       "28. 66\n",
       "29. 59\n",
       "30. 68\n",
       "31. 54\n",
       "\n",
       "\n"
      ],
      "text/plain": [
       " [1]  9.10 11.00 11.00 19.50  9.50 11.75 15.50 12.00 14.00 13.00 16.00 21.50\n",
       "[13] 19.00 17.00 20.00 19.50 22.25 24.50 19.00 20.25 25.13 50.00 50.50 44.50\n",
       "[25] 53.50 49.00 53.75 66.00 59.00 68.00 54.00"
      ]
     },
     "metadata": {},
     "output_type": "display_data"
    }
   ],
   "source": [
    "hot$Dogs.eaten  # 오... 이렇게 하면 열의 데이터를 가져옴"
   ]
  },
  {
   "cell_type": "code",
   "execution_count": 129,
   "id": "2e8785d9-e029-45a2-b0b8-44e27cd1c044",
   "metadata": {},
   "outputs": [
    {
     "data": {
      "text/html": [
       "28.99"
      ],
      "text/latex": [
       "28.99"
      ],
      "text/markdown": [
       "28.99"
      ],
      "text/plain": [
       "[1] 28.99"
      ]
     },
     "metadata": {},
     "output_type": "display_data"
    }
   ],
   "source": [
    "round(mean(hot$Dogs.eaten), digits = 2)"
   ]
  },
  {
   "cell_type": "code",
   "execution_count": 130,
   "id": "c15812bb-2358-49e5-81b3-bc725d904810",
   "metadata": {},
   "outputs": [
    {
     "data": {
      "text/html": [
       "20"
      ],
      "text/latex": [
       "20"
      ],
      "text/markdown": [
       "20"
      ],
      "text/plain": [
       "[1] 20"
      ]
     },
     "metadata": {},
     "output_type": "display_data"
    }
   ],
   "source": [
    "median(hot$Dogs.eaten)"
   ]
  },
  {
   "cell_type": "code",
   "execution_count": 133,
   "id": "a433cf00-39c0-488e-aaff-620ee9feb523",
   "metadata": {},
   "outputs": [
    {
     "data": {
      "text/plain": [
       "\n",
       "United States         Japan       Germany        Mexico \n",
       "           20             9             1             1 "
      ]
     },
     "metadata": {},
     "output_type": "display_data"
    }
   ],
   "source": [
    "sort(table(hot$Country), decreasing = T)  # decreasing 내림차순"
   ]
  },
  {
   "cell_type": "markdown",
   "id": "f8d6d4e9-1ebc-4b4e-9447-ccfb8dab2dcd",
   "metadata": {},
   "source": [
    "### 사원데이터 기술통계"
   ]
  },
  {
   "cell_type": "code",
   "execution_count": 134,
   "id": "905e32f1-83da-45ef-bb74-23db6618ee17",
   "metadata": {
    "collapsed": true,
    "jupyter": {
     "outputs_hidden": true
    }
   },
   "outputs": [
    {
     "data": {
      "text/html": [
       "<table class=\"dataframe\">\n",
       "<caption>A data.frame: 5 × 11</caption>\n",
       "<thead>\n",
       "\t<tr><th></th><th scope=col>EMPLOYEE_ID</th><th scope=col>FIRST_NAME</th><th scope=col>LAST_NAME</th><th scope=col>EMAIL</th><th scope=col>PHONE_NUMBER</th><th scope=col>HIRE_DATE</th><th scope=col>JOB_ID</th><th scope=col>SALARY</th><th scope=col>COMMISSION_PCT</th><th scope=col>MANAGER_ID</th><th scope=col>DEPARTMENT_ID</th></tr>\n",
       "\t<tr><th></th><th scope=col>&lt;int&gt;</th><th scope=col>&lt;chr&gt;</th><th scope=col>&lt;chr&gt;</th><th scope=col>&lt;chr&gt;</th><th scope=col>&lt;chr&gt;</th><th scope=col>&lt;chr&gt;</th><th scope=col>&lt;chr&gt;</th><th scope=col>&lt;dbl&gt;</th><th scope=col>&lt;dbl&gt;</th><th scope=col>&lt;int&gt;</th><th scope=col>&lt;int&gt;</th></tr>\n",
       "</thead>\n",
       "<tbody>\n",
       "\t<tr><th scope=row>1</th><td>100</td><td>Steven   </td><td>King   </td><td>SKING   </td><td>515.123.4567</td><td>2003-06-17</td><td>AD_PRES</td><td>24000</td><td>NA</td><td> NA</td><td>90</td></tr>\n",
       "\t<tr><th scope=row>2</th><td>101</td><td>Neena    </td><td>Kochhar</td><td>NKOCHHAR</td><td>515.123.4568</td><td>2005-09-21</td><td>AD_VP  </td><td>17000</td><td>NA</td><td>100</td><td>90</td></tr>\n",
       "\t<tr><th scope=row>3</th><td>102</td><td>Lex      </td><td>De Haan</td><td>LDEHAAN </td><td>515.123.4569</td><td>2001-01-13</td><td>AD_VP  </td><td>17000</td><td>NA</td><td>100</td><td>90</td></tr>\n",
       "\t<tr><th scope=row>4</th><td>103</td><td>Alexander</td><td>Hunold </td><td>AHUNOLD </td><td>590.423.4567</td><td>2006-01-03</td><td>IT_PROG</td><td> 9000</td><td>NA</td><td>102</td><td>60</td></tr>\n",
       "\t<tr><th scope=row>5</th><td>104</td><td>Bruce    </td><td>Ernst  </td><td>BERNST  </td><td>590.423.4568</td><td>2007-05-21</td><td>IT_PROG</td><td> 6000</td><td>NA</td><td>103</td><td>60</td></tr>\n",
       "</tbody>\n",
       "</table>\n"
      ],
      "text/latex": [
       "A data.frame: 5 × 11\n",
       "\\begin{tabular}{r|lllllllllll}\n",
       "  & EMPLOYEE\\_ID & FIRST\\_NAME & LAST\\_NAME & EMAIL & PHONE\\_NUMBER & HIRE\\_DATE & JOB\\_ID & SALARY & COMMISSION\\_PCT & MANAGER\\_ID & DEPARTMENT\\_ID\\\\\n",
       "  & <int> & <chr> & <chr> & <chr> & <chr> & <chr> & <chr> & <dbl> & <dbl> & <int> & <int>\\\\\n",
       "\\hline\n",
       "\t1 & 100 & Steven    & King    & SKING    & 515.123.4567 & 2003-06-17 & AD\\_PRES & 24000 & NA &  NA & 90\\\\\n",
       "\t2 & 101 & Neena     & Kochhar & NKOCHHAR & 515.123.4568 & 2005-09-21 & AD\\_VP   & 17000 & NA & 100 & 90\\\\\n",
       "\t3 & 102 & Lex       & De Haan & LDEHAAN  & 515.123.4569 & 2001-01-13 & AD\\_VP   & 17000 & NA & 100 & 90\\\\\n",
       "\t4 & 103 & Alexander & Hunold  & AHUNOLD  & 590.423.4567 & 2006-01-03 & IT\\_PROG &  9000 & NA & 102 & 60\\\\\n",
       "\t5 & 104 & Bruce     & Ernst   & BERNST   & 590.423.4568 & 2007-05-21 & IT\\_PROG &  6000 & NA & 103 & 60\\\\\n",
       "\\end{tabular}\n"
      ],
      "text/markdown": [
       "\n",
       "A data.frame: 5 × 11\n",
       "\n",
       "| <!--/--> | EMPLOYEE_ID &lt;int&gt; | FIRST_NAME &lt;chr&gt; | LAST_NAME &lt;chr&gt; | EMAIL &lt;chr&gt; | PHONE_NUMBER &lt;chr&gt; | HIRE_DATE &lt;chr&gt; | JOB_ID &lt;chr&gt; | SALARY &lt;dbl&gt; | COMMISSION_PCT &lt;dbl&gt; | MANAGER_ID &lt;int&gt; | DEPARTMENT_ID &lt;int&gt; |\n",
       "|---|---|---|---|---|---|---|---|---|---|---|---|\n",
       "| 1 | 100 | Steven    | King    | SKING    | 515.123.4567 | 2003-06-17 | AD_PRES | 24000 | NA |  NA | 90 |\n",
       "| 2 | 101 | Neena     | Kochhar | NKOCHHAR | 515.123.4568 | 2005-09-21 | AD_VP   | 17000 | NA | 100 | 90 |\n",
       "| 3 | 102 | Lex       | De Haan | LDEHAAN  | 515.123.4569 | 2001-01-13 | AD_VP   | 17000 | NA | 100 | 90 |\n",
       "| 4 | 103 | Alexander | Hunold  | AHUNOLD  | 590.423.4567 | 2006-01-03 | IT_PROG |  9000 | NA | 102 | 60 |\n",
       "| 5 | 104 | Bruce     | Ernst   | BERNST   | 590.423.4568 | 2007-05-21 | IT_PROG |  6000 | NA | 103 | 60 |\n",
       "\n"
      ],
      "text/plain": [
       "  EMPLOYEE_ID FIRST_NAME LAST_NAME EMAIL    PHONE_NUMBER HIRE_DATE  JOB_ID \n",
       "1 100         Steven     King      SKING    515.123.4567 2003-06-17 AD_PRES\n",
       "2 101         Neena      Kochhar   NKOCHHAR 515.123.4568 2005-09-21 AD_VP  \n",
       "3 102         Lex        De Haan   LDEHAAN  515.123.4569 2001-01-13 AD_VP  \n",
       "4 103         Alexander  Hunold    AHUNOLD  590.423.4567 2006-01-03 IT_PROG\n",
       "5 104         Bruce      Ernst     BERNST   590.423.4568 2007-05-21 IT_PROG\n",
       "  SALARY COMMISSION_PCT MANAGER_ID DEPARTMENT_ID\n",
       "1 24000  NA              NA        90           \n",
       "2 17000  NA             100        90           \n",
       "3 17000  NA             100        90           \n",
       "4  9000  NA             102        60           \n",
       "5  6000  NA             103        60           "
      ]
     },
     "metadata": {},
     "output_type": "display_data"
    }
   ],
   "source": [
    "emp = read.csv('./data/employees.csv')\n",
    "head(emp, 5)"
   ]
  },
  {
   "cell_type": "code",
   "execution_count": 135,
   "id": "22954ad4-45ee-4d9a-bb88-6b800739f269",
   "metadata": {},
   "outputs": [
    {
     "name": "stdout",
     "output_type": "stream",
     "text": [
      "'data.frame':\t107 obs. of  11 variables:\n",
      " $ EMPLOYEE_ID   : int  100 101 102 103 104 105 106 107 108 109 ...\n",
      " $ FIRST_NAME    : chr  \"Steven\" \"Neena\" \"Lex\" \"Alexander\" ...\n",
      " $ LAST_NAME     : chr  \"King\" \"Kochhar\" \"De Haan\" \"Hunold\" ...\n",
      " $ EMAIL         : chr  \"SKING\" \"NKOCHHAR\" \"LDEHAAN\" \"AHUNOLD\" ...\n",
      " $ PHONE_NUMBER  : chr  \"515.123.4567\" \"515.123.4568\" \"515.123.4569\" \"590.423.4567\" ...\n",
      " $ HIRE_DATE     : chr  \"2003-06-17\" \"2005-09-21\" \"2001-01-13\" \"2006-01-03\" ...\n",
      " $ JOB_ID        : chr  \"AD_PRES\" \"AD_VP\" \"AD_VP\" \"IT_PROG\" ...\n",
      " $ SALARY        : num  24000 17000 17000 9000 6000 ...\n",
      " $ COMMISSION_PCT: num  NA NA NA NA NA NA NA NA NA NA ...\n",
      " $ MANAGER_ID    : int  NA 100 100 102 103 103 103 103 101 108 ...\n",
      " $ DEPARTMENT_ID : int  90 90 90 60 60 60 60 60 100 100 ...\n"
     ]
    }
   ],
   "source": [
    "str(emp)"
   ]
  },
  {
   "cell_type": "code",
   "execution_count": 138,
   "id": "b18e41d5-7629-4689-a03f-868c2b306f70",
   "metadata": {},
   "outputs": [
    {
     "data": {
      "text/html": [
       "6461.83"
      ],
      "text/latex": [
       "6461.83"
      ],
      "text/markdown": [
       "6461.83"
      ],
      "text/plain": [
       "[1] 6461.83"
      ]
     },
     "metadata": {},
     "output_type": "display_data"
    }
   ],
   "source": [
    "round(mean(emp$SALARY), digits = 2)"
   ]
  },
  {
   "cell_type": "code",
   "execution_count": 139,
   "id": "12c09220-05f7-4fd6-9c8f-c0babf7527c0",
   "metadata": {},
   "outputs": [
    {
     "data": {
      "text/html": [
       "6200"
      ],
      "text/latex": [
       "6200"
      ],
      "text/markdown": [
       "6200"
      ],
      "text/plain": [
       "[1] 6200"
      ]
     },
     "metadata": {},
     "output_type": "display_data"
    }
   ],
   "source": [
    "median(emp$SALARY)"
   ]
  },
  {
   "cell_type": "code",
   "execution_count": 141,
   "id": "6f577f8d-8022-425d-9acb-bc34fc04e254",
   "metadata": {},
   "outputs": [
    {
     "data": {
      "text/html": [
       "0.222857142857143"
      ],
      "text/latex": [
       "0.222857142857143"
      ],
      "text/markdown": [
       "0.222857142857143"
      ],
      "text/plain": [
       "[1] 0.2228571"
      ]
     },
     "metadata": {},
     "output_type": "display_data"
    }
   ],
   "source": [
    "mean(emp$COMMISSION_PCT, na.rm=T)  # na(제거해!)"
   ]
  },
  {
   "cell_type": "code",
   "execution_count": 142,
   "id": "2c83048d-07cf-4227-8090-e08f7bd40112",
   "metadata": {},
   "outputs": [
    {
     "data": {
      "text/plain": [
       "\n",
       "    SA_REP   SH_CLERK   ST_CLERK FI_ACCOUNT    IT_PROG   PU_CLERK     SA_MAN \n",
       "        30         20         20          5          5          5          5 \n",
       "    ST_MAN      AD_VP AC_ACCOUNT     AC_MGR    AD_ASST    AD_PRES     FI_MGR \n",
       "         5          2          1          1          1          1          1 \n",
       "    HR_REP     MK_MAN     MK_REP     PR_REP     PU_MAN \n",
       "         1          1          1          1          1 "
      ]
     },
     "metadata": {},
     "output_type": "display_data"
    }
   ],
   "source": [
    "sort(table(emp$JOB_ID), decreasing = T)"
   ]
  },
  {
   "cell_type": "code",
   "execution_count": 144,
   "id": "e9bc15e1-5ee8-4a63-8b44-bb1e1c1b1027",
   "metadata": {},
   "outputs": [
    {
     "data": {
      "text/plain": [
       "\n",
       "100 120 121 122 123 124 145 146 147 148 149 101 108 114 103 102 201 205 \n",
       " 14   8   8   8   8   8   6   6   6   6   6   5   5   5   4   1   1   1 "
      ]
     },
     "metadata": {},
     "output_type": "display_data"
    }
   ],
   "source": [
    "sort(table(emp$MANAGER_ID), decreasing = T)"
   ]
  },
  {
   "cell_type": "code",
   "execution_count": 143,
   "id": "c995e6e9-bb6c-4d32-a4fc-f1e0b212c662",
   "metadata": {},
   "outputs": [
    {
     "data": {
      "text/plain": [
       "\n",
       " 50  80  30 100  60  90  20 110  10  40  70 \n",
       " 45  34   6   6   5   3   2   2   1   1   1 "
      ]
     },
     "metadata": {},
     "output_type": "display_data"
    }
   ],
   "source": [
    "sort(table(emp$DEPARTMENT_ID), decreasing = T)"
   ]
  },
  {
   "cell_type": "markdown",
   "id": "bee0685b-24fa-41cf-bbfa-e0c63717e869",
   "metadata": {},
   "source": [
    "### 2016 교통사고 현황 기술통계"
   ]
  },
  {
   "cell_type": "code",
   "execution_count": 147,
   "id": "10f3f2e2-f836-4acc-932e-51ff4dabb89a",
   "metadata": {
    "collapsed": true,
    "jupyter": {
     "outputs_hidden": true
    }
   },
   "outputs": [
    {
     "data": {
      "text/html": [
       "<table class=\"dataframe\">\n",
       "<caption>A data.frame: 5 × 27</caption>\n",
       "<thead>\n",
       "\t<tr><th></th><th scope=col>발생년</th><th scope=col>발생년월일시</th><th scope=col>발생분</th><th scope=col>주야</th><th scope=col>요일</th><th scope=col>사망자수</th><th scope=col>사상자수</th><th scope=col>중상자수</th><th scope=col>경상자수</th><th scope=col>부상신고자수</th><th scope=col>⋯</th><th scope=col>도로형태_대분류</th><th scope=col>도로형태</th><th scope=col>당사자종별_1당_대분류</th><th scope=col>당사자종별_1당</th><th scope=col>당사자종별_2당_대분류</th><th scope=col>당사자종별_2당</th><th scope=col>발생위치X_UTMK</th><th scope=col>발생위치Y_UTMK</th><th scope=col>경도</th><th scope=col>위도</th></tr>\n",
       "\t<tr><th></th><th scope=col>&lt;int&gt;</th><th scope=col>&lt;int&gt;</th><th scope=col>&lt;int&gt;</th><th scope=col>&lt;chr&gt;</th><th scope=col>&lt;chr&gt;</th><th scope=col>&lt;int&gt;</th><th scope=col>&lt;int&gt;</th><th scope=col>&lt;int&gt;</th><th scope=col>&lt;int&gt;</th><th scope=col>&lt;int&gt;</th><th scope=col>⋯</th><th scope=col>&lt;chr&gt;</th><th scope=col>&lt;chr&gt;</th><th scope=col>&lt;chr&gt;</th><th scope=col>&lt;chr&gt;</th><th scope=col>&lt;chr&gt;</th><th scope=col>&lt;chr&gt;</th><th scope=col>&lt;dbl&gt;</th><th scope=col>&lt;dbl&gt;</th><th scope=col>&lt;dbl&gt;</th><th scope=col>&lt;dbl&gt;</th></tr>\n",
       "</thead>\n",
       "<tbody>\n",
       "\t<tr><th scope=row>1</th><td>2016</td><td>2016122320</td><td>35</td><td>야간</td><td>금</td><td>1</td><td>1</td><td>0</td><td>0</td><td>0</td><td>⋯</td><td>교차로</td><td>교차로내  </td><td>승용차</td><td>중형</td><td>보행자</td><td>보행자</td><td> 981731</td><td>1932086</td><td>127.2936</td><td>37.38769</td></tr>\n",
       "\t<tr><th scope=row>2</th><td>2016</td><td>2016122517</td><td>48</td><td>주간</td><td>일</td><td>1</td><td>1</td><td>0</td><td>0</td><td>0</td><td>⋯</td><td>단일로</td><td>기타단일로</td><td>승용차</td><td>중형</td><td>보행자</td><td>보행자</td><td> 945989</td><td>1942347</td><td>126.8891</td><td>37.47878</td></tr>\n",
       "\t<tr><th scope=row>3</th><td>2016</td><td>2016122519</td><td> 5</td><td>야간</td><td>일</td><td>1</td><td>1</td><td>0</td><td>0</td><td>0</td><td>⋯</td><td>단일로</td><td>기타단일로</td><td>화물차</td><td>소형</td><td>보행자</td><td>보행자</td><td> 993981</td><td>1879534</td><td>127.4316</td><td>36.91593</td></tr>\n",
       "\t<tr><th scope=row>4</th><td>2016</td><td>2016122610</td><td>40</td><td>주간</td><td>월</td><td>1</td><td>1</td><td>0</td><td>0</td><td>0</td><td>⋯</td><td>단일로</td><td>기타단일로</td><td>승합차</td><td>경형</td><td>보행자</td><td>보행자</td><td>1161153</td><td>1751026</td><td>129.2822</td><td>35.74239</td></tr>\n",
       "\t<tr><th scope=row>5</th><td>2016</td><td>2016122819</td><td>40</td><td>야간</td><td>수</td><td>1</td><td>1</td><td>0</td><td>0</td><td>0</td><td>⋯</td><td>단일로</td><td>기타단일로</td><td>승용차</td><td>소형</td><td>보행자</td><td>보행자</td><td>1056276</td><td>1686645</td><td>128.1180</td><td>35.17351</td></tr>\n",
       "</tbody>\n",
       "</table>\n"
      ],
      "text/latex": [
       "A data.frame: 5 × 27\n",
       "\\begin{tabular}{r|lllllllllllllllllllll}\n",
       "  & 발생년 & 발생년월일시 & 발생분 & 주야 & 요일 & 사망자수 & 사상자수 & 중상자수 & 경상자수 & 부상신고자수 & ⋯ & 도로형태\\_대분류 & 도로형태 & 당사자종별\\_1당\\_대분류 & 당사자종별\\_1당 & 당사자종별\\_2당\\_대분류 & 당사자종별\\_2당 & 발생위치X\\_UTMK & 발생위치Y\\_UTMK & 경도 & 위도\\\\\n",
       "  & <int> & <int> & <int> & <chr> & <chr> & <int> & <int> & <int> & <int> & <int> & ⋯ & <chr> & <chr> & <chr> & <chr> & <chr> & <chr> & <dbl> & <dbl> & <dbl> & <dbl>\\\\\n",
       "\\hline\n",
       "\t1 & 2016 & 2016122320 & 35 & 야간 & 금 & 1 & 1 & 0 & 0 & 0 & ⋯ & 교차로 & 교차로내   & 승용차 & 중형 & 보행자 & 보행자 &  981731 & 1932086 & 127.2936 & 37.38769\\\\\n",
       "\t2 & 2016 & 2016122517 & 48 & 주간 & 일 & 1 & 1 & 0 & 0 & 0 & ⋯ & 단일로 & 기타단일로 & 승용차 & 중형 & 보행자 & 보행자 &  945989 & 1942347 & 126.8891 & 37.47878\\\\\n",
       "\t3 & 2016 & 2016122519 &  5 & 야간 & 일 & 1 & 1 & 0 & 0 & 0 & ⋯ & 단일로 & 기타단일로 & 화물차 & 소형 & 보행자 & 보행자 &  993981 & 1879534 & 127.4316 & 36.91593\\\\\n",
       "\t4 & 2016 & 2016122610 & 40 & 주간 & 월 & 1 & 1 & 0 & 0 & 0 & ⋯ & 단일로 & 기타단일로 & 승합차 & 경형 & 보행자 & 보행자 & 1161153 & 1751026 & 129.2822 & 35.74239\\\\\n",
       "\t5 & 2016 & 2016122819 & 40 & 야간 & 수 & 1 & 1 & 0 & 0 & 0 & ⋯ & 단일로 & 기타단일로 & 승용차 & 소형 & 보행자 & 보행자 & 1056276 & 1686645 & 128.1180 & 35.17351\\\\\n",
       "\\end{tabular}\n"
      ],
      "text/markdown": [
       "\n",
       "A data.frame: 5 × 27\n",
       "\n",
       "| <!--/--> | 발생년 &lt;int&gt; | 발생년월일시 &lt;int&gt; | 발생분 &lt;int&gt; | 주야 &lt;chr&gt; | 요일 &lt;chr&gt; | 사망자수 &lt;int&gt; | 사상자수 &lt;int&gt; | 중상자수 &lt;int&gt; | 경상자수 &lt;int&gt; | 부상신고자수 &lt;int&gt; | ⋯ ⋯ | 도로형태_대분류 &lt;chr&gt; | 도로형태 &lt;chr&gt; | 당사자종별_1당_대분류 &lt;chr&gt; | 당사자종별_1당 &lt;chr&gt; | 당사자종별_2당_대분류 &lt;chr&gt; | 당사자종별_2당 &lt;chr&gt; | 발생위치X_UTMK &lt;dbl&gt; | 발생위치Y_UTMK &lt;dbl&gt; | 경도 &lt;dbl&gt; | 위도 &lt;dbl&gt; |\n",
       "|---|---|---|---|---|---|---|---|---|---|---|---|---|---|---|---|---|---|---|---|---|---|\n",
       "| 1 | 2016 | 2016122320 | 35 | 야간 | 금 | 1 | 1 | 0 | 0 | 0 | ⋯ | 교차로 | 교차로내   | 승용차 | 중형 | 보행자 | 보행자 |  981731 | 1932086 | 127.2936 | 37.38769 |\n",
       "| 2 | 2016 | 2016122517 | 48 | 주간 | 일 | 1 | 1 | 0 | 0 | 0 | ⋯ | 단일로 | 기타단일로 | 승용차 | 중형 | 보행자 | 보행자 |  945989 | 1942347 | 126.8891 | 37.47878 |\n",
       "| 3 | 2016 | 2016122519 |  5 | 야간 | 일 | 1 | 1 | 0 | 0 | 0 | ⋯ | 단일로 | 기타단일로 | 화물차 | 소형 | 보행자 | 보행자 |  993981 | 1879534 | 127.4316 | 36.91593 |\n",
       "| 4 | 2016 | 2016122610 | 40 | 주간 | 월 | 1 | 1 | 0 | 0 | 0 | ⋯ | 단일로 | 기타단일로 | 승합차 | 경형 | 보행자 | 보행자 | 1161153 | 1751026 | 129.2822 | 35.74239 |\n",
       "| 5 | 2016 | 2016122819 | 40 | 야간 | 수 | 1 | 1 | 0 | 0 | 0 | ⋯ | 단일로 | 기타단일로 | 승용차 | 소형 | 보행자 | 보행자 | 1056276 | 1686645 | 128.1180 | 35.17351 |\n",
       "\n"
      ],
      "text/plain": [
       "  발생년 발생년월일시 발생분 주야 요일 사망자수 사상자수 중상자수 경상자수\n",
       "1 2016   2016122320   35     야간 금   1        1        0        0       \n",
       "2 2016   2016122517   48     주간 일   1        1        0        0       \n",
       "3 2016   2016122519    5     야간 일   1        1        0        0       \n",
       "4 2016   2016122610   40     주간 월   1        1        0        0       \n",
       "5 2016   2016122819   40     야간 수   1        1        0        0       \n",
       "  부상신고자수 ⋯ 도로형태_대분류 도로형태   당사자종별_1당_대분류\n",
       "1 0            ⋯ 교차로          교차로내   승용차               \n",
       "2 0            ⋯ 단일로          기타단일로 승용차               \n",
       "3 0            ⋯ 단일로          기타단일로 화물차               \n",
       "4 0            ⋯ 단일로          기타단일로 승합차               \n",
       "5 0            ⋯ 단일로          기타단일로 승용차               \n",
       "  당사자종별_1당 당사자종별_2당_대분류 당사자종별_2당 발생위치X_UTMK\n",
       "1 중형           보행자                보행자          981731       \n",
       "2 중형           보행자                보행자          945989       \n",
       "3 소형           보행자                보행자          993981       \n",
       "4 경형           보행자                보행자         1161153       \n",
       "5 소형           보행자                보행자         1056276       \n",
       "  발생위치Y_UTMK 경도     위도    \n",
       "1 1932086        127.2936 37.38769\n",
       "2 1942347        126.8891 37.47878\n",
       "3 1879534        127.4316 36.91593\n",
       "4 1751026        129.2822 35.74239\n",
       "5 1686645        128.1180 35.17351"
      ]
     },
     "metadata": {},
     "output_type": "display_data"
    }
   ],
   "source": [
    "accd2016 <- read.csv('./data/accident2016.csv')\n",
    "head(accd2016, 5)"
   ]
  },
  {
   "cell_type": "code",
   "execution_count": 149,
   "id": "bc724094-4e67-4ead-b3a3-e66e5b2fe395",
   "metadata": {
    "collapsed": true,
    "jupyter": {
     "outputs_hidden": true
    }
   },
   "outputs": [
    {
     "data": {
      "text/html": [
       "<table class=\"dataframe\">\n",
       "<caption>A data.frame: 5 × 27</caption>\n",
       "<thead>\n",
       "\t<tr><th></th><th scope=col>발생년</th><th scope=col>발생년월일시</th><th scope=col>발생분</th><th scope=col>주야</th><th scope=col>요일</th><th scope=col>사망자수</th><th scope=col>사상자수</th><th scope=col>중상자수</th><th scope=col>경상자수</th><th scope=col>부상신고자수</th><th scope=col>발생지시도</th><th scope=col>발생지시군구</th><th scope=col>사고유형_대분류</th><th scope=col>사고유형_중분류</th><th scope=col>사고유형</th><th scope=col>법규위반_대분류</th><th scope=col>법규위반</th><th scope=col>도로형태_대분류</th><th scope=col>도로형태</th><th scope=col>당사자종별_1당_대분류</th><th scope=col>당사자종별_1당</th><th scope=col>당사자종별_2당_대분류</th><th scope=col>당사자종별_2당</th><th scope=col>발생위치X_UTMK</th><th scope=col>발생위치Y_UTMK</th><th scope=col>경도</th><th scope=col>위도</th></tr>\n",
       "\t<tr><th></th><th scope=col>&lt;int&gt;</th><th scope=col>&lt;int&gt;</th><th scope=col>&lt;int&gt;</th><th scope=col>&lt;chr&gt;</th><th scope=col>&lt;chr&gt;</th><th scope=col>&lt;int&gt;</th><th scope=col>&lt;int&gt;</th><th scope=col>&lt;int&gt;</th><th scope=col>&lt;int&gt;</th><th scope=col>&lt;int&gt;</th><th scope=col>&lt;chr&gt;</th><th scope=col>&lt;chr&gt;</th><th scope=col>&lt;chr&gt;</th><th scope=col>&lt;chr&gt;</th><th scope=col>&lt;chr&gt;</th><th scope=col>&lt;chr&gt;</th><th scope=col>&lt;chr&gt;</th><th scope=col>&lt;chr&gt;</th><th scope=col>&lt;chr&gt;</th><th scope=col>&lt;chr&gt;</th><th scope=col>&lt;chr&gt;</th><th scope=col>&lt;chr&gt;</th><th scope=col>&lt;chr&gt;</th><th scope=col>&lt;dbl&gt;</th><th scope=col>&lt;dbl&gt;</th><th scope=col>&lt;dbl&gt;</th><th scope=col>&lt;dbl&gt;</th></tr>\n",
       "</thead>\n",
       "<tbody>\n",
       "\t<tr><th scope=row>1</th><td>2016</td><td>2016122320</td><td>35</td><td>야간</td><td>금</td><td>1</td><td>1</td><td>0</td><td>0</td><td>0</td><td>경기</td><td>광주시</td><td>차대사람</td><td>기타      </td><td>기타      </td><td>운전자법규위반</td><td>안전운전 의무 불이행</td><td>교차로</td><td>교차로내  </td><td>승용차</td><td>중형</td><td>보행자</td><td>보행자</td><td> 981731</td><td>1932086</td><td>127.2936</td><td>37.38769</td></tr>\n",
       "\t<tr><th scope=row>2</th><td>2016</td><td>2016122517</td><td>48</td><td>주간</td><td>일</td><td>1</td><td>1</td><td>0</td><td>0</td><td>0</td><td>서울</td><td>금천구</td><td>차대사람</td><td>횡단중    </td><td>횡단중    </td><td>운전자법규위반</td><td>안전운전 의무 불이행</td><td>단일로</td><td>기타단일로</td><td>승용차</td><td>중형</td><td>보행자</td><td>보행자</td><td> 945989</td><td>1942347</td><td>126.8891</td><td>37.47878</td></tr>\n",
       "\t<tr><th scope=row>3</th><td>2016</td><td>2016122519</td><td> 5</td><td>야간</td><td>일</td><td>1</td><td>1</td><td>0</td><td>0</td><td>0</td><td>충북</td><td>진천군</td><td>차대사람</td><td>차도통행중</td><td>차도통행중</td><td>운전자법규위반</td><td>안전운전 의무 불이행</td><td>단일로</td><td>기타단일로</td><td>화물차</td><td>소형</td><td>보행자</td><td>보행자</td><td> 993981</td><td>1879534</td><td>127.4316</td><td>36.91593</td></tr>\n",
       "\t<tr><th scope=row>4</th><td>2016</td><td>2016122610</td><td>40</td><td>주간</td><td>월</td><td>1</td><td>1</td><td>0</td><td>0</td><td>0</td><td>경북</td><td>경주시</td><td>차대사람</td><td>횡단중    </td><td>횡단중    </td><td>운전자법규위반</td><td>안전운전 의무 불이행</td><td>단일로</td><td>기타단일로</td><td>승합차</td><td>경형</td><td>보행자</td><td>보행자</td><td>1161153</td><td>1751026</td><td>129.2822</td><td>35.74239</td></tr>\n",
       "\t<tr><th scope=row>5</th><td>2016</td><td>2016122819</td><td>40</td><td>야간</td><td>수</td><td>1</td><td>1</td><td>0</td><td>0</td><td>0</td><td>경남</td><td>진주시</td><td>차대사람</td><td>횡단중    </td><td>횡단중    </td><td>운전자법규위반</td><td>보행자 보호의무 위반</td><td>단일로</td><td>기타단일로</td><td>승용차</td><td>소형</td><td>보행자</td><td>보행자</td><td>1056276</td><td>1686645</td><td>128.1180</td><td>35.17351</td></tr>\n",
       "</tbody>\n",
       "</table>\n"
      ],
      "text/latex": [
       "A data.frame: 5 × 27\n",
       "\\begin{tabular}{r|lllllllllllllllllllllllllll}\n",
       "  & 발생년 & 발생년월일시 & 발생분 & 주야 & 요일 & 사망자수 & 사상자수 & 중상자수 & 경상자수 & 부상신고자수 & 발생지시도 & 발생지시군구 & 사고유형\\_대분류 & 사고유형\\_중분류 & 사고유형 & 법규위반\\_대분류 & 법규위반 & 도로형태\\_대분류 & 도로형태 & 당사자종별\\_1당\\_대분류 & 당사자종별\\_1당 & 당사자종별\\_2당\\_대분류 & 당사자종별\\_2당 & 발생위치X\\_UTMK & 발생위치Y\\_UTMK & 경도 & 위도\\\\\n",
       "  & <int> & <int> & <int> & <chr> & <chr> & <int> & <int> & <int> & <int> & <int> & <chr> & <chr> & <chr> & <chr> & <chr> & <chr> & <chr> & <chr> & <chr> & <chr> & <chr> & <chr> & <chr> & <dbl> & <dbl> & <dbl> & <dbl>\\\\\n",
       "\\hline\n",
       "\t1 & 2016 & 2016122320 & 35 & 야간 & 금 & 1 & 1 & 0 & 0 & 0 & 경기 & 광주시 & 차대사람 & 기타       & 기타       & 운전자법규위반 & 안전운전 의무 불이행 & 교차로 & 교차로내   & 승용차 & 중형 & 보행자 & 보행자 &  981731 & 1932086 & 127.2936 & 37.38769\\\\\n",
       "\t2 & 2016 & 2016122517 & 48 & 주간 & 일 & 1 & 1 & 0 & 0 & 0 & 서울 & 금천구 & 차대사람 & 횡단중     & 횡단중     & 운전자법규위반 & 안전운전 의무 불이행 & 단일로 & 기타단일로 & 승용차 & 중형 & 보행자 & 보행자 &  945989 & 1942347 & 126.8891 & 37.47878\\\\\n",
       "\t3 & 2016 & 2016122519 &  5 & 야간 & 일 & 1 & 1 & 0 & 0 & 0 & 충북 & 진천군 & 차대사람 & 차도통행중 & 차도통행중 & 운전자법규위반 & 안전운전 의무 불이행 & 단일로 & 기타단일로 & 화물차 & 소형 & 보행자 & 보행자 &  993981 & 1879534 & 127.4316 & 36.91593\\\\\n",
       "\t4 & 2016 & 2016122610 & 40 & 주간 & 월 & 1 & 1 & 0 & 0 & 0 & 경북 & 경주시 & 차대사람 & 횡단중     & 횡단중     & 운전자법규위반 & 안전운전 의무 불이행 & 단일로 & 기타단일로 & 승합차 & 경형 & 보행자 & 보행자 & 1161153 & 1751026 & 129.2822 & 35.74239\\\\\n",
       "\t5 & 2016 & 2016122819 & 40 & 야간 & 수 & 1 & 1 & 0 & 0 & 0 & 경남 & 진주시 & 차대사람 & 횡단중     & 횡단중     & 운전자법규위반 & 보행자 보호의무 위반 & 단일로 & 기타단일로 & 승용차 & 소형 & 보행자 & 보행자 & 1056276 & 1686645 & 128.1180 & 35.17351\\\\\n",
       "\\end{tabular}\n"
      ],
      "text/markdown": [
       "\n",
       "A data.frame: 5 × 27\n",
       "\n",
       "| <!--/--> | 발생년 &lt;int&gt; | 발생년월일시 &lt;int&gt; | 발생분 &lt;int&gt; | 주야 &lt;chr&gt; | 요일 &lt;chr&gt; | 사망자수 &lt;int&gt; | 사상자수 &lt;int&gt; | 중상자수 &lt;int&gt; | 경상자수 &lt;int&gt; | 부상신고자수 &lt;int&gt; | 발생지시도 &lt;chr&gt; | 발생지시군구 &lt;chr&gt; | 사고유형_대분류 &lt;chr&gt; | 사고유형_중분류 &lt;chr&gt; | 사고유형 &lt;chr&gt; | 법규위반_대분류 &lt;chr&gt; | 법규위반 &lt;chr&gt; | 도로형태_대분류 &lt;chr&gt; | 도로형태 &lt;chr&gt; | 당사자종별_1당_대분류 &lt;chr&gt; | 당사자종별_1당 &lt;chr&gt; | 당사자종별_2당_대분류 &lt;chr&gt; | 당사자종별_2당 &lt;chr&gt; | 발생위치X_UTMK &lt;dbl&gt; | 발생위치Y_UTMK &lt;dbl&gt; | 경도 &lt;dbl&gt; | 위도 &lt;dbl&gt; |\n",
       "|---|---|---|---|---|---|---|---|---|---|---|---|---|---|---|---|---|---|---|---|---|---|---|---|---|---|---|---|\n",
       "| 1 | 2016 | 2016122320 | 35 | 야간 | 금 | 1 | 1 | 0 | 0 | 0 | 경기 | 광주시 | 차대사람 | 기타       | 기타       | 운전자법규위반 | 안전운전 의무 불이행 | 교차로 | 교차로내   | 승용차 | 중형 | 보행자 | 보행자 |  981731 | 1932086 | 127.2936 | 37.38769 |\n",
       "| 2 | 2016 | 2016122517 | 48 | 주간 | 일 | 1 | 1 | 0 | 0 | 0 | 서울 | 금천구 | 차대사람 | 횡단중     | 횡단중     | 운전자법규위반 | 안전운전 의무 불이행 | 단일로 | 기타단일로 | 승용차 | 중형 | 보행자 | 보행자 |  945989 | 1942347 | 126.8891 | 37.47878 |\n",
       "| 3 | 2016 | 2016122519 |  5 | 야간 | 일 | 1 | 1 | 0 | 0 | 0 | 충북 | 진천군 | 차대사람 | 차도통행중 | 차도통행중 | 운전자법규위반 | 안전운전 의무 불이행 | 단일로 | 기타단일로 | 화물차 | 소형 | 보행자 | 보행자 |  993981 | 1879534 | 127.4316 | 36.91593 |\n",
       "| 4 | 2016 | 2016122610 | 40 | 주간 | 월 | 1 | 1 | 0 | 0 | 0 | 경북 | 경주시 | 차대사람 | 횡단중     | 횡단중     | 운전자법규위반 | 안전운전 의무 불이행 | 단일로 | 기타단일로 | 승합차 | 경형 | 보행자 | 보행자 | 1161153 | 1751026 | 129.2822 | 35.74239 |\n",
       "| 5 | 2016 | 2016122819 | 40 | 야간 | 수 | 1 | 1 | 0 | 0 | 0 | 경남 | 진주시 | 차대사람 | 횡단중     | 횡단중     | 운전자법규위반 | 보행자 보호의무 위반 | 단일로 | 기타단일로 | 승용차 | 소형 | 보행자 | 보행자 | 1056276 | 1686645 | 128.1180 | 35.17351 |\n",
       "\n"
      ],
      "text/plain": [
       "  발생년 발생년월일시 발생분 주야 요일 사망자수 사상자수 중상자수 경상자수\n",
       "1 2016   2016122320   35     야간 금   1        1        0        0       \n",
       "2 2016   2016122517   48     주간 일   1        1        0        0       \n",
       "3 2016   2016122519    5     야간 일   1        1        0        0       \n",
       "4 2016   2016122610   40     주간 월   1        1        0        0       \n",
       "5 2016   2016122819   40     야간 수   1        1        0        0       \n",
       "  부상신고자수 발생지시도 발생지시군구 사고유형_대분류 사고유형_중분류\n",
       "1 0            경기       광주시       차대사람        기타           \n",
       "2 0            서울       금천구       차대사람        횡단중         \n",
       "3 0            충북       진천군       차대사람        차도통행중     \n",
       "4 0            경북       경주시       차대사람        횡단중         \n",
       "5 0            경남       진주시       차대사람        횡단중         \n",
       "  사고유형   법규위반_대분류 법규위반             도로형태_대분류 도로형태  \n",
       "1 기타       운전자법규위반  안전운전 의무 불이행 교차로          교차로내  \n",
       "2 횡단중     운전자법규위반  안전운전 의무 불이행 단일로          기타단일로\n",
       "3 차도통행중 운전자법규위반  안전운전 의무 불이행 단일로          기타단일로\n",
       "4 횡단중     운전자법규위반  안전운전 의무 불이행 단일로          기타단일로\n",
       "5 횡단중     운전자법규위반  보행자 보호의무 위반 단일로          기타단일로\n",
       "  당사자종별_1당_대분류 당사자종별_1당 당사자종별_2당_대분류 당사자종별_2당\n",
       "1 승용차                중형           보행자                보행자        \n",
       "2 승용차                중형           보행자                보행자        \n",
       "3 화물차                소형           보행자                보행자        \n",
       "4 승합차                경형           보행자                보행자        \n",
       "5 승용차                소형           보행자                보행자        \n",
       "  발생위치X_UTMK 발생위치Y_UTMK 경도     위도    \n",
       "1  981731        1932086        127.2936 37.38769\n",
       "2  945989        1942347        126.8891 37.47878\n",
       "3  993981        1879534        127.4316 36.91593\n",
       "4 1161153        1751026        129.2822 35.74239\n",
       "5 1056276        1686645        128.1180 35.17351"
      ]
     },
     "metadata": {},
     "output_type": "display_data"
    }
   ],
   "source": [
    "# 데이터프레임 출력시 모든 컬럼 출력\n",
    "options(repr.matrix.max.cols=200)\n",
    "head(accd2016, 5)"
   ]
  },
  {
   "cell_type": "code",
   "execution_count": 150,
   "id": "80452d75-4d75-4332-b79a-b0a597e357ae",
   "metadata": {
    "collapsed": true,
    "jupyter": {
     "outputs_hidden": true
    }
   },
   "outputs": [
    {
     "name": "stdout",
     "output_type": "stream",
     "text": [
      "'data.frame':\t4119 obs. of  27 variables:\n",
      " $ 발생년               : int  2016 2016 2016 2016 2016 2016 2016 2016 2016 2016 ...\n",
      " $ 발생년월일시         : int  2016122320 2016122517 2016122519 2016122610 2016122819 2016111207 2016110919 2016111005 2016110711 2016110818 ...\n",
      " $ 발생분               : int  35 48 5 40 40 34 25 0 5 0 ...\n",
      " $ 주야                 : chr  \"야간\" \"주간\" \"야간\" \"주간\" ...\n",
      " $ 요일                 : chr  \"금\" \"일\" \"일\" \"월\" ...\n",
      " $ 사망자수             : int  1 1 1 1 1 1 1 1 1 1 ...\n",
      " $ 사상자수             : int  1 1 1 1 1 1 1 1 1 1 ...\n",
      " $ 중상자수             : int  0 0 0 0 0 0 0 0 0 0 ...\n",
      " $ 경상자수             : int  0 0 0 0 0 0 0 0 0 0 ...\n",
      " $ 부상신고자수         : int  0 0 0 0 0 0 0 0 0 0 ...\n",
      " $ 발생지시도           : chr  \"경기\" \"서울\" \"충북\" \"경북\" ...\n",
      " $ 발생지시군구         : chr  \"광주시\" \"금천구\" \"진천군\" \"경주시\" ...\n",
      " $ 사고유형_대분류      : chr  \"차대사람\" \"차대사람\" \"차대사람\" \"차대사람\" ...\n",
      " $ 사고유형_중분류      : chr  \"기타\" \"횡단중\" \"차도통행중\" \"횡단중\" ...\n",
      " $ 사고유형             : chr  \"기타\" \"횡단중\" \"차도통행중\" \"횡단중\" ...\n",
      " $ 법규위반_대분류      : chr  \"운전자법규위반\" \"운전자법규위반\" \"운전자법규위반\" \"운전자법규위반\" ...\n",
      " $ 법규위반             : chr  \"안전운전 의무 불이행\" \"안전운전 의무 불이행\" \"안전운전 의무 불이행\" \"안전운전 의무 불이행\" ...\n",
      " $ 도로형태_대분류      : chr  \"교차로\" \"단일로\" \"단일로\" \"단일로\" ...\n",
      " $ 도로형태             : chr  \"교차로내\" \"기타단일로\" \"기타단일로\" \"기타단일로\" ...\n",
      " $ 당사자종별_1당_대분류: chr  \"승용차\" \"승용차\" \"화물차\" \"승합차\" ...\n",
      " $ 당사자종별_1당       : chr  \"중형\" \"중형\" \"소형\" \"경형\" ...\n",
      " $ 당사자종별_2당_대분류: chr  \"보행자\" \"보행자\" \"보행자\" \"보행자\" ...\n",
      " $ 당사자종별_2당       : chr  \"보행자\" \"보행자\" \"보행자\" \"보행자\" ...\n",
      " $ 발생위치X_UTMK       : num  981731 945989 993981 1161153 1056276 ...\n",
      " $ 발생위치Y_UTMK       : num  1932086 1942347 1879534 1751026 1686645 ...\n",
      " $ 경도                 : num  127 127 127 129 128 ...\n",
      " $ 위도                 : num  37.4 37.5 36.9 35.7 35.2 ...\n"
     ]
    }
   ],
   "source": [
    "str(accd2016)"
   ]
  },
  {
   "cell_type": "code",
   "execution_count": 151,
   "id": "4c6d1ae9-c602-4d6d-822b-fa233f5a6f3e",
   "metadata": {},
   "outputs": [
    {
     "data": {
      "text/plain": [
       "\n",
       "야간 주간 \n",
       "2072 2047 "
      ]
     },
     "metadata": {},
     "output_type": "display_data"
    }
   ],
   "source": [
    "table(accd2016$주야)"
   ]
  },
  {
   "cell_type": "code",
   "execution_count": 153,
   "id": "d291350a-f46a-45b9-94ec-db1d6160a531",
   "metadata": {},
   "outputs": [
    {
     "data": {
      "text/plain": [
       "\n",
       " 금  토  목  월  수  화  일 \n",
       "666 635 596 584 565 560 513 "
      ]
     },
     "metadata": {},
     "output_type": "display_data"
    }
   ],
   "source": [
    "sort(table(accd2016$요일), decreasing = T)"
   ]
  },
  {
   "cell_type": "code",
   "execution_count": 154,
   "id": "bd2d5f06-30c4-452d-a5b1-87d8e564ca91",
   "metadata": {},
   "outputs": [
    {
     "data": {
      "text/plain": [
       "\n",
       "경기 경북 충남 경남 서울 전남 전북 충북 강원 부산 대구 인천 대전 광주 제주 울산 \n",
       " 749  477  372  359  342  327  275  221  206  153  150  137   94   85   77   70 \n",
       "세종 \n",
       "  25 "
      ]
     },
     "metadata": {},
     "output_type": "display_data"
    }
   ],
   "source": [
    "sort(table(accd2016$발생지시도), decreasing = T)"
   ]
  },
  {
   "cell_type": "code",
   "execution_count": 155,
   "id": "b29d4906-eb31-42e6-ba9d-9f57900c3440",
   "metadata": {},
   "outputs": [
    {
     "data": {
      "text/plain": [
       "\n",
       "차대사람   차대차 차량단독 \n",
       "    1647     1646      826 "
      ]
     },
     "metadata": {},
     "output_type": "display_data"
    }
   ],
   "source": [
    "sort(table(accd2016$사고유형_대분류), decreasing = T)"
   ]
  },
  {
   "cell_type": "code",
   "execution_count": 157,
   "id": "636a7699-9b07-4c4c-9ee6-033ccdf7a1f4",
   "metadata": {},
   "outputs": [
    {
     "data": {
      "text/plain": [
       "\n",
       "              횡단중                 기타         측면직각충돌 \n",
       "                1078                  665                  619 \n",
       "            전도전복          진행중 추돌             정면충돌 \n",
       "                 480                  436                  323 \n",
       "          공작물충돌           차도통행중 길가장자리구역통행중 \n",
       "                 230                  146                   65 \n",
       "       도로이탈 추락           보도통행중        도로이탈 기타 \n",
       "                  30                   30                   16 \n",
       "    주/정차차량 충돌 \n",
       "                   1 "
      ]
     },
     "metadata": {},
     "output_type": "display_data"
    }
   ],
   "source": [
    "sort(table(accd2016$사고유형), decreasing = T)"
   ]
  },
  {
   "cell_type": "code",
   "execution_count": 158,
   "id": "62b64124-eacd-44ad-9004-f4fa89b80d08",
   "metadata": {},
   "outputs": [
    {
     "data": {
      "text/plain": [
       "\n",
       "       안전운전 의무 불이행                    신호위반 \n",
       "                       2856                         333 \n",
       "                중앙선 침범                        과속 \n",
       "                        314                         178 \n",
       "       보행자 보호의무 위반        교차로 통행방법 위반 \n",
       "                        174                          68 \n",
       "            안전거리 미확보        기타(운전자법규위반) \n",
       "                         68                          44 \n",
       "직진 및 우회전차의 통행방해                 부당한 회전 \n",
       "                         37                          28 \n",
       "    차로위반(진로변경 위반)           앞지르기 금지위반 \n",
       "                         12                           3 \n",
       "       서행 및 일시정지위반           앞지르기 방법위반 \n",
       "                          2                           2 "
      ]
     },
     "metadata": {},
     "output_type": "display_data"
    }
   ],
   "source": [
    "sort(table(accd2016$법규위반), decreasing = T)"
   ]
  },
  {
   "cell_type": "code",
   "execution_count": 159,
   "id": "6749c6c8-fa4d-4a6b-b297-426dd20b2c32",
   "metadata": {},
   "outputs": [
    {
     "data": {
      "text/plain": [
       "\n",
       "  기타단일로     교차로내   교차로부근   횡단보도상    기타/불명       교량위 \n",
       "        2427          817          468          170          103           49 \n",
       "횡단보도부근       터널안   고가도로위   지하도로내 \n",
       "          37           21           14           13 "
      ]
     },
     "metadata": {},
     "output_type": "display_data"
    }
   ],
   "source": [
    "sort(table(accd2016$도로형태), decreasing = T)"
   ]
  },
  {
   "cell_type": "code",
   "execution_count": 160,
   "id": "196e9f6d-b5e1-46e0-ad9c-eb0e14daa3cb",
   "metadata": {},
   "outputs": [
    {
     "data": {
      "text/plain": [
       "\n",
       "            소형             중형             경형             대형 \n",
       "            1265             1206              660              478 \n",
       "원동기장치자전거           자전거         건설기계           농기계 \n",
       "             184              113               94               72 \n",
       "          사발이             불명 \n",
       "              45                2 "
      ]
     },
     "metadata": {},
     "output_type": "display_data"
    }
   ],
   "source": [
    "sort(table(accd2016$당사자종별_1당), decreasing = T)"
   ]
  },
  {
   "cell_type": "code",
   "execution_count": 161,
   "id": "56c3baf7-217c-4ed5-9908-4bec10e80f54",
   "metadata": {},
   "outputs": [
    {
     "data": {
      "text/plain": [
       "\n",
       "          보행자                              소형             중형 \n",
       "            1642              825              465              385 \n",
       "            대형             경형           자전거 원동기장치자전거 \n",
       "             239              195              148               92 \n",
       "        건설기계           농기계           사발이             불명 \n",
       "              62               54               10                2 "
      ]
     },
     "metadata": {},
     "output_type": "display_data"
    }
   ],
   "source": [
    "sort(table(accd2016$당사자종별_2당), decreasing = T)"
   ]
  },
  {
   "cell_type": "markdown",
   "id": "38db18f5-96f3-4be8-8c9d-640ccad63e50",
   "metadata": {},
   "source": [
    "### 타이타닉 생존자 기술통계"
   ]
  },
  {
   "cell_type": "code",
   "execution_count": 162,
   "id": "8effdd5b-7197-4672-bfd5-014d28a25073",
   "metadata": {},
   "outputs": [
    {
     "data": {
      "text/html": [
       "<table class=\"dataframe\">\n",
       "<caption>A data.frame: 5 × 11</caption>\n",
       "<thead>\n",
       "\t<tr><th></th><th scope=col>pclass</th><th scope=col>survived</th><th scope=col>name</th><th scope=col>sex</th><th scope=col>age</th><th scope=col>sibsp</th><th scope=col>parch</th><th scope=col>ticket</th><th scope=col>fare</th><th scope=col>cabin</th><th scope=col>embarked</th></tr>\n",
       "\t<tr><th></th><th scope=col>&lt;int&gt;</th><th scope=col>&lt;int&gt;</th><th scope=col>&lt;chr&gt;</th><th scope=col>&lt;chr&gt;</th><th scope=col>&lt;dbl&gt;</th><th scope=col>&lt;int&gt;</th><th scope=col>&lt;int&gt;</th><th scope=col>&lt;chr&gt;</th><th scope=col>&lt;dbl&gt;</th><th scope=col>&lt;chr&gt;</th><th scope=col>&lt;chr&gt;</th></tr>\n",
       "</thead>\n",
       "<tbody>\n",
       "\t<tr><th scope=row>1</th><td>1</td><td>1</td><td>Allen, Miss. Elisabeth Walton                  </td><td>female</td><td>29.0000</td><td>0</td><td>0</td><td>24160 </td><td>211.3375</td><td>B5     </td><td>S</td></tr>\n",
       "\t<tr><th scope=row>2</th><td>1</td><td>1</td><td>Allison, Master. Hudson Trevor                 </td><td>male  </td><td> 0.9167</td><td>1</td><td>2</td><td>113781</td><td>151.5500</td><td>C22 C26</td><td>S</td></tr>\n",
       "\t<tr><th scope=row>3</th><td>1</td><td>0</td><td>Allison, Miss. Helen Loraine                   </td><td>female</td><td> 2.0000</td><td>1</td><td>2</td><td>113781</td><td>151.5500</td><td>C22 C26</td><td>S</td></tr>\n",
       "\t<tr><th scope=row>4</th><td>1</td><td>0</td><td>Allison, Mr. Hudson Joshua Creighton           </td><td>male  </td><td>30.0000</td><td>1</td><td>2</td><td>113781</td><td>151.5500</td><td>C22 C26</td><td>S</td></tr>\n",
       "\t<tr><th scope=row>5</th><td>1</td><td>0</td><td>Allison, Mrs. Hudson J C (Bessie Waldo Daniels)</td><td>female</td><td>25.0000</td><td>1</td><td>2</td><td>113781</td><td>151.5500</td><td>C22 C26</td><td>S</td></tr>\n",
       "</tbody>\n",
       "</table>\n"
      ],
      "text/latex": [
       "A data.frame: 5 × 11\n",
       "\\begin{tabular}{r|lllllllllll}\n",
       "  & pclass & survived & name & sex & age & sibsp & parch & ticket & fare & cabin & embarked\\\\\n",
       "  & <int> & <int> & <chr> & <chr> & <dbl> & <int> & <int> & <chr> & <dbl> & <chr> & <chr>\\\\\n",
       "\\hline\n",
       "\t1 & 1 & 1 & Allen, Miss. Elisabeth Walton                   & female & 29.0000 & 0 & 0 & 24160  & 211.3375 & B5      & S\\\\\n",
       "\t2 & 1 & 1 & Allison, Master. Hudson Trevor                  & male   &  0.9167 & 1 & 2 & 113781 & 151.5500 & C22 C26 & S\\\\\n",
       "\t3 & 1 & 0 & Allison, Miss. Helen Loraine                    & female &  2.0000 & 1 & 2 & 113781 & 151.5500 & C22 C26 & S\\\\\n",
       "\t4 & 1 & 0 & Allison, Mr. Hudson Joshua Creighton            & male   & 30.0000 & 1 & 2 & 113781 & 151.5500 & C22 C26 & S\\\\\n",
       "\t5 & 1 & 0 & Allison, Mrs. Hudson J C (Bessie Waldo Daniels) & female & 25.0000 & 1 & 2 & 113781 & 151.5500 & C22 C26 & S\\\\\n",
       "\\end{tabular}\n"
      ],
      "text/markdown": [
       "\n",
       "A data.frame: 5 × 11\n",
       "\n",
       "| <!--/--> | pclass &lt;int&gt; | survived &lt;int&gt; | name &lt;chr&gt; | sex &lt;chr&gt; | age &lt;dbl&gt; | sibsp &lt;int&gt; | parch &lt;int&gt; | ticket &lt;chr&gt; | fare &lt;dbl&gt; | cabin &lt;chr&gt; | embarked &lt;chr&gt; |\n",
       "|---|---|---|---|---|---|---|---|---|---|---|---|\n",
       "| 1 | 1 | 1 | Allen, Miss. Elisabeth Walton                   | female | 29.0000 | 0 | 0 | 24160  | 211.3375 | B5      | S |\n",
       "| 2 | 1 | 1 | Allison, Master. Hudson Trevor                  | male   |  0.9167 | 1 | 2 | 113781 | 151.5500 | C22 C26 | S |\n",
       "| 3 | 1 | 0 | Allison, Miss. Helen Loraine                    | female |  2.0000 | 1 | 2 | 113781 | 151.5500 | C22 C26 | S |\n",
       "| 4 | 1 | 0 | Allison, Mr. Hudson Joshua Creighton            | male   | 30.0000 | 1 | 2 | 113781 | 151.5500 | C22 C26 | S |\n",
       "| 5 | 1 | 0 | Allison, Mrs. Hudson J C (Bessie Waldo Daniels) | female | 25.0000 | 1 | 2 | 113781 | 151.5500 | C22 C26 | S |\n",
       "\n"
      ],
      "text/plain": [
       "  pclass survived name                                            sex   \n",
       "1 1      1        Allen, Miss. Elisabeth Walton                   female\n",
       "2 1      1        Allison, Master. Hudson Trevor                  male  \n",
       "3 1      0        Allison, Miss. Helen Loraine                    female\n",
       "4 1      0        Allison, Mr. Hudson Joshua Creighton            male  \n",
       "5 1      0        Allison, Mrs. Hudson J C (Bessie Waldo Daniels) female\n",
       "  age     sibsp parch ticket fare     cabin   embarked\n",
       "1 29.0000 0     0     24160  211.3375 B5      S       \n",
       "2  0.9167 1     2     113781 151.5500 C22 C26 S       \n",
       "3  2.0000 1     2     113781 151.5500 C22 C26 S       \n",
       "4 30.0000 1     2     113781 151.5500 C22 C26 S       \n",
       "5 25.0000 1     2     113781 151.5500 C22 C26 S       "
      ]
     },
     "metadata": {},
     "output_type": "display_data"
    }
   ],
   "source": [
    "titanic <- read.csv('./data/titanic.csv')\n",
    "head(titanic, 5)"
   ]
  },
  {
   "cell_type": "code",
   "execution_count": 163,
   "id": "ff452084-3315-4453-9065-4d977ef77c05",
   "metadata": {},
   "outputs": [
    {
     "name": "stdout",
     "output_type": "stream",
     "text": [
      "'data.frame':\t1310 obs. of  11 variables:\n",
      " $ pclass  : int  1 1 1 1 1 1 1 1 1 1 ...\n",
      " $ survived: int  1 1 0 0 0 1 1 0 1 0 ...\n",
      " $ name    : chr  \"Allen, Miss. Elisabeth Walton\" \"Allison, Master. Hudson Trevor\" \"Allison, Miss. Helen Loraine\" \"Allison, Mr. Hudson Joshua Creighton\" ...\n",
      " $ sex     : chr  \"female\" \"male\" \"female\" \"male\" ...\n",
      " $ age     : num  29 0.917 2 30 25 ...\n",
      " $ sibsp   : int  0 1 1 1 1 0 1 0 2 0 ...\n",
      " $ parch   : int  0 2 2 2 2 0 0 0 0 0 ...\n",
      " $ ticket  : chr  \"24160\" \"113781\" \"113781\" \"113781\" ...\n",
      " $ fare    : num  211 152 152 152 152 ...\n",
      " $ cabin   : chr  \"B5\" \"C22 C26\" \"C22 C26\" \"C22 C26\" ...\n",
      " $ embarked: chr  \"S\" \"S\" \"S\" \"S\" ...\n"
     ]
    }
   ],
   "source": [
    "str(titanic)"
   ]
  },
  {
   "cell_type": "code",
   "execution_count": 173,
   "id": "8b62da88-bbba-49bd-91f7-1a0356b9ff3b",
   "metadata": {},
   "outputs": [
    {
     "data": {
      "text/plain": [
       "     pclass         survived         name               sex           \n",
       " Min.   :1.000   Min.   :0.000   Length:1310        Length:1310       \n",
       " 1st Qu.:2.000   1st Qu.:0.000   Class :character   Class :character  \n",
       " Median :3.000   Median :0.000   Mode  :character   Mode  :character  \n",
       " Mean   :2.295   Mean   :0.382                                        \n",
       " 3rd Qu.:3.000   3rd Qu.:1.000                                        \n",
       " Max.   :3.000   Max.   :1.000                                        \n",
       " NA's   :1       NA's   :1                                            \n",
       "      age              sibsp            parch          ticket         \n",
       " Min.   : 0.1667   Min.   :0.0000   Min.   :0.000   Length:1310       \n",
       " 1st Qu.:21.0000   1st Qu.:0.0000   1st Qu.:0.000   Class :character  \n",
       " Median :28.0000   Median :0.0000   Median :0.000   Mode  :character  \n",
       " Mean   :29.8811   Mean   :0.4989   Mean   :0.385                     \n",
       " 3rd Qu.:39.0000   3rd Qu.:1.0000   3rd Qu.:0.000                     \n",
       " Max.   :80.0000   Max.   :8.0000   Max.   :9.000                     \n",
       " NA's   :264       NA's   :1        NA's   :1                         \n",
       "      fare            cabin             embarked        \n",
       " Min.   :  0.000   Length:1310        Length:1310       \n",
       " 1st Qu.:  7.896   Class :character   Class :character  \n",
       " Median : 14.454   Mode  :character   Mode  :character  \n",
       " Mean   : 33.295                                        \n",
       " 3rd Qu.: 31.275                                        \n",
       " Max.   :512.329                                        \n",
       " NA's   :2                                              "
      ]
     },
     "metadata": {},
     "output_type": "display_data"
    }
   ],
   "source": [
    "summary(titanic)"
   ]
  },
  {
   "cell_type": "code",
   "execution_count": 166,
   "id": "24417ecf-8138-4cbf-93de-f38bf6f578b0",
   "metadata": {},
   "outputs": [
    {
     "data": {
      "text/html": [
       "29.9"
      ],
      "text/latex": [
       "29.9"
      ],
      "text/markdown": [
       "29.9"
      ],
      "text/plain": [
       "[1] 29.9"
      ]
     },
     "metadata": {},
     "output_type": "display_data"
    }
   ],
   "source": [
    "round(mean(titanic$age, na.rm=T), digits = 1)"
   ]
  },
  {
   "cell_type": "code",
   "execution_count": 167,
   "id": "956d055f-fd4f-4c73-a0e4-c4e138b6c441",
   "metadata": {},
   "outputs": [
    {
     "data": {
      "text/html": [
       "28"
      ],
      "text/latex": [
       "28"
      ],
      "text/markdown": [
       "28"
      ],
      "text/plain": [
       "[1] 28"
      ]
     },
     "metadata": {},
     "output_type": "display_data"
    }
   ],
   "source": [
    "round(median(titanic$age, na.rm=T), digits = 1)"
   ]
  },
  {
   "cell_type": "code",
   "execution_count": 169,
   "id": "f0993475-2e74-4564-ab91-32e60cc063cc",
   "metadata": {},
   "outputs": [
    {
     "data": {
      "text/html": [
       "33.3"
      ],
      "text/latex": [
       "33.3"
      ],
      "text/markdown": [
       "33.3"
      ],
      "text/plain": [
       "[1] 33.3"
      ]
     },
     "metadata": {},
     "output_type": "display_data"
    }
   ],
   "source": [
    "round(mean(titanic$fare, na.rm=T), digits = 1)"
   ]
  },
  {
   "cell_type": "code",
   "execution_count": 168,
   "id": "1dc881a6-1ada-4acb-8754-752c0a4cbf2a",
   "metadata": {},
   "outputs": [
    {
     "data": {
      "text/html": [
       "14.5"
      ],
      "text/latex": [
       "14.5"
      ],
      "text/markdown": [
       "14.5"
      ],
      "text/plain": [
       "[1] 14.5"
      ]
     },
     "metadata": {},
     "output_type": "display_data"
    }
   ],
   "source": [
    "round(median(titanic$fare, na.rm=T), digits = 1)"
   ]
  },
  {
   "cell_type": "code",
   "execution_count": 171,
   "id": "93ae0a3d-ee75-4ec8-bbbe-50383a194af3",
   "metadata": {},
   "outputs": [
    {
     "data": {
      "text/plain": [
       "\n",
       "  0   1 \n",
       "809 500 "
      ]
     },
     "metadata": {},
     "output_type": "display_data"
    }
   ],
   "source": [
    "table(titanic$survived)"
   ]
  },
  {
   "cell_type": "code",
   "execution_count": 170,
   "id": "9558f3b5-ff6a-4ace-9192-553819882a47",
   "metadata": {},
   "outputs": [
    {
     "data": {
      "text/plain": [
       "\n",
       "       female   male \n",
       "     1    466    843 "
      ]
     },
     "metadata": {},
     "output_type": "display_data"
    }
   ],
   "source": [
    "table(titanic$sex)"
   ]
  },
  {
   "cell_type": "code",
   "execution_count": 172,
   "id": "7ea58386-1d35-4558-9024-d4b21640df17",
   "metadata": {},
   "outputs": [
    {
     "data": {
      "text/plain": [
       "\n",
       "  1   2   3 \n",
       "323 277 709 "
      ]
     },
     "metadata": {},
     "output_type": "display_data"
    }
   ],
   "source": [
    "table(titanic$pclass)"
   ]
  },
  {
   "cell_type": "code",
   "execution_count": 174,
   "id": "aaa62cd9-e880-4afc-aa65-4bd01a803943",
   "metadata": {},
   "outputs": [
    {
     "data": {
      "text/plain": [
       "\n",
       "      C   Q   S \n",
       "  3 270 123 914 "
      ]
     },
     "metadata": {},
     "output_type": "display_data"
    }
   ],
   "source": [
    "table(titanic$embarked)"
   ]
  },
  {
   "cell_type": "code",
   "execution_count": null,
   "id": "4ebe51df-5a82-4da3-94f9-6d8fb4022533",
   "metadata": {},
   "outputs": [],
   "source": []
  }
 ],
 "metadata": {
  "kernelspec": {
   "display_name": "R",
   "language": "R",
   "name": "ir"
  },
  "language_info": {
   "codemirror_mode": "r",
   "file_extension": ".r",
   "mimetype": "text/x-r-source",
   "name": "R",
   "pygments_lexer": "r",
   "version": "4.3.1"
  }
 },
 "nbformat": 4,
 "nbformat_minor": 5
}
