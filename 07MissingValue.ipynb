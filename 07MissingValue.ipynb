{
 "cells": [
  {
   "cell_type": "markdown",
   "id": "35922b05-c7cf-40a2-a9e4-6d4bbeefc68f",
   "metadata": {},
   "source": [
    "# 결측치missing value 처리하기\n",
    "* 데이터 수집과정에서 채워지지 못한 값을 의미\n",
    "* 데이터에 결측치가 포함되어 있으면\n",
    "* 데이터 분석시 편향/왜곡된 결과가 도출될 수 있음\n",
    "* 해결책 : 제거하거나 추정값으로 대체"
   ]
  },
  {
   "cell_type": "markdown",
   "id": "56f26bab-799d-4979-b71b-45973244aced",
   "metadata": {},
   "source": [
    "### 결측치 제거"
   ]
  },
  {
   "cell_type": "code",
   "execution_count": 3,
   "id": "9ed21693-b5ad-4bef-8dfa-cc0c399af205",
   "metadata": {},
   "outputs": [
    {
     "name": "stdout",
     "output_type": "stream",
     "text": [
      "[1] NA\n",
      "[1] 18\n"
     ]
    }
   ],
   "source": [
    "x <- c(1,2,3, NA, 5, NA, 7)\n",
    "\n",
    "print(sum(x))  # 결측치가 포함되어 있으므로 NA 출력!\n",
    "print(sum(x, na.rm=T))  # 결측치 제외하고 함수 적용"
   ]
  },
  {
   "cell_type": "code",
   "execution_count": 4,
   "id": "865293aa-8b06-4826-af98-59d691a0204c",
   "metadata": {},
   "outputs": [
    {
     "data": {
      "text/html": [
       "<style>\n",
       ".list-inline {list-style: none; margin:0; padding: 0}\n",
       ".list-inline>li {display: inline-block}\n",
       ".list-inline>li:not(:last-child)::after {content: \"\\00b7\"; padding: 0 .5ex}\n",
       "</style>\n",
       "<ol class=list-inline><li>FALSE</li><li>FALSE</li><li>FALSE</li><li>TRUE</li><li>FALSE</li><li>TRUE</li><li>FALSE</li></ol>\n"
      ],
      "text/latex": [
       "\\begin{enumerate*}\n",
       "\\item FALSE\n",
       "\\item FALSE\n",
       "\\item FALSE\n",
       "\\item TRUE\n",
       "\\item FALSE\n",
       "\\item TRUE\n",
       "\\item FALSE\n",
       "\\end{enumerate*}\n"
      ],
      "text/markdown": [
       "1. FALSE\n",
       "2. FALSE\n",
       "3. FALSE\n",
       "4. TRUE\n",
       "5. FALSE\n",
       "6. TRUE\n",
       "7. FALSE\n",
       "\n",
       "\n"
      ],
      "text/plain": [
       "[1] FALSE FALSE FALSE  TRUE FALSE  TRUE FALSE"
      ]
     },
     "metadata": {},
     "output_type": "display_data"
    }
   ],
   "source": [
    "# is.na : 결측치 여부 확인\n",
    "is.na(x)"
   ]
  },
  {
   "cell_type": "code",
   "execution_count": 5,
   "id": "9a0f481d-6b23-44aa-aff3-aec2dc4e39c8",
   "metadata": {},
   "outputs": [
    {
     "data": {
      "text/html": [
       "2"
      ],
      "text/latex": [
       "2"
      ],
      "text/markdown": [
       "2"
      ],
      "text/plain": [
       "[1] 2"
      ]
     },
     "metadata": {},
     "output_type": "display_data"
    }
   ],
   "source": [
    "sum(is.na(x))  # NA 인 항목 수 출력"
   ]
  },
  {
   "cell_type": "code",
   "execution_count": 7,
   "id": "6be7ffd3-c4d5-47cb-9785-6cb5915a64d3",
   "metadata": {},
   "outputs": [
    {
     "data": {
      "text/plain": [
       "\n",
       "FALSE  TRUE \n",
       "    5     2 "
      ]
     },
     "metadata": {},
     "output_type": "display_data"
    }
   ],
   "source": [
    "table(is.na(x))  # NA 여부를 빈도표로 출력"
   ]
  },
  {
   "cell_type": "code",
   "execution_count": 8,
   "id": "c7afbe1b-e539-4e87-8e22-1a186ac26a07",
   "metadata": {},
   "outputs": [
    {
     "data": {
      "text/html": [
       "<style>\n",
       ".list-inline {list-style: none; margin:0; padding: 0}\n",
       ".list-inline>li {display: inline-block}\n",
       ".list-inline>li:not(:last-child)::after {content: \"\\00b7\"; padding: 0 .5ex}\n",
       "</style>\n",
       "<ol class=list-inline><li>1</li><li>2</li><li>3</li><li>5</li><li>7</li></ol>\n"
      ],
      "text/latex": [
       "\\begin{enumerate*}\n",
       "\\item 1\n",
       "\\item 2\n",
       "\\item 3\n",
       "\\item 5\n",
       "\\item 7\n",
       "\\end{enumerate*}\n"
      ],
      "text/markdown": [
       "1. 1\n",
       "2. 2\n",
       "3. 3\n",
       "4. 5\n",
       "5. 7\n",
       "\n",
       "\n"
      ],
      "text/plain": [
       "[1] 1 2 3 5 7\n",
       "attr(,\"na.action\")\n",
       "[1] 4 6\n",
       "attr(,\"class\")\n",
       "[1] \"omit\""
      ]
     },
     "metadata": {},
     "output_type": "display_data"
    }
   ],
   "source": [
    "# na.omit : NA요소는 제거하고 출력\n",
    "na.omit(x)"
   ]
  },
  {
   "cell_type": "code",
   "execution_count": 9,
   "id": "e91e7369-c3fe-4a5f-b32b-06eb25cce3d1",
   "metadata": {},
   "outputs": [
    {
     "data": {
      "text/html": [
       "18"
      ],
      "text/latex": [
       "18"
      ],
      "text/markdown": [
       "18"
      ],
      "text/plain": [
       "[1] 18"
      ]
     },
     "metadata": {},
     "output_type": "display_data"
    }
   ],
   "source": [
    "x2 <- na.omit(x)\n",
    "sum(x2)"
   ]
  },
  {
   "cell_type": "markdown",
   "id": "2adbfbde-abd1-4c5a-a492-3dc41682eee1",
   "metadata": {},
   "source": [
    "### 결측치 대체"
   ]
  },
  {
   "cell_type": "code",
   "execution_count": 11,
   "id": "31e9c4e6-2055-4500-a5d7-796e12484d0b",
   "metadata": {},
   "outputs": [
    {
     "data": {
      "text/html": [
       "7.5"
      ],
      "text/latex": [
       "7.5"
      ],
      "text/markdown": [
       "7.5"
      ],
      "text/plain": [
       "[1] 7.5"
      ]
     },
     "metadata": {},
     "output_type": "display_data"
    }
   ],
   "source": [
    "y <- c(10,9,NA,7,NA,NA,4)\n",
    "\n",
    "mean(y, na.rm=T)"
   ]
  },
  {
   "cell_type": "code",
   "execution_count": 12,
   "id": "df26edf9-2c65-45e0-88ef-48714fba1fa3",
   "metadata": {},
   "outputs": [],
   "source": [
    "# 결측치를 중앙값으로 대체\n",
    "m <- median(y, na.rm=T)"
   ]
  },
  {
   "cell_type": "code",
   "execution_count": 13,
   "id": "125cf1bf-3f13-407f-9d9d-30eb7447a14e",
   "metadata": {},
   "outputs": [
    {
     "data": {
      "text/html": [
       "<style>\n",
       ".list-inline {list-style: none; margin:0; padding: 0}\n",
       ".list-inline>li {display: inline-block}\n",
       ".list-inline>li:not(:last-child)::after {content: \"\\00b7\"; padding: 0 .5ex}\n",
       "</style>\n",
       "<ol class=list-inline><li>FALSE</li><li>FALSE</li><li>TRUE</li><li>FALSE</li><li>TRUE</li><li>TRUE</li><li>FALSE</li></ol>\n"
      ],
      "text/latex": [
       "\\begin{enumerate*}\n",
       "\\item FALSE\n",
       "\\item FALSE\n",
       "\\item TRUE\n",
       "\\item FALSE\n",
       "\\item TRUE\n",
       "\\item TRUE\n",
       "\\item FALSE\n",
       "\\end{enumerate*}\n"
      ],
      "text/markdown": [
       "1. FALSE\n",
       "2. FALSE\n",
       "3. TRUE\n",
       "4. FALSE\n",
       "5. TRUE\n",
       "6. TRUE\n",
       "7. FALSE\n",
       "\n",
       "\n"
      ],
      "text/plain": [
       "[1] FALSE FALSE  TRUE FALSE  TRUE  TRUE FALSE"
      ]
     },
     "metadata": {},
     "output_type": "display_data"
    }
   ],
   "source": [
    "is.na(y)"
   ]
  },
  {
   "cell_type": "code",
   "execution_count": 14,
   "id": "4594bde0-f15a-40c4-955d-ec25cc95490d",
   "metadata": {},
   "outputs": [
    {
     "data": {
      "text/html": [
       "<style>\n",
       ".list-inline {list-style: none; margin:0; padding: 0}\n",
       ".list-inline>li {display: inline-block}\n",
       ".list-inline>li:not(:last-child)::after {content: \"\\00b7\"; padding: 0 .5ex}\n",
       "</style>\n",
       "<ol class=list-inline><li>10</li><li>9</li><li>8</li><li>7</li><li>8</li><li>8</li><li>4</li></ol>\n"
      ],
      "text/latex": [
       "\\begin{enumerate*}\n",
       "\\item 10\n",
       "\\item 9\n",
       "\\item 8\n",
       "\\item 7\n",
       "\\item 8\n",
       "\\item 8\n",
       "\\item 4\n",
       "\\end{enumerate*}\n"
      ],
      "text/markdown": [
       "1. 10\n",
       "2. 9\n",
       "3. 8\n",
       "4. 7\n",
       "5. 8\n",
       "6. 8\n",
       "7. 4\n",
       "\n",
       "\n"
      ],
      "text/plain": [
       "[1] 10  9  8  7  8  8  4"
      ]
     },
     "metadata": {},
     "output_type": "display_data"
    }
   ],
   "source": [
    "y[is.na(y)] <- m  # 결측치인 요소에 중앙값으로 대체\n",
    "y"
   ]
  },
  {
   "cell_type": "markdown",
   "id": "7339c949-ebc8-43ce-9524-04aa02fad0ce",
   "metadata": {},
   "source": [
    "### 사원 데이터 결측치 처리"
   ]
  },
  {
   "cell_type": "code",
   "execution_count": 5,
   "id": "0e32ce00-99e5-4ebd-ab3e-8703fce2aa56",
   "metadata": {
    "collapsed": true,
    "jupyter": {
     "outputs_hidden": true
    }
   },
   "outputs": [
    {
     "data": {
      "text/html": [
       "<table class=\"dataframe\">\n",
       "<caption>A data.frame: 5 × 11</caption>\n",
       "<thead>\n",
       "\t<tr><th></th><th scope=col>EMPLOYEE_ID</th><th scope=col>FIRST_NAME</th><th scope=col>LAST_NAME</th><th scope=col>EMAIL</th><th scope=col>PHONE_NUMBER</th><th scope=col>HIRE_DATE</th><th scope=col>JOB_ID</th><th scope=col>SALARY</th><th scope=col>COMMISSION_PCT</th><th scope=col>MANAGER_ID</th><th scope=col>DEPARTMENT_ID</th></tr>\n",
       "\t<tr><th></th><th scope=col>&lt;int&gt;</th><th scope=col>&lt;chr&gt;</th><th scope=col>&lt;chr&gt;</th><th scope=col>&lt;chr&gt;</th><th scope=col>&lt;chr&gt;</th><th scope=col>&lt;chr&gt;</th><th scope=col>&lt;chr&gt;</th><th scope=col>&lt;dbl&gt;</th><th scope=col>&lt;dbl&gt;</th><th scope=col>&lt;int&gt;</th><th scope=col>&lt;int&gt;</th></tr>\n",
       "</thead>\n",
       "<tbody>\n",
       "\t<tr><th scope=row>1</th><td>100</td><td>Steven   </td><td>King   </td><td>SKING   </td><td>515.123.4567</td><td>2003-06-17</td><td>AD_PRES</td><td>24000</td><td>NA</td><td> NA</td><td>90</td></tr>\n",
       "\t<tr><th scope=row>2</th><td>101</td><td>Neena    </td><td>Kochhar</td><td>NKOCHHAR</td><td>515.123.4568</td><td>2005-09-21</td><td>AD_VP  </td><td>17000</td><td>NA</td><td>100</td><td>90</td></tr>\n",
       "\t<tr><th scope=row>3</th><td>102</td><td>Lex      </td><td>De Haan</td><td>LDEHAAN </td><td>515.123.4569</td><td>2001-01-13</td><td>AD_VP  </td><td>17000</td><td>NA</td><td>100</td><td>90</td></tr>\n",
       "\t<tr><th scope=row>4</th><td>103</td><td>Alexander</td><td>Hunold </td><td>AHUNOLD </td><td>590.423.4567</td><td>2006-01-03</td><td>IT_PROG</td><td> 9000</td><td>NA</td><td>102</td><td>60</td></tr>\n",
       "\t<tr><th scope=row>5</th><td>104</td><td>Bruce    </td><td>Ernst  </td><td>BERNST  </td><td>590.423.4568</td><td>2007-05-21</td><td>IT_PROG</td><td> 6000</td><td>NA</td><td>103</td><td>60</td></tr>\n",
       "</tbody>\n",
       "</table>\n"
      ],
      "text/latex": [
       "A data.frame: 5 × 11\n",
       "\\begin{tabular}{r|lllllllllll}\n",
       "  & EMPLOYEE\\_ID & FIRST\\_NAME & LAST\\_NAME & EMAIL & PHONE\\_NUMBER & HIRE\\_DATE & JOB\\_ID & SALARY & COMMISSION\\_PCT & MANAGER\\_ID & DEPARTMENT\\_ID\\\\\n",
       "  & <int> & <chr> & <chr> & <chr> & <chr> & <chr> & <chr> & <dbl> & <dbl> & <int> & <int>\\\\\n",
       "\\hline\n",
       "\t1 & 100 & Steven    & King    & SKING    & 515.123.4567 & 2003-06-17 & AD\\_PRES & 24000 & NA &  NA & 90\\\\\n",
       "\t2 & 101 & Neena     & Kochhar & NKOCHHAR & 515.123.4568 & 2005-09-21 & AD\\_VP   & 17000 & NA & 100 & 90\\\\\n",
       "\t3 & 102 & Lex       & De Haan & LDEHAAN  & 515.123.4569 & 2001-01-13 & AD\\_VP   & 17000 & NA & 100 & 90\\\\\n",
       "\t4 & 103 & Alexander & Hunold  & AHUNOLD  & 590.423.4567 & 2006-01-03 & IT\\_PROG &  9000 & NA & 102 & 60\\\\\n",
       "\t5 & 104 & Bruce     & Ernst   & BERNST   & 590.423.4568 & 2007-05-21 & IT\\_PROG &  6000 & NA & 103 & 60\\\\\n",
       "\\end{tabular}\n"
      ],
      "text/markdown": [
       "\n",
       "A data.frame: 5 × 11\n",
       "\n",
       "| <!--/--> | EMPLOYEE_ID &lt;int&gt; | FIRST_NAME &lt;chr&gt; | LAST_NAME &lt;chr&gt; | EMAIL &lt;chr&gt; | PHONE_NUMBER &lt;chr&gt; | HIRE_DATE &lt;chr&gt; | JOB_ID &lt;chr&gt; | SALARY &lt;dbl&gt; | COMMISSION_PCT &lt;dbl&gt; | MANAGER_ID &lt;int&gt; | DEPARTMENT_ID &lt;int&gt; |\n",
       "|---|---|---|---|---|---|---|---|---|---|---|---|\n",
       "| 1 | 100 | Steven    | King    | SKING    | 515.123.4567 | 2003-06-17 | AD_PRES | 24000 | NA |  NA | 90 |\n",
       "| 2 | 101 | Neena     | Kochhar | NKOCHHAR | 515.123.4568 | 2005-09-21 | AD_VP   | 17000 | NA | 100 | 90 |\n",
       "| 3 | 102 | Lex       | De Haan | LDEHAAN  | 515.123.4569 | 2001-01-13 | AD_VP   | 17000 | NA | 100 | 90 |\n",
       "| 4 | 103 | Alexander | Hunold  | AHUNOLD  | 590.423.4567 | 2006-01-03 | IT_PROG |  9000 | NA | 102 | 60 |\n",
       "| 5 | 104 | Bruce     | Ernst   | BERNST   | 590.423.4568 | 2007-05-21 | IT_PROG |  6000 | NA | 103 | 60 |\n",
       "\n"
      ],
      "text/plain": [
       "  EMPLOYEE_ID FIRST_NAME LAST_NAME EMAIL    PHONE_NUMBER HIRE_DATE  JOB_ID \n",
       "1 100         Steven     King      SKING    515.123.4567 2003-06-17 AD_PRES\n",
       "2 101         Neena      Kochhar   NKOCHHAR 515.123.4568 2005-09-21 AD_VP  \n",
       "3 102         Lex        De Haan   LDEHAAN  515.123.4569 2001-01-13 AD_VP  \n",
       "4 103         Alexander  Hunold    AHUNOLD  590.423.4567 2006-01-03 IT_PROG\n",
       "5 104         Bruce      Ernst     BERNST   590.423.4568 2007-05-21 IT_PROG\n",
       "  SALARY COMMISSION_PCT MANAGER_ID DEPARTMENT_ID\n",
       "1 24000  NA              NA        90           \n",
       "2 17000  NA             100        90           \n",
       "3 17000  NA             100        90           \n",
       "4  9000  NA             102        60           \n",
       "5  6000  NA             103        60           "
      ]
     },
     "metadata": {},
     "output_type": "display_data"
    }
   ],
   "source": [
    "emp <- read.csv('./data/employees.csv')\n",
    "head(emp, 5)"
   ]
  },
  {
   "cell_type": "code",
   "execution_count": 6,
   "id": "2ce2cb9a-8683-4c77-a1b3-138bbae6c579",
   "metadata": {},
   "outputs": [
    {
     "data": {
      "text/html": [
       "74"
      ],
      "text/latex": [
       "74"
      ],
      "text/markdown": [
       "74"
      ],
      "text/plain": [
       "[1] 74"
      ]
     },
     "metadata": {},
     "output_type": "display_data"
    }
   ],
   "source": [
    "# 결측치 확인 1\n",
    "sum(is.na(emp))"
   ]
  },
  {
   "cell_type": "code",
   "execution_count": 7,
   "id": "872f1188-0fb9-4bbe-afbf-3496799b64e3",
   "metadata": {},
   "outputs": [
    {
     "data": {
      "text/plain": [
       "\n",
       "FALSE  TRUE \n",
       " 1103    74 "
      ]
     },
     "metadata": {},
     "output_type": "display_data"
    }
   ],
   "source": [
    "# 결측치 확인 2\n",
    "table(is.na(emp))"
   ]
  },
  {
   "cell_type": "code",
   "execution_count": 8,
   "id": "93528aea-54c0-4050-ae84-e2e56046e105",
   "metadata": {},
   "outputs": [
    {
     "data": {
      "text/html": [
       "<style>\n",
       ".dl-inline {width: auto; margin:0; padding: 0}\n",
       ".dl-inline>dt, .dl-inline>dd {float: none; width: auto; display: inline-block}\n",
       ".dl-inline>dt::after {content: \":\\0020\"; padding-right: .5ex}\n",
       ".dl-inline>dt:not(:first-of-type) {padding-left: .5ex}\n",
       "</style><dl class=dl-inline><dt>EMPLOYEE_ID</dt><dd>0</dd><dt>FIRST_NAME</dt><dd>0</dd><dt>LAST_NAME</dt><dd>0</dd><dt>EMAIL</dt><dd>0</dd><dt>PHONE_NUMBER</dt><dd>0</dd><dt>HIRE_DATE</dt><dd>0</dd><dt>JOB_ID</dt><dd>0</dd><dt>SALARY</dt><dd>0</dd><dt>COMMISSION_PCT</dt><dd>72</dd><dt>MANAGER_ID</dt><dd>1</dd><dt>DEPARTMENT_ID</dt><dd>1</dd></dl>\n"
      ],
      "text/latex": [
       "\\begin{description*}\n",
       "\\item[EMPLOYEE\\textbackslash{}\\_ID] 0\n",
       "\\item[FIRST\\textbackslash{}\\_NAME] 0\n",
       "\\item[LAST\\textbackslash{}\\_NAME] 0\n",
       "\\item[EMAIL] 0\n",
       "\\item[PHONE\\textbackslash{}\\_NUMBER] 0\n",
       "\\item[HIRE\\textbackslash{}\\_DATE] 0\n",
       "\\item[JOB\\textbackslash{}\\_ID] 0\n",
       "\\item[SALARY] 0\n",
       "\\item[COMMISSION\\textbackslash{}\\_PCT] 72\n",
       "\\item[MANAGER\\textbackslash{}\\_ID] 1\n",
       "\\item[DEPARTMENT\\textbackslash{}\\_ID] 1\n",
       "\\end{description*}\n"
      ],
      "text/markdown": [
       "EMPLOYEE_ID\n",
       ":   0FIRST_NAME\n",
       ":   0LAST_NAME\n",
       ":   0EMAIL\n",
       ":   0PHONE_NUMBER\n",
       ":   0HIRE_DATE\n",
       ":   0JOB_ID\n",
       ":   0SALARY\n",
       ":   0COMMISSION_PCT\n",
       ":   72MANAGER_ID\n",
       ":   1DEPARTMENT_ID\n",
       ":   1\n",
       "\n"
      ],
      "text/plain": [
       "   EMPLOYEE_ID     FIRST_NAME      LAST_NAME          EMAIL   PHONE_NUMBER \n",
       "             0              0              0              0              0 \n",
       "     HIRE_DATE         JOB_ID         SALARY COMMISSION_PCT     MANAGER_ID \n",
       "             0              0              0             72              1 \n",
       " DEPARTMENT_ID \n",
       "             1 "
      ]
     },
     "metadata": {},
     "output_type": "display_data"
    }
   ],
   "source": [
    "# 결측치 확인 3\n",
    "# colSums : 조건에 따른 컬럼별 합계 출력\n",
    "colSums(is.na(emp))"
   ]
  },
  {
   "cell_type": "code",
   "execution_count": 9,
   "id": "c0bb8a41-7b43-47e7-b6ed-50f028fd71e3",
   "metadata": {},
   "outputs": [],
   "source": [
    "# 수당이 없는 사원들을 대상으로 NA를 0으로 변경\n",
    "find <- is.na(emp$COMMISSION_PCT)\n",
    "emp$COMMISSION_PCT[find] <- 0"
   ]
  },
  {
   "cell_type": "code",
   "execution_count": 10,
   "id": "df982fee-cf6d-4a1c-8fe6-9ba561e783e4",
   "metadata": {},
   "outputs": [
    {
     "data": {
      "text/html": [
       "<style>\n",
       ".list-inline {list-style: none; margin:0; padding: 0}\n",
       ".list-inline>li {display: inline-block}\n",
       ".list-inline>li:not(:last-child)::after {content: \"\\00b7\"; padding: 0 .5ex}\n",
       "</style>\n",
       "<ol class=list-inline><li>0</li><li>0</li><li>0</li><li>0</li><li>0</li><li>0</li><li>0</li><li>0</li><li>0</li><li>0</li><li>0</li><li>0</li><li>0</li><li>0</li><li>0</li><li>0</li><li>0</li><li>0</li><li>0</li><li>0</li><li>0</li><li>0</li><li>0</li><li>0</li><li>0</li><li>0</li><li>0</li><li>0</li><li>0</li><li>0</li><li>0</li><li>0</li><li>0</li><li>0</li><li>0</li><li>0</li><li>0</li><li>0</li><li>0</li><li>0</li><li>0</li><li>0</li><li>0</li><li>0</li><li>0</li><li>0.4</li><li>0.3</li><li>0.3</li><li>0.3</li><li>0.2</li><li>0.3</li><li>0.25</li><li>0.25</li><li>0.2</li><li>0.2</li><li>0.15</li><li>0.35</li><li>0.35</li><li>0.35</li><li>0.3</li><li>0.3</li><li>0.25</li><li>0.25</li><li>0.15</li><li>0.1</li><li>0.1</li><li>0.1</li><li>0.1</li><li>0.25</li><li>0.2</li><li>0.2</li><li>0.15</li><li>0.15</li><li>0.1</li><li>0.3</li><li>0.25</li><li>0.2</li><li>0.2</li><li>0.15</li><li>0.1</li><li>0</li><li>0</li><li>0</li><li>0</li><li>0</li><li>0</li><li>0</li><li>0</li><li>0</li><li>0</li><li>0</li><li>0</li><li>0</li><li>0</li><li>0</li><li>0</li><li>0</li><li>0</li><li>0</li><li>0</li><li>0</li><li>0</li><li>0</li><li>0</li><li>0</li><li>0</li><li>0</li></ol>\n"
      ],
      "text/latex": [
       "\\begin{enumerate*}\n",
       "\\item 0\n",
       "\\item 0\n",
       "\\item 0\n",
       "\\item 0\n",
       "\\item 0\n",
       "\\item 0\n",
       "\\item 0\n",
       "\\item 0\n",
       "\\item 0\n",
       "\\item 0\n",
       "\\item 0\n",
       "\\item 0\n",
       "\\item 0\n",
       "\\item 0\n",
       "\\item 0\n",
       "\\item 0\n",
       "\\item 0\n",
       "\\item 0\n",
       "\\item 0\n",
       "\\item 0\n",
       "\\item 0\n",
       "\\item 0\n",
       "\\item 0\n",
       "\\item 0\n",
       "\\item 0\n",
       "\\item 0\n",
       "\\item 0\n",
       "\\item 0\n",
       "\\item 0\n",
       "\\item 0\n",
       "\\item 0\n",
       "\\item 0\n",
       "\\item 0\n",
       "\\item 0\n",
       "\\item 0\n",
       "\\item 0\n",
       "\\item 0\n",
       "\\item 0\n",
       "\\item 0\n",
       "\\item 0\n",
       "\\item 0\n",
       "\\item 0\n",
       "\\item 0\n",
       "\\item 0\n",
       "\\item 0\n",
       "\\item 0.4\n",
       "\\item 0.3\n",
       "\\item 0.3\n",
       "\\item 0.3\n",
       "\\item 0.2\n",
       "\\item 0.3\n",
       "\\item 0.25\n",
       "\\item 0.25\n",
       "\\item 0.2\n",
       "\\item 0.2\n",
       "\\item 0.15\n",
       "\\item 0.35\n",
       "\\item 0.35\n",
       "\\item 0.35\n",
       "\\item 0.3\n",
       "\\item 0.3\n",
       "\\item 0.25\n",
       "\\item 0.25\n",
       "\\item 0.15\n",
       "\\item 0.1\n",
       "\\item 0.1\n",
       "\\item 0.1\n",
       "\\item 0.1\n",
       "\\item 0.25\n",
       "\\item 0.2\n",
       "\\item 0.2\n",
       "\\item 0.15\n",
       "\\item 0.15\n",
       "\\item 0.1\n",
       "\\item 0.3\n",
       "\\item 0.25\n",
       "\\item 0.2\n",
       "\\item 0.2\n",
       "\\item 0.15\n",
       "\\item 0.1\n",
       "\\item 0\n",
       "\\item 0\n",
       "\\item 0\n",
       "\\item 0\n",
       "\\item 0\n",
       "\\item 0\n",
       "\\item 0\n",
       "\\item 0\n",
       "\\item 0\n",
       "\\item 0\n",
       "\\item 0\n",
       "\\item 0\n",
       "\\item 0\n",
       "\\item 0\n",
       "\\item 0\n",
       "\\item 0\n",
       "\\item 0\n",
       "\\item 0\n",
       "\\item 0\n",
       "\\item 0\n",
       "\\item 0\n",
       "\\item 0\n",
       "\\item 0\n",
       "\\item 0\n",
       "\\item 0\n",
       "\\item 0\n",
       "\\item 0\n",
       "\\end{enumerate*}\n"
      ],
      "text/markdown": [
       "1. 0\n",
       "2. 0\n",
       "3. 0\n",
       "4. 0\n",
       "5. 0\n",
       "6. 0\n",
       "7. 0\n",
       "8. 0\n",
       "9. 0\n",
       "10. 0\n",
       "11. 0\n",
       "12. 0\n",
       "13. 0\n",
       "14. 0\n",
       "15. 0\n",
       "16. 0\n",
       "17. 0\n",
       "18. 0\n",
       "19. 0\n",
       "20. 0\n",
       "21. 0\n",
       "22. 0\n",
       "23. 0\n",
       "24. 0\n",
       "25. 0\n",
       "26. 0\n",
       "27. 0\n",
       "28. 0\n",
       "29. 0\n",
       "30. 0\n",
       "31. 0\n",
       "32. 0\n",
       "33. 0\n",
       "34. 0\n",
       "35. 0\n",
       "36. 0\n",
       "37. 0\n",
       "38. 0\n",
       "39. 0\n",
       "40. 0\n",
       "41. 0\n",
       "42. 0\n",
       "43. 0\n",
       "44. 0\n",
       "45. 0\n",
       "46. 0.4\n",
       "47. 0.3\n",
       "48. 0.3\n",
       "49. 0.3\n",
       "50. 0.2\n",
       "51. 0.3\n",
       "52. 0.25\n",
       "53. 0.25\n",
       "54. 0.2\n",
       "55. 0.2\n",
       "56. 0.15\n",
       "57. 0.35\n",
       "58. 0.35\n",
       "59. 0.35\n",
       "60. 0.3\n",
       "61. 0.3\n",
       "62. 0.25\n",
       "63. 0.25\n",
       "64. 0.15\n",
       "65. 0.1\n",
       "66. 0.1\n",
       "67. 0.1\n",
       "68. 0.1\n",
       "69. 0.25\n",
       "70. 0.2\n",
       "71. 0.2\n",
       "72. 0.15\n",
       "73. 0.15\n",
       "74. 0.1\n",
       "75. 0.3\n",
       "76. 0.25\n",
       "77. 0.2\n",
       "78. 0.2\n",
       "79. 0.15\n",
       "80. 0.1\n",
       "81. 0\n",
       "82. 0\n",
       "83. 0\n",
       "84. 0\n",
       "85. 0\n",
       "86. 0\n",
       "87. 0\n",
       "88. 0\n",
       "89. 0\n",
       "90. 0\n",
       "91. 0\n",
       "92. 0\n",
       "93. 0\n",
       "94. 0\n",
       "95. 0\n",
       "96. 0\n",
       "97. 0\n",
       "98. 0\n",
       "99. 0\n",
       "100. 0\n",
       "101. 0\n",
       "102. 0\n",
       "103. 0\n",
       "104. 0\n",
       "105. 0\n",
       "106. 0\n",
       "107. 0\n",
       "\n",
       "\n"
      ],
      "text/plain": [
       "  [1] 0.00 0.00 0.00 0.00 0.00 0.00 0.00 0.00 0.00 0.00 0.00 0.00 0.00 0.00 0.00\n",
       " [16] 0.00 0.00 0.00 0.00 0.00 0.00 0.00 0.00 0.00 0.00 0.00 0.00 0.00 0.00 0.00\n",
       " [31] 0.00 0.00 0.00 0.00 0.00 0.00 0.00 0.00 0.00 0.00 0.00 0.00 0.00 0.00 0.00\n",
       " [46] 0.40 0.30 0.30 0.30 0.20 0.30 0.25 0.25 0.20 0.20 0.15 0.35 0.35 0.35 0.30\n",
       " [61] 0.30 0.25 0.25 0.15 0.10 0.10 0.10 0.10 0.25 0.20 0.20 0.15 0.15 0.10 0.30\n",
       " [76] 0.25 0.20 0.20 0.15 0.10 0.00 0.00 0.00 0.00 0.00 0.00 0.00 0.00 0.00 0.00\n",
       " [91] 0.00 0.00 0.00 0.00 0.00 0.00 0.00 0.00 0.00 0.00 0.00 0.00 0.00 0.00 0.00\n",
       "[106] 0.00 0.00"
      ]
     },
     "metadata": {},
     "output_type": "display_data"
    }
   ],
   "source": [
    "# 수당이 없는 사원들을 대상으로 NA를 0으로 변경\n",
    "emp$COMMISSION_PCT"
   ]
  },
  {
   "cell_type": "code",
   "execution_count": 11,
   "id": "64a1097a-6dbe-485b-bfc0-5b13fe8dec6d",
   "metadata": {
    "collapsed": true,
    "jupyter": {
     "outputs_hidden": true
    }
   },
   "outputs": [
    {
     "data": {
      "text/html": [
       "<table class=\"dataframe\">\n",
       "<caption>A data.frame: 5 × 11</caption>\n",
       "<thead>\n",
       "\t<tr><th></th><th scope=col>EMPLOYEE_ID</th><th scope=col>FIRST_NAME</th><th scope=col>LAST_NAME</th><th scope=col>EMAIL</th><th scope=col>PHONE_NUMBER</th><th scope=col>HIRE_DATE</th><th scope=col>JOB_ID</th><th scope=col>SALARY</th><th scope=col>COMMISSION_PCT</th><th scope=col>MANAGER_ID</th><th scope=col>DEPARTMENT_ID</th></tr>\n",
       "\t<tr><th></th><th scope=col>&lt;int&gt;</th><th scope=col>&lt;chr&gt;</th><th scope=col>&lt;chr&gt;</th><th scope=col>&lt;chr&gt;</th><th scope=col>&lt;chr&gt;</th><th scope=col>&lt;chr&gt;</th><th scope=col>&lt;chr&gt;</th><th scope=col>&lt;dbl&gt;</th><th scope=col>&lt;dbl&gt;</th><th scope=col>&lt;int&gt;</th><th scope=col>&lt;int&gt;</th></tr>\n",
       "</thead>\n",
       "<tbody>\n",
       "\t<tr><th scope=row>1</th><td>100</td><td>Steven   </td><td>King   </td><td>SKING   </td><td>515.123.4567</td><td>2003-06-17</td><td>AD_PRES</td><td>24000</td><td>0</td><td> NA</td><td>90</td></tr>\n",
       "\t<tr><th scope=row>2</th><td>101</td><td>Neena    </td><td>Kochhar</td><td>NKOCHHAR</td><td>515.123.4568</td><td>2005-09-21</td><td>AD_VP  </td><td>17000</td><td>0</td><td>100</td><td>90</td></tr>\n",
       "\t<tr><th scope=row>3</th><td>102</td><td>Lex      </td><td>De Haan</td><td>LDEHAAN </td><td>515.123.4569</td><td>2001-01-13</td><td>AD_VP  </td><td>17000</td><td>0</td><td>100</td><td>90</td></tr>\n",
       "\t<tr><th scope=row>4</th><td>103</td><td>Alexander</td><td>Hunold </td><td>AHUNOLD </td><td>590.423.4567</td><td>2006-01-03</td><td>IT_PROG</td><td> 9000</td><td>0</td><td>102</td><td>60</td></tr>\n",
       "\t<tr><th scope=row>5</th><td>104</td><td>Bruce    </td><td>Ernst  </td><td>BERNST  </td><td>590.423.4568</td><td>2007-05-21</td><td>IT_PROG</td><td> 6000</td><td>0</td><td>103</td><td>60</td></tr>\n",
       "</tbody>\n",
       "</table>\n"
      ],
      "text/latex": [
       "A data.frame: 5 × 11\n",
       "\\begin{tabular}{r|lllllllllll}\n",
       "  & EMPLOYEE\\_ID & FIRST\\_NAME & LAST\\_NAME & EMAIL & PHONE\\_NUMBER & HIRE\\_DATE & JOB\\_ID & SALARY & COMMISSION\\_PCT & MANAGER\\_ID & DEPARTMENT\\_ID\\\\\n",
       "  & <int> & <chr> & <chr> & <chr> & <chr> & <chr> & <chr> & <dbl> & <dbl> & <int> & <int>\\\\\n",
       "\\hline\n",
       "\t1 & 100 & Steven    & King    & SKING    & 515.123.4567 & 2003-06-17 & AD\\_PRES & 24000 & 0 &  NA & 90\\\\\n",
       "\t2 & 101 & Neena     & Kochhar & NKOCHHAR & 515.123.4568 & 2005-09-21 & AD\\_VP   & 17000 & 0 & 100 & 90\\\\\n",
       "\t3 & 102 & Lex       & De Haan & LDEHAAN  & 515.123.4569 & 2001-01-13 & AD\\_VP   & 17000 & 0 & 100 & 90\\\\\n",
       "\t4 & 103 & Alexander & Hunold  & AHUNOLD  & 590.423.4567 & 2006-01-03 & IT\\_PROG &  9000 & 0 & 102 & 60\\\\\n",
       "\t5 & 104 & Bruce     & Ernst   & BERNST   & 590.423.4568 & 2007-05-21 & IT\\_PROG &  6000 & 0 & 103 & 60\\\\\n",
       "\\end{tabular}\n"
      ],
      "text/markdown": [
       "\n",
       "A data.frame: 5 × 11\n",
       "\n",
       "| <!--/--> | EMPLOYEE_ID &lt;int&gt; | FIRST_NAME &lt;chr&gt; | LAST_NAME &lt;chr&gt; | EMAIL &lt;chr&gt; | PHONE_NUMBER &lt;chr&gt; | HIRE_DATE &lt;chr&gt; | JOB_ID &lt;chr&gt; | SALARY &lt;dbl&gt; | COMMISSION_PCT &lt;dbl&gt; | MANAGER_ID &lt;int&gt; | DEPARTMENT_ID &lt;int&gt; |\n",
       "|---|---|---|---|---|---|---|---|---|---|---|---|\n",
       "| 1 | 100 | Steven    | King    | SKING    | 515.123.4567 | 2003-06-17 | AD_PRES | 24000 | 0 |  NA | 90 |\n",
       "| 2 | 101 | Neena     | Kochhar | NKOCHHAR | 515.123.4568 | 2005-09-21 | AD_VP   | 17000 | 0 | 100 | 90 |\n",
       "| 3 | 102 | Lex       | De Haan | LDEHAAN  | 515.123.4569 | 2001-01-13 | AD_VP   | 17000 | 0 | 100 | 90 |\n",
       "| 4 | 103 | Alexander | Hunold  | AHUNOLD  | 590.423.4567 | 2006-01-03 | IT_PROG |  9000 | 0 | 102 | 60 |\n",
       "| 5 | 104 | Bruce     | Ernst   | BERNST   | 590.423.4568 | 2007-05-21 | IT_PROG |  6000 | 0 | 103 | 60 |\n",
       "\n"
      ],
      "text/plain": [
       "  EMPLOYEE_ID FIRST_NAME LAST_NAME EMAIL    PHONE_NUMBER HIRE_DATE  JOB_ID \n",
       "1 100         Steven     King      SKING    515.123.4567 2003-06-17 AD_PRES\n",
       "2 101         Neena      Kochhar   NKOCHHAR 515.123.4568 2005-09-21 AD_VP  \n",
       "3 102         Lex        De Haan   LDEHAAN  515.123.4569 2001-01-13 AD_VP  \n",
       "4 103         Alexander  Hunold    AHUNOLD  590.423.4567 2006-01-03 IT_PROG\n",
       "5 104         Bruce      Ernst     BERNST   590.423.4568 2007-05-21 IT_PROG\n",
       "  SALARY COMMISSION_PCT MANAGER_ID DEPARTMENT_ID\n",
       "1 24000  0               NA        90           \n",
       "2 17000  0              100        90           \n",
       "3 17000  0              100        90           \n",
       "4  9000  0              102        60           \n",
       "5  6000  0              103        60           "
      ]
     },
     "metadata": {},
     "output_type": "display_data"
    }
   ],
   "source": [
    "head(emp, 5)"
   ]
  },
  {
   "cell_type": "markdown",
   "id": "109123e4-4ed8-4549-a3dd-d89d57624ea6",
   "metadata": {},
   "source": [
    "### 우편번호 데이터 결측치 처리"
   ]
  },
  {
   "cell_type": "code",
   "execution_count": 3,
   "id": "078df0ba-ef72-4251-abbc-da139f42f44e",
   "metadata": {
    "collapsed": true,
    "jupyter": {
     "outputs_hidden": true
    }
   },
   "outputs": [
    {
     "data": {
      "text/html": [
       "<table class=\"dataframe\">\n",
       "<caption>A data.frame: 5 × 7</caption>\n",
       "<thead>\n",
       "\t<tr><th></th><th scope=col>ZIPCODE</th><th scope=col>SIDO</th><th scope=col>GUGUN</th><th scope=col>DONG</th><th scope=col>RI</th><th scope=col>BUNJI</th><th scope=col>SEQ</th></tr>\n",
       "\t<tr><th></th><th scope=col>&lt;chr&gt;</th><th scope=col>&lt;chr&gt;</th><th scope=col>&lt;chr&gt;</th><th scope=col>&lt;chr&gt;</th><th scope=col>&lt;chr&gt;</th><th scope=col>&lt;chr&gt;</th><th scope=col>&lt;int&gt;</th></tr>\n",
       "</thead>\n",
       "<tbody>\n",
       "\t<tr><th scope=row>1</th><td>135-806</td><td>서울</td><td>강남구</td><td>개포1동</td><td>경남아파트   </td><td>NA         </td><td>1</td></tr>\n",
       "\t<tr><th scope=row>2</th><td>135-807</td><td>서울</td><td>강남구</td><td>개포1동</td><td>우성3차아파트</td><td>(1∼6동)    </td><td>2</td></tr>\n",
       "\t<tr><th scope=row>3</th><td>135-806</td><td>서울</td><td>강남구</td><td>개포1동</td><td>우성9차아파트</td><td>(901∼902동)</td><td>3</td></tr>\n",
       "\t<tr><th scope=row>4</th><td>135-770</td><td>서울</td><td>강남구</td><td>개포1동</td><td>주공아파트   </td><td>(1∼16동)   </td><td>4</td></tr>\n",
       "\t<tr><th scope=row>5</th><td>135-805</td><td>서울</td><td>강남구</td><td>개포1동</td><td>주공아파트   </td><td>(17∼40동)  </td><td>5</td></tr>\n",
       "</tbody>\n",
       "</table>\n"
      ],
      "text/latex": [
       "A data.frame: 5 × 7\n",
       "\\begin{tabular}{r|lllllll}\n",
       "  & ZIPCODE & SIDO & GUGUN & DONG & RI & BUNJI & SEQ\\\\\n",
       "  & <chr> & <chr> & <chr> & <chr> & <chr> & <chr> & <int>\\\\\n",
       "\\hline\n",
       "\t1 & 135-806 & 서울 & 강남구 & 개포1동 & 경남아파트    & NA          & 1\\\\\n",
       "\t2 & 135-807 & 서울 & 강남구 & 개포1동 & 우성3차아파트 & (1∼6동)     & 2\\\\\n",
       "\t3 & 135-806 & 서울 & 강남구 & 개포1동 & 우성9차아파트 & (901∼902동) & 3\\\\\n",
       "\t4 & 135-770 & 서울 & 강남구 & 개포1동 & 주공아파트    & (1∼16동)    & 4\\\\\n",
       "\t5 & 135-805 & 서울 & 강남구 & 개포1동 & 주공아파트    & (17∼40동)   & 5\\\\\n",
       "\\end{tabular}\n"
      ],
      "text/markdown": [
       "\n",
       "A data.frame: 5 × 7\n",
       "\n",
       "| <!--/--> | ZIPCODE &lt;chr&gt; | SIDO &lt;chr&gt; | GUGUN &lt;chr&gt; | DONG &lt;chr&gt; | RI &lt;chr&gt; | BUNJI &lt;chr&gt; | SEQ &lt;int&gt; |\n",
       "|---|---|---|---|---|---|---|---|\n",
       "| 1 | 135-806 | 서울 | 강남구 | 개포1동 | 경남아파트    | NA          | 1 |\n",
       "| 2 | 135-807 | 서울 | 강남구 | 개포1동 | 우성3차아파트 | (1∼6동)     | 2 |\n",
       "| 3 | 135-806 | 서울 | 강남구 | 개포1동 | 우성9차아파트 | (901∼902동) | 3 |\n",
       "| 4 | 135-770 | 서울 | 강남구 | 개포1동 | 주공아파트    | (1∼16동)    | 4 |\n",
       "| 5 | 135-805 | 서울 | 강남구 | 개포1동 | 주공아파트    | (17∼40동)   | 5 |\n",
       "\n"
      ],
      "text/plain": [
       "  ZIPCODE SIDO GUGUN  DONG    RI            BUNJI       SEQ\n",
       "1 135-806 서울 강남구 개포1동 경남아파트    NA          1  \n",
       "2 135-807 서울 강남구 개포1동 우성3차아파트 (1∼6동)     2  \n",
       "3 135-806 서울 강남구 개포1동 우성9차아파트 (901∼902동) 3  \n",
       "4 135-770 서울 강남구 개포1동 주공아파트    (1∼16동)    4  \n",
       "5 135-805 서울 강남구 개포1동 주공아파트    (17∼40동)   5  "
      ]
     },
     "metadata": {},
     "output_type": "display_data"
    }
   ],
   "source": [
    "# sep : 컬럼을 구분할 구분자 지정\n",
    "# encoding : 데이터 객체에 사용할 인코딩 지정\n",
    "# fileEncoding : 파일의 인코딩 형식 지정\n",
    "# na.strings : NA로 지정할 문자열 정의 - 빈 문자열을 NA로 지정\n",
    "zip <- read.csv('./data/zipcode2013.txt', sep='\\t', encoding='utf-8', fileEncoding='euc-kr', na.strings='')\n",
    "head(zip, 5)"
   ]
  },
  {
   "cell_type": "code",
   "execution_count": 4,
   "id": "ddc46a8e-1024-46c6-8c69-b1bf6e8e5397",
   "metadata": {
    "collapsed": true,
    "jupyter": {
     "outputs_hidden": true
    }
   },
   "outputs": [
    {
     "name": "stdout",
     "output_type": "stream",
     "text": [
      "'data.frame':\t52144 obs. of  7 variables:\n",
      " $ ZIPCODE: chr  \"135-806\" \"135-807\" \"135-806\" \"135-770\" ...\n",
      " $ SIDO   : chr  \"서울\" \"서울\" \"서울\" \"서울\" ...\n",
      " $ GUGUN  : chr  \"강남구\" \"강남구\" \"강남구\" \"강남구\" ...\n",
      " $ DONG   : chr  \"개포1동\" \"개포1동\" \"개포1동\" \"개포1동\" ...\n",
      " $ RI     : chr  \"경남아파트\" \"우성3차아파트\" \"우성9차아파트\" \"주공아파트\" ...\n",
      " $ BUNJI  : chr  NA \"(1∼6동)\" \"(901∼902동)\" \"(1∼16동)\" ...\n",
      " $ SEQ    : int  1 2 3 4 5 6 7 8 9 10 ...\n"
     ]
    }
   ],
   "source": [
    "str(zip)"
   ]
  },
  {
   "cell_type": "code",
   "execution_count": 5,
   "id": "c790b6f3-8120-49c0-81a2-7cae8f038f6a",
   "metadata": {},
   "outputs": [
    {
     "data": {
      "text/html": [
       "<style>\n",
       ".dl-inline {width: auto; margin:0; padding: 0}\n",
       ".dl-inline>dt, .dl-inline>dd {float: none; width: auto; display: inline-block}\n",
       ".dl-inline>dt::after {content: \":\\0020\"; padding-right: .5ex}\n",
       ".dl-inline>dt:not(:first-of-type) {padding-left: .5ex}\n",
       "</style><dl class=dl-inline><dt>ZIPCODE</dt><dd>0</dd><dt>SIDO</dt><dd>0</dd><dt>GUGUN</dt><dd>186</dd><dt>DONG</dt><dd>0</dd><dt>RI</dt><dd>20489</dd><dt>BUNJI</dt><dd>31541</dd><dt>SEQ</dt><dd>0</dd></dl>\n"
      ],
      "text/latex": [
       "\\begin{description*}\n",
       "\\item[ZIPCODE] 0\n",
       "\\item[SIDO] 0\n",
       "\\item[GUGUN] 186\n",
       "\\item[DONG] 0\n",
       "\\item[RI] 20489\n",
       "\\item[BUNJI] 31541\n",
       "\\item[SEQ] 0\n",
       "\\end{description*}\n"
      ],
      "text/markdown": [
       "ZIPCODE\n",
       ":   0SIDO\n",
       ":   0GUGUN\n",
       ":   186DONG\n",
       ":   0RI\n",
       ":   20489BUNJI\n",
       ":   31541SEQ\n",
       ":   0\n",
       "\n"
      ],
      "text/plain": [
       "ZIPCODE    SIDO   GUGUN    DONG      RI   BUNJI     SEQ \n",
       "      0       0     186       0   20489   31541       0 "
      ]
     },
     "metadata": {},
     "output_type": "display_data"
    }
   ],
   "source": [
    "colSums(is.na(zip))"
   ]
  },
  {
   "cell_type": "code",
   "execution_count": 6,
   "id": "59aa2ac8-049c-46ef-911d-515ade6cfc2d",
   "metadata": {},
   "outputs": [],
   "source": [
    "# NA로 설정된 주소컬럼을 '-' 문자열로 대체\n",
    "find <- is.na(zip$GUGUN)\n",
    "zip$GUGUN[find] <- '-'\n",
    "\n",
    "find <- is.na(zip$RI)\n",
    "zip$RI[find] <- '-'\n",
    "\n",
    "find <- is.na(zip$BUNJI)\n",
    "zip$BUNJI[find] <- '-'"
   ]
  },
  {
   "cell_type": "code",
   "execution_count": 7,
   "id": "286b8ed9-fe42-45f0-9194-8b57c724a15c",
   "metadata": {},
   "outputs": [
    {
     "data": {
      "text/html": [
       "<style>\n",
       ".dl-inline {width: auto; margin:0; padding: 0}\n",
       ".dl-inline>dt, .dl-inline>dd {float: none; width: auto; display: inline-block}\n",
       ".dl-inline>dt::after {content: \":\\0020\"; padding-right: .5ex}\n",
       ".dl-inline>dt:not(:first-of-type) {padding-left: .5ex}\n",
       "</style><dl class=dl-inline><dt>ZIPCODE</dt><dd>0</dd><dt>SIDO</dt><dd>0</dd><dt>GUGUN</dt><dd>0</dd><dt>DONG</dt><dd>0</dd><dt>RI</dt><dd>0</dd><dt>BUNJI</dt><dd>0</dd><dt>SEQ</dt><dd>0</dd></dl>\n"
      ],
      "text/latex": [
       "\\begin{description*}\n",
       "\\item[ZIPCODE] 0\n",
       "\\item[SIDO] 0\n",
       "\\item[GUGUN] 0\n",
       "\\item[DONG] 0\n",
       "\\item[RI] 0\n",
       "\\item[BUNJI] 0\n",
       "\\item[SEQ] 0\n",
       "\\end{description*}\n"
      ],
      "text/markdown": [
       "ZIPCODE\n",
       ":   0SIDO\n",
       ":   0GUGUN\n",
       ":   0DONG\n",
       ":   0RI\n",
       ":   0BUNJI\n",
       ":   0SEQ\n",
       ":   0\n",
       "\n"
      ],
      "text/plain": [
       "ZIPCODE    SIDO   GUGUN    DONG      RI   BUNJI     SEQ \n",
       "      0       0       0       0       0       0       0 "
      ]
     },
     "metadata": {},
     "output_type": "display_data"
    }
   ],
   "source": [
    "colSums(is.na(zip))"
   ]
  },
  {
   "cell_type": "code",
   "execution_count": 8,
   "id": "f739b83b-4273-4f3b-a822-efb2cad08eeb",
   "metadata": {},
   "outputs": [],
   "source": [
    "# 자료형 변환은 전처리하고 난 뒤 수행\n",
    "zip$SIDO <- as.factor(zip$SIDO)\n",
    "zip$GUGUN <- as.factor(zip$GUGUN)\n",
    "zip$DONG <- as.factor(zip$DONG)"
   ]
  },
  {
   "cell_type": "code",
   "execution_count": 9,
   "id": "838474c6-20ab-41ec-8577-e1e80a7bcf52",
   "metadata": {},
   "outputs": [],
   "source": [
    "# 처리된 데이터는 파일로 저장\n",
    "write.csv(x=zip, file='./data/zipcode2013.csv', row.names=F)"
   ]
  }
 ],
 "metadata": {
  "kernelspec": {
   "display_name": "R",
   "language": "R",
   "name": "ir"
  },
  "language_info": {
   "codemirror_mode": "r",
   "file_extension": ".r",
   "mimetype": "text/x-r-source",
   "name": "R",
   "pygments_lexer": "r",
   "version": "4.3.1"
  }
 },
 "nbformat": 4,
 "nbformat_minor": 5
}
