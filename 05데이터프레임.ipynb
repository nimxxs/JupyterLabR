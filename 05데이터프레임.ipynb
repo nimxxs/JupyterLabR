{
 "cells": [
  {
   "cell_type": "markdown",
   "id": "2f3d0c36-9d55-47f2-904f-a593f1ee5527",
   "metadata": {},
   "source": [
    "# 데이터 프레임\n",
    "![.](./img/dataframe.png)\n",
    "* R의 대표적인 자료구조\n",
    "* 2차원 구조로 행/열로 구성\n",
    "* 행렬과 달리 여러가지 자료형으로 구성된 데이터를 원소로 가질 수 있음\n",
    "* 일반적으로 데이터분석시 데이터들은 데이터프레임으로 구성해야 함\n",
    "* 데이터베이스의 테이블과 유사한 구조\n",
    "* 컬럼단위로 서로 다른 유형의 데이터를 저장할수 있음"
   ]
  },
  {
   "cell_type": "code",
   "execution_count": 4,
   "id": "7bb37582-e9c7-481b-b1a4-fbbfd873e3b5",
   "metadata": {},
   "outputs": [],
   "source": [
    "# 성적 데이터를 데이터 프레임으로 작성\n",
    "# data.frame(벡터, 벡터, ...)\n",
    "name <- c('혜교','지현','수지')\n",
    "kor <- c(88,65,76)\n",
    "eng <- c(99,77,88)\n",
    "mat <- c(55,77,99)\n",
    "grd <- c('수','미','양')"
   ]
  },
  {
   "cell_type": "code",
   "execution_count": 10,
   "id": "20b8aca7-0f38-4677-abc6-fce074b3d19c",
   "metadata": {},
   "outputs": [
    {
     "data": {
      "text/html": [
       "<table class=\"dataframe\">\n",
       "<caption>A data.frame: 3 × 5</caption>\n",
       "<thead>\n",
       "\t<tr><th scope=col>name</th><th scope=col>kor</th><th scope=col>eng</th><th scope=col>mat</th><th scope=col>grd</th></tr>\n",
       "\t<tr><th scope=col>&lt;chr&gt;</th><th scope=col>&lt;dbl&gt;</th><th scope=col>&lt;dbl&gt;</th><th scope=col>&lt;dbl&gt;</th><th scope=col>&lt;chr&gt;</th></tr>\n",
       "</thead>\n",
       "<tbody>\n",
       "\t<tr><td>혜교</td><td>88</td><td>99</td><td>55</td><td>수</td></tr>\n",
       "\t<tr><td>지현</td><td>65</td><td>77</td><td>77</td><td>미</td></tr>\n",
       "\t<tr><td>수지</td><td>76</td><td>88</td><td>99</td><td>양</td></tr>\n",
       "</tbody>\n",
       "</table>\n"
      ],
      "text/latex": [
       "A data.frame: 3 × 5\n",
       "\\begin{tabular}{lllll}\n",
       " name & kor & eng & mat & grd\\\\\n",
       " <chr> & <dbl> & <dbl> & <dbl> & <chr>\\\\\n",
       "\\hline\n",
       "\t 혜교 & 88 & 99 & 55 & 수\\\\\n",
       "\t 지현 & 65 & 77 & 77 & 미\\\\\n",
       "\t 수지 & 76 & 88 & 99 & 양\\\\\n",
       "\\end{tabular}\n"
      ],
      "text/markdown": [
       "\n",
       "A data.frame: 3 × 5\n",
       "\n",
       "| name &lt;chr&gt; | kor &lt;dbl&gt; | eng &lt;dbl&gt; | mat &lt;dbl&gt; | grd &lt;chr&gt; |\n",
       "|---|---|---|---|---|\n",
       "| 혜교 | 88 | 99 | 55 | 수 |\n",
       "| 지현 | 65 | 77 | 77 | 미 |\n",
       "| 수지 | 76 | 88 | 99 | 양 |\n",
       "\n"
      ],
      "text/plain": [
       "  name kor eng mat grd\n",
       "1 혜교 88  99  55  수 \n",
       "2 지현 65  77  77  미 \n",
       "3 수지 76  88  99  양 "
      ]
     },
     "metadata": {},
     "output_type": "display_data"
    }
   ],
   "source": [
    "sj <- data.frame(name, kor, eng, mat, grd)\n",
    "sj"
   ]
  },
  {
   "cell_type": "code",
   "execution_count": 11,
   "id": "267fe4b9-02e0-442c-b064-7ee0fd29ea33",
   "metadata": {},
   "outputs": [
    {
     "name": "stdout",
     "output_type": "stream",
     "text": [
      "'data.frame':\t3 obs. of  5 variables:\n",
      " $ name: chr  \"혜교\" \"지현\" \"수지\"\n",
      " $ kor : num  88 65 76\n",
      " $ eng : num  99 77 88\n",
      " $ mat : num  55 77 99\n",
      " $ grd : chr  \"수\" \"미\" \"양\"\n"
     ]
    }
   ],
   "source": [
    "str(sj)"
   ]
  },
  {
   "cell_type": "code",
   "execution_count": 12,
   "id": "70cea79d-2666-4c5f-97b4-8a6a845e67f8",
   "metadata": {},
   "outputs": [],
   "source": [
    "# R 에서는 명목형 자료를 다루기 위해 factor라는 자료형을 사용\n",
    "# 데이터 프레임 생성시 문자형 데이터를 명목형으로 변환하려면\n",
    "# stringsAsFactors 라는 속성을 사용해야 함!\n",
    "sj <- data.frame(name, kor, eng, mat, grd, stringsAsFactors = T)"
   ]
  },
  {
   "cell_type": "code",
   "execution_count": 13,
   "id": "ee4e5f6d-3ac0-4bb3-a543-b4b466ee9e23",
   "metadata": {},
   "outputs": [
    {
     "name": "stdout",
     "output_type": "stream",
     "text": [
      "'data.frame':\t3 obs. of  5 variables:\n",
      " $ name: Factor w/ 3 levels \"수지\",\"지현\",..: 3 2 1\n",
      " $ kor : num  88 65 76\n",
      " $ eng : num  99 77 88\n",
      " $ mat : num  55 77 99\n",
      " $ grd : Factor w/ 3 levels \"미\",\"수\",\"양\": 2 1 3\n"
     ]
    }
   ],
   "source": [
    "str(sj)"
   ]
  },
  {
   "cell_type": "code",
   "execution_count": 14,
   "id": "2084e490-a7de-4b25-8341-a6d703131a28",
   "metadata": {},
   "outputs": [
    {
     "data": {
      "text/plain": [
       "   name        kor             eng            mat     grd   \n",
       " 수지:1   Min.   :65.00   Min.   :77.0   Min.   :55   미:1  \n",
       " 지현:1   1st Qu.:70.50   1st Qu.:82.5   1st Qu.:66   수:1  \n",
       " 혜교:1   Median :76.00   Median :88.0   Median :77   양:1  \n",
       "          Mean   :76.33   Mean   :88.0   Mean   :77         \n",
       "          3rd Qu.:82.00   3rd Qu.:93.5   3rd Qu.:88         \n",
       "          Max.   :88.00   Max.   :99.0   Max.   :99         "
      ]
     },
     "metadata": {},
     "output_type": "display_data"
    }
   ],
   "source": [
    "summary(sj)"
   ]
  },
  {
   "cell_type": "code",
   "execution_count": 38,
   "id": "df2364e9-9e3a-42b4-a4f9-bb60e892b1a7",
   "metadata": {},
   "outputs": [],
   "source": [
    "# 특정컬럼을 명목형으로 변환 : as.factor 함수 사용\n",
    "sj <- data.frame(name, kor, eng, mat, grd)"
   ]
  },
  {
   "cell_type": "code",
   "execution_count": 39,
   "id": "1740af49-0353-499c-886a-334a012c3269",
   "metadata": {},
   "outputs": [],
   "source": [
    "sj$grd <- as.factor(sj$grd)"
   ]
  },
  {
   "cell_type": "code",
   "execution_count": 40,
   "id": "2bad5fdf-a8f0-46e9-a681-193ab1ee65da",
   "metadata": {},
   "outputs": [
    {
     "name": "stdout",
     "output_type": "stream",
     "text": [
      "'data.frame':\t3 obs. of  5 variables:\n",
      " $ name: chr  \"혜교\" \"지현\" \"수지\"\n",
      " $ kor : num  88 65 76\n",
      " $ eng : num  99 77 88\n",
      " $ mat : num  55 77 99\n",
      " $ grd : Factor w/ 3 levels \"미\",\"수\",\"양\": 2 1 3\n"
     ]
    }
   ],
   "source": [
    "str(sj)"
   ]
  },
  {
   "cell_type": "markdown",
   "id": "250c9a51-fd04-41d1-887f-72e9af635a9f",
   "metadata": {},
   "source": [
    "# 파생변수 만들기\n",
    "* derived variable\n",
    "* 기존의 변수를 토대로 새로운 변수를 만드는 것"
   ]
  },
  {
   "cell_type": "code",
   "execution_count": 19,
   "id": "dc73db56-ce43-4284-ab41-aa0839b2d9d4",
   "metadata": {
    "collapsed": true,
    "jupyter": {
     "outputs_hidden": true
    }
   },
   "outputs": [
    {
     "data": {
      "text/html": [
       "<table class=\"dataframe\">\n",
       "<caption>A data.frame: 3 × 5</caption>\n",
       "<thead>\n",
       "\t<tr><th scope=col>name</th><th scope=col>kor</th><th scope=col>eng</th><th scope=col>mat</th><th scope=col>grd</th></tr>\n",
       "\t<tr><th scope=col>&lt;chr&gt;</th><th scope=col>&lt;dbl&gt;</th><th scope=col>&lt;dbl&gt;</th><th scope=col>&lt;dbl&gt;</th><th scope=col>&lt;fct&gt;</th></tr>\n",
       "</thead>\n",
       "<tbody>\n",
       "\t<tr><td>혜교</td><td>88</td><td>99</td><td>55</td><td>수</td></tr>\n",
       "\t<tr><td>지현</td><td>65</td><td>77</td><td>77</td><td>미</td></tr>\n",
       "\t<tr><td>수지</td><td>76</td><td>88</td><td>99</td><td>양</td></tr>\n",
       "</tbody>\n",
       "</table>\n"
      ],
      "text/latex": [
       "A data.frame: 3 × 5\n",
       "\\begin{tabular}{lllll}\n",
       " name & kor & eng & mat & grd\\\\\n",
       " <chr> & <dbl> & <dbl> & <dbl> & <fct>\\\\\n",
       "\\hline\n",
       "\t 혜교 & 88 & 99 & 55 & 수\\\\\n",
       "\t 지현 & 65 & 77 & 77 & 미\\\\\n",
       "\t 수지 & 76 & 88 & 99 & 양\\\\\n",
       "\\end{tabular}\n"
      ],
      "text/markdown": [
       "\n",
       "A data.frame: 3 × 5\n",
       "\n",
       "| name &lt;chr&gt; | kor &lt;dbl&gt; | eng &lt;dbl&gt; | mat &lt;dbl&gt; | grd &lt;fct&gt; |\n",
       "|---|---|---|---|---|\n",
       "| 혜교 | 88 | 99 | 55 | 수 |\n",
       "| 지현 | 65 | 77 | 77 | 미 |\n",
       "| 수지 | 76 | 88 | 99 | 양 |\n",
       "\n"
      ],
      "text/plain": [
       "  name kor eng mat grd\n",
       "1 혜교 88  99  55  수 \n",
       "2 지현 65  77  77  미 \n",
       "3 수지 76  88  99  양 "
      ]
     },
     "metadata": {},
     "output_type": "display_data"
    }
   ],
   "source": [
    "sj"
   ]
  },
  {
   "cell_type": "code",
   "execution_count": 31,
   "id": "7aaea939-848e-4c7c-bd1f-99caa822d1e8",
   "metadata": {},
   "outputs": [],
   "source": [
    "# 과목별 합계/평균 계산해서 새로운 컬럼으로 추가\n",
    "sj[1, 6] <- sum(sj[1, c(2,3,4)])\n",
    "sj[2, 6] <- sum(sj[2, c(2,3,4)])\n",
    "sj[3, 6] <- sum(sj[3, c(2,3,4)])"
   ]
  },
  {
   "cell_type": "code",
   "execution_count": 32,
   "id": "063fd192-1e68-45e5-aea6-bbacbf16e521",
   "metadata": {
    "collapsed": true,
    "jupyter": {
     "outputs_hidden": true
    }
   },
   "outputs": [
    {
     "data": {
      "text/html": [
       "<table class=\"dataframe\">\n",
       "<caption>A data.frame: 3 × 6</caption>\n",
       "<thead>\n",
       "\t<tr><th scope=col>name</th><th scope=col>kor</th><th scope=col>eng</th><th scope=col>mat</th><th scope=col>grd</th><th scope=col>V6</th></tr>\n",
       "\t<tr><th scope=col>&lt;chr&gt;</th><th scope=col>&lt;dbl&gt;</th><th scope=col>&lt;dbl&gt;</th><th scope=col>&lt;dbl&gt;</th><th scope=col>&lt;fct&gt;</th><th scope=col>&lt;dbl&gt;</th></tr>\n",
       "</thead>\n",
       "<tbody>\n",
       "\t<tr><td>혜교</td><td>88</td><td>99</td><td>55</td><td>수</td><td>242</td></tr>\n",
       "\t<tr><td>지현</td><td>65</td><td>77</td><td>77</td><td>미</td><td>219</td></tr>\n",
       "\t<tr><td>수지</td><td>76</td><td>88</td><td>99</td><td>양</td><td>263</td></tr>\n",
       "</tbody>\n",
       "</table>\n"
      ],
      "text/latex": [
       "A data.frame: 3 × 6\n",
       "\\begin{tabular}{llllll}\n",
       " name & kor & eng & mat & grd & V6\\\\\n",
       " <chr> & <dbl> & <dbl> & <dbl> & <fct> & <dbl>\\\\\n",
       "\\hline\n",
       "\t 혜교 & 88 & 99 & 55 & 수 & 242\\\\\n",
       "\t 지현 & 65 & 77 & 77 & 미 & 219\\\\\n",
       "\t 수지 & 76 & 88 & 99 & 양 & 263\\\\\n",
       "\\end{tabular}\n"
      ],
      "text/markdown": [
       "\n",
       "A data.frame: 3 × 6\n",
       "\n",
       "| name &lt;chr&gt; | kor &lt;dbl&gt; | eng &lt;dbl&gt; | mat &lt;dbl&gt; | grd &lt;fct&gt; | V6 &lt;dbl&gt; |\n",
       "|---|---|---|---|---|---|\n",
       "| 혜교 | 88 | 99 | 55 | 수 | 242 |\n",
       "| 지현 | 65 | 77 | 77 | 미 | 219 |\n",
       "| 수지 | 76 | 88 | 99 | 양 | 263 |\n",
       "\n"
      ],
      "text/plain": [
       "  name kor eng mat grd V6 \n",
       "1 혜교 88  99  55  수  242\n",
       "2 지현 65  77  77  미  219\n",
       "3 수지 76  88  99  양  263"
      ]
     },
     "metadata": {},
     "output_type": "display_data"
    }
   ],
   "source": [
    "sj"
   ]
  },
  {
   "cell_type": "code",
   "execution_count": 41,
   "id": "4089a372-3ce7-478d-89fc-479decfea06a",
   "metadata": {},
   "outputs": [],
   "source": [
    "# 과목별 합계/평균 계산해서 새로운 컬럼으로 추가\n",
    "# df명$파생컬럼명 <- 수\n",
    "sj$sum <- sj$kor + sj$eng + sj$mat"
   ]
  },
  {
   "cell_type": "code",
   "execution_count": 42,
   "id": "06f8d889-e4c3-45b6-a8bf-c298278bb273",
   "metadata": {
    "collapsed": true,
    "jupyter": {
     "outputs_hidden": true
    }
   },
   "outputs": [
    {
     "data": {
      "text/html": [
       "<table class=\"dataframe\">\n",
       "<caption>A data.frame: 3 × 6</caption>\n",
       "<thead>\n",
       "\t<tr><th scope=col>name</th><th scope=col>kor</th><th scope=col>eng</th><th scope=col>mat</th><th scope=col>grd</th><th scope=col>sum</th></tr>\n",
       "\t<tr><th scope=col>&lt;chr&gt;</th><th scope=col>&lt;dbl&gt;</th><th scope=col>&lt;dbl&gt;</th><th scope=col>&lt;dbl&gt;</th><th scope=col>&lt;fct&gt;</th><th scope=col>&lt;dbl&gt;</th></tr>\n",
       "</thead>\n",
       "<tbody>\n",
       "\t<tr><td>혜교</td><td>88</td><td>99</td><td>55</td><td>수</td><td>242</td></tr>\n",
       "\t<tr><td>지현</td><td>65</td><td>77</td><td>77</td><td>미</td><td>219</td></tr>\n",
       "\t<tr><td>수지</td><td>76</td><td>88</td><td>99</td><td>양</td><td>263</td></tr>\n",
       "</tbody>\n",
       "</table>\n"
      ],
      "text/latex": [
       "A data.frame: 3 × 6\n",
       "\\begin{tabular}{llllll}\n",
       " name & kor & eng & mat & grd & sum\\\\\n",
       " <chr> & <dbl> & <dbl> & <dbl> & <fct> & <dbl>\\\\\n",
       "\\hline\n",
       "\t 혜교 & 88 & 99 & 55 & 수 & 242\\\\\n",
       "\t 지현 & 65 & 77 & 77 & 미 & 219\\\\\n",
       "\t 수지 & 76 & 88 & 99 & 양 & 263\\\\\n",
       "\\end{tabular}\n"
      ],
      "text/markdown": [
       "\n",
       "A data.frame: 3 × 6\n",
       "\n",
       "| name &lt;chr&gt; | kor &lt;dbl&gt; | eng &lt;dbl&gt; | mat &lt;dbl&gt; | grd &lt;fct&gt; | sum &lt;dbl&gt; |\n",
       "|---|---|---|---|---|---|\n",
       "| 혜교 | 88 | 99 | 55 | 수 | 242 |\n",
       "| 지현 | 65 | 77 | 77 | 미 | 219 |\n",
       "| 수지 | 76 | 88 | 99 | 양 | 263 |\n",
       "\n"
      ],
      "text/plain": [
       "  name kor eng mat grd sum\n",
       "1 혜교 88  99  55  수  242\n",
       "2 지현 65  77  77  미  219\n",
       "3 수지 76  88  99  양  263"
      ]
     },
     "metadata": {},
     "output_type": "display_data"
    }
   ],
   "source": [
    "sj"
   ]
  },
  {
   "cell_type": "code",
   "execution_count": 43,
   "id": "386f9811-eeec-4f7e-b397-bbb88a0b86c3",
   "metadata": {},
   "outputs": [],
   "source": [
    "# 평균 컬럼 추가\n",
    "sj$means <- sj$sum / 3"
   ]
  },
  {
   "cell_type": "code",
   "execution_count": 44,
   "id": "e45d52fc-a6b5-4b33-bf4f-c755c88a6dfe",
   "metadata": {},
   "outputs": [
    {
     "data": {
      "text/html": [
       "<table class=\"dataframe\">\n",
       "<caption>A data.frame: 3 × 7</caption>\n",
       "<thead>\n",
       "\t<tr><th scope=col>name</th><th scope=col>kor</th><th scope=col>eng</th><th scope=col>mat</th><th scope=col>grd</th><th scope=col>sum</th><th scope=col>means</th></tr>\n",
       "\t<tr><th scope=col>&lt;chr&gt;</th><th scope=col>&lt;dbl&gt;</th><th scope=col>&lt;dbl&gt;</th><th scope=col>&lt;dbl&gt;</th><th scope=col>&lt;fct&gt;</th><th scope=col>&lt;dbl&gt;</th><th scope=col>&lt;dbl&gt;</th></tr>\n",
       "</thead>\n",
       "<tbody>\n",
       "\t<tr><td>혜교</td><td>88</td><td>99</td><td>55</td><td>수</td><td>242</td><td>80.66667</td></tr>\n",
       "\t<tr><td>지현</td><td>65</td><td>77</td><td>77</td><td>미</td><td>219</td><td>73.00000</td></tr>\n",
       "\t<tr><td>수지</td><td>76</td><td>88</td><td>99</td><td>양</td><td>263</td><td>87.66667</td></tr>\n",
       "</tbody>\n",
       "</table>\n"
      ],
      "text/latex": [
       "A data.frame: 3 × 7\n",
       "\\begin{tabular}{lllllll}\n",
       " name & kor & eng & mat & grd & sum & means\\\\\n",
       " <chr> & <dbl> & <dbl> & <dbl> & <fct> & <dbl> & <dbl>\\\\\n",
       "\\hline\n",
       "\t 혜교 & 88 & 99 & 55 & 수 & 242 & 80.66667\\\\\n",
       "\t 지현 & 65 & 77 & 77 & 미 & 219 & 73.00000\\\\\n",
       "\t 수지 & 76 & 88 & 99 & 양 & 263 & 87.66667\\\\\n",
       "\\end{tabular}\n"
      ],
      "text/markdown": [
       "\n",
       "A data.frame: 3 × 7\n",
       "\n",
       "| name &lt;chr&gt; | kor &lt;dbl&gt; | eng &lt;dbl&gt; | mat &lt;dbl&gt; | grd &lt;fct&gt; | sum &lt;dbl&gt; | means &lt;dbl&gt; |\n",
       "|---|---|---|---|---|---|---|\n",
       "| 혜교 | 88 | 99 | 55 | 수 | 242 | 80.66667 |\n",
       "| 지현 | 65 | 77 | 77 | 미 | 219 | 73.00000 |\n",
       "| 수지 | 76 | 88 | 99 | 양 | 263 | 87.66667 |\n",
       "\n"
      ],
      "text/plain": [
       "  name kor eng mat grd sum means   \n",
       "1 혜교 88  99  55  수  242 80.66667\n",
       "2 지현 65  77  77  미  219 73.00000\n",
       "3 수지 76  88  99  양  263 87.66667"
      ]
     },
     "metadata": {},
     "output_type": "display_data"
    }
   ],
   "source": [
    "sj"
   ]
  },
  {
   "cell_type": "markdown",
   "id": "304cd488-82a1-4929-a601-4c22f1b32ab5",
   "metadata": {},
   "source": [
    "# 조건검색\n",
    "* boolean indexing\n",
    "* 다른말로는 필터링 연산식이라고도 불림\n",
    "* 조건식을 사용해서 결과값이 True인 항목만을 필터링하게 해 줌\n",
    "* df명[조건식, 컬럼명들]"
   ]
  },
  {
   "cell_type": "code",
   "execution_count": 45,
   "id": "af4cbc6a-9eed-4c53-9936-854917d7f179",
   "metadata": {},
   "outputs": [
    {
     "data": {
      "text/html": [
       "<style>\n",
       ".list-inline {list-style: none; margin:0; padding: 0}\n",
       ".list-inline>li {display: inline-block}\n",
       ".list-inline>li:not(:last-child)::after {content: \"\\00b7\"; padding: 0 .5ex}\n",
       "</style>\n",
       "<ol class=list-inline><li>TRUE</li><li>TRUE</li><li>TRUE</li></ol>\n"
      ],
      "text/latex": [
       "\\begin{enumerate*}\n",
       "\\item TRUE\n",
       "\\item TRUE\n",
       "\\item TRUE\n",
       "\\end{enumerate*}\n"
      ],
      "text/markdown": [
       "1. TRUE\n",
       "2. TRUE\n",
       "3. TRUE\n",
       "\n",
       "\n"
      ],
      "text/plain": [
       "[1] TRUE TRUE TRUE"
      ]
     },
     "metadata": {},
     "output_type": "display_data"
    }
   ],
   "source": [
    "# 국어점수가 50이상인 성적 추출\n",
    "sj$kor >= 50"
   ]
  },
  {
   "cell_type": "code",
   "execution_count": 49,
   "id": "5cc4d129-d34e-4352-8a61-8dd652e9d346",
   "metadata": {},
   "outputs": [
    {
     "data": {
      "text/html": [
       "<table class=\"dataframe\">\n",
       "<caption>A data.frame: 3 × 7</caption>\n",
       "<thead>\n",
       "\t<tr><th></th><th scope=col>name</th><th scope=col>kor</th><th scope=col>eng</th><th scope=col>mat</th><th scope=col>grd</th><th scope=col>sum</th><th scope=col>means</th></tr>\n",
       "\t<tr><th></th><th scope=col>&lt;chr&gt;</th><th scope=col>&lt;dbl&gt;</th><th scope=col>&lt;dbl&gt;</th><th scope=col>&lt;dbl&gt;</th><th scope=col>&lt;fct&gt;</th><th scope=col>&lt;dbl&gt;</th><th scope=col>&lt;dbl&gt;</th></tr>\n",
       "</thead>\n",
       "<tbody>\n",
       "\t<tr><th scope=row>1</th><td>혜교</td><td>88</td><td>99</td><td>55</td><td>수</td><td>242</td><td>80.66667</td></tr>\n",
       "\t<tr><th scope=row>2</th><td>지현</td><td>65</td><td>77</td><td>77</td><td>미</td><td>219</td><td>73.00000</td></tr>\n",
       "\t<tr><th scope=row>3</th><td>수지</td><td>76</td><td>88</td><td>99</td><td>양</td><td>263</td><td>87.66667</td></tr>\n",
       "</tbody>\n",
       "</table>\n"
      ],
      "text/latex": [
       "A data.frame: 3 × 7\n",
       "\\begin{tabular}{r|lllllll}\n",
       "  & name & kor & eng & mat & grd & sum & means\\\\\n",
       "  & <chr> & <dbl> & <dbl> & <dbl> & <fct> & <dbl> & <dbl>\\\\\n",
       "\\hline\n",
       "\t1 & 혜교 & 88 & 99 & 55 & 수 & 242 & 80.66667\\\\\n",
       "\t2 & 지현 & 65 & 77 & 77 & 미 & 219 & 73.00000\\\\\n",
       "\t3 & 수지 & 76 & 88 & 99 & 양 & 263 & 87.66667\\\\\n",
       "\\end{tabular}\n"
      ],
      "text/markdown": [
       "\n",
       "A data.frame: 3 × 7\n",
       "\n",
       "| <!--/--> | name &lt;chr&gt; | kor &lt;dbl&gt; | eng &lt;dbl&gt; | mat &lt;dbl&gt; | grd &lt;fct&gt; | sum &lt;dbl&gt; | means &lt;dbl&gt; |\n",
       "|---|---|---|---|---|---|---|---|\n",
       "| 1 | 혜교 | 88 | 99 | 55 | 수 | 242 | 80.66667 |\n",
       "| 2 | 지현 | 65 | 77 | 77 | 미 | 219 | 73.00000 |\n",
       "| 3 | 수지 | 76 | 88 | 99 | 양 | 263 | 87.66667 |\n",
       "\n"
      ],
      "text/plain": [
       "  name kor eng mat grd sum means   \n",
       "1 혜교 88  99  55  수  242 80.66667\n",
       "2 지현 65  77  77  미  219 73.00000\n",
       "3 수지 76  88  99  양  263 87.66667"
      ]
     },
     "metadata": {},
     "output_type": "display_data"
    }
   ],
   "source": [
    "sj[sj$kor >= 50, ]"
   ]
  },
  {
   "cell_type": "code",
   "execution_count": 51,
   "id": "473c8071-d679-4166-95fe-5035bdf70fe8",
   "metadata": {},
   "outputs": [
    {
     "data": {
      "text/html": [
       "<style>\n",
       ".list-inline {list-style: none; margin:0; padding: 0}\n",
       ".list-inline>li {display: inline-block}\n",
       ".list-inline>li:not(:last-child)::after {content: \"\\00b7\"; padding: 0 .5ex}\n",
       "</style>\n",
       "<ol class=list-inline><li>TRUE</li><li>TRUE</li><li>TRUE</li></ol>\n"
      ],
      "text/latex": [
       "\\begin{enumerate*}\n",
       "\\item TRUE\n",
       "\\item TRUE\n",
       "\\item TRUE\n",
       "\\end{enumerate*}\n"
      ],
      "text/markdown": [
       "1. TRUE\n",
       "2. TRUE\n",
       "3. TRUE\n",
       "\n",
       "\n"
      ],
      "text/plain": [
       "[1] TRUE TRUE TRUE"
      ]
     },
     "metadata": {},
     "output_type": "display_data"
    }
   ],
   "source": [
    "# 모든 과목의 점수가 50이상인 성적 추출\n",
    "sj$kor >= 50 & sj$eng >= 50 & sj$mat >= 50"
   ]
  },
  {
   "cell_type": "code",
   "execution_count": 53,
   "id": "3f4053d9-3dc5-4fe7-a833-73de12a3e67e",
   "metadata": {},
   "outputs": [
    {
     "data": {
      "text/html": [
       "<table class=\"dataframe\">\n",
       "<caption>A data.frame: 3 × 7</caption>\n",
       "<thead>\n",
       "\t<tr><th scope=col>name</th><th scope=col>kor</th><th scope=col>eng</th><th scope=col>mat</th><th scope=col>grd</th><th scope=col>sum</th><th scope=col>means</th></tr>\n",
       "\t<tr><th scope=col>&lt;chr&gt;</th><th scope=col>&lt;dbl&gt;</th><th scope=col>&lt;dbl&gt;</th><th scope=col>&lt;dbl&gt;</th><th scope=col>&lt;fct&gt;</th><th scope=col>&lt;dbl&gt;</th><th scope=col>&lt;dbl&gt;</th></tr>\n",
       "</thead>\n",
       "<tbody>\n",
       "\t<tr><td>혜교</td><td>88</td><td>99</td><td>55</td><td>수</td><td>242</td><td>80.66667</td></tr>\n",
       "\t<tr><td>지현</td><td>65</td><td>77</td><td>77</td><td>미</td><td>219</td><td>73.00000</td></tr>\n",
       "\t<tr><td>수지</td><td>76</td><td>88</td><td>99</td><td>양</td><td>263</td><td>87.66667</td></tr>\n",
       "</tbody>\n",
       "</table>\n"
      ],
      "text/latex": [
       "A data.frame: 3 × 7\n",
       "\\begin{tabular}{lllllll}\n",
       " name & kor & eng & mat & grd & sum & means\\\\\n",
       " <chr> & <dbl> & <dbl> & <dbl> & <fct> & <dbl> & <dbl>\\\\\n",
       "\\hline\n",
       "\t 혜교 & 88 & 99 & 55 & 수 & 242 & 80.66667\\\\\n",
       "\t 지현 & 65 & 77 & 77 & 미 & 219 & 73.00000\\\\\n",
       "\t 수지 & 76 & 88 & 99 & 양 & 263 & 87.66667\\\\\n",
       "\\end{tabular}\n"
      ],
      "text/markdown": [
       "\n",
       "A data.frame: 3 × 7\n",
       "\n",
       "| name &lt;chr&gt; | kor &lt;dbl&gt; | eng &lt;dbl&gt; | mat &lt;dbl&gt; | grd &lt;fct&gt; | sum &lt;dbl&gt; | means &lt;dbl&gt; |\n",
       "|---|---|---|---|---|---|---|\n",
       "| 혜교 | 88 | 99 | 55 | 수 | 242 | 80.66667 |\n",
       "| 지현 | 65 | 77 | 77 | 미 | 219 | 73.00000 |\n",
       "| 수지 | 76 | 88 | 99 | 양 | 263 | 87.66667 |\n",
       "\n"
      ],
      "text/plain": [
       "  name kor eng mat grd sum means   \n",
       "1 혜교 88  99  55  수  242 80.66667\n",
       "2 지현 65  77  77  미  219 73.00000\n",
       "3 수지 76  88  99  양  263 87.66667"
      ]
     },
     "metadata": {},
     "output_type": "display_data"
    }
   ],
   "source": [
    "find <- sj$kor >= 50 & sj$eng >= 50 & sj$mat >= 50\n",
    "sj[find]"
   ]
  },
  {
   "cell_type": "code",
   "execution_count": 57,
   "id": "071ed192-377c-477c-8b3f-07345a77c451",
   "metadata": {},
   "outputs": [
    {
     "data": {
      "text/html": [
       "<table class=\"dataframe\">\n",
       "<caption>A data.frame: 1 × 2</caption>\n",
       "<thead>\n",
       "\t<tr><th></th><th scope=col>name</th><th scope=col>grd</th></tr>\n",
       "\t<tr><th></th><th scope=col>&lt;chr&gt;</th><th scope=col>&lt;fct&gt;</th></tr>\n",
       "</thead>\n",
       "<tbody>\n",
       "\t<tr><th scope=row>1</th><td>혜교</td><td>수</td></tr>\n",
       "</tbody>\n",
       "</table>\n"
      ],
      "text/latex": [
       "A data.frame: 1 × 2\n",
       "\\begin{tabular}{r|ll}\n",
       "  & name & grd\\\\\n",
       "  & <chr> & <fct>\\\\\n",
       "\\hline\n",
       "\t1 & 혜교 & 수\\\\\n",
       "\\end{tabular}\n"
      ],
      "text/markdown": [
       "\n",
       "A data.frame: 1 × 2\n",
       "\n",
       "| <!--/--> | name &lt;chr&gt; | grd &lt;fct&gt; |\n",
       "|---|---|---|\n",
       "| 1 | 혜교 | 수 |\n",
       "\n"
      ],
      "text/plain": [
       "  name grd\n",
       "1 혜교 수 "
      ]
     },
     "metadata": {},
     "output_type": "display_data"
    }
   ],
   "source": [
    "# 학점이 '수'인 학생의 이름, 평균 추출\n",
    "find <- sj$grd == '수'\n",
    "sj[find, c('name', 'grd')]"
   ]
  },
  {
   "cell_type": "markdown",
   "id": "14e0ea4b-0416-4b89-b313-3a072df1db70",
   "metadata": {},
   "source": [
    "### 데이터프레임으로 만들기 예제\n",
    "![.](./img/manager.png)"
   ]
  },
  {
   "cell_type": "code",
   "execution_count": 1,
   "id": "9b84ba5e-7ae1-4b39-8ea7-ff6481923a52",
   "metadata": {},
   "outputs": [],
   "source": [
    "manager <- c(1:5)\n",
    "date <- c('10/24/14','10/28/14','10/01/14','10/12/14','15/01/14')\n",
    "country <- c('US','US','UK','UK','UK')\n",
    "gender <- c('M','F','F','M','F')\n",
    "age <- c(32,45,25,39,99)\n",
    "q1 <- c(5,3,3,3,2)\n",
    "q2 <- c(4,5,5,3,2)\n",
    "q3 <- c(5,2,5,4,1)\n",
    "q4 <- c(5,5,5,NA,2)\n",
    "q5 <- c(5,5,2,NA,1)"
   ]
  },
  {
   "cell_type": "code",
   "execution_count": 2,
   "id": "630c9d46-6513-4d6b-9e56-a1544f16e767",
   "metadata": {},
   "outputs": [
    {
     "data": {
      "text/html": [
       "<table class=\"dataframe\">\n",
       "<caption>A data.frame: 5 × 10</caption>\n",
       "<thead>\n",
       "\t<tr><th scope=col>manager</th><th scope=col>date</th><th scope=col>country</th><th scope=col>gender</th><th scope=col>age</th><th scope=col>q1</th><th scope=col>q2</th><th scope=col>q3</th><th scope=col>q4</th><th scope=col>q5</th></tr>\n",
       "\t<tr><th scope=col>&lt;int&gt;</th><th scope=col>&lt;chr&gt;</th><th scope=col>&lt;chr&gt;</th><th scope=col>&lt;chr&gt;</th><th scope=col>&lt;dbl&gt;</th><th scope=col>&lt;dbl&gt;</th><th scope=col>&lt;dbl&gt;</th><th scope=col>&lt;dbl&gt;</th><th scope=col>&lt;dbl&gt;</th><th scope=col>&lt;dbl&gt;</th></tr>\n",
       "</thead>\n",
       "<tbody>\n",
       "\t<tr><td>1</td><td>10/24/14</td><td>US</td><td>M</td><td>32</td><td>5</td><td>4</td><td>5</td><td> 5</td><td> 5</td></tr>\n",
       "\t<tr><td>2</td><td>10/28/14</td><td>US</td><td>F</td><td>45</td><td>3</td><td>5</td><td>2</td><td> 5</td><td> 5</td></tr>\n",
       "\t<tr><td>3</td><td>10/01/14</td><td>UK</td><td>F</td><td>25</td><td>3</td><td>5</td><td>5</td><td> 5</td><td> 2</td></tr>\n",
       "\t<tr><td>4</td><td>10/12/14</td><td>UK</td><td>M</td><td>39</td><td>3</td><td>3</td><td>4</td><td>NA</td><td>NA</td></tr>\n",
       "\t<tr><td>5</td><td>15/01/14</td><td>UK</td><td>F</td><td>99</td><td>2</td><td>2</td><td>1</td><td> 2</td><td> 1</td></tr>\n",
       "</tbody>\n",
       "</table>\n"
      ],
      "text/latex": [
       "A data.frame: 5 × 10\n",
       "\\begin{tabular}{llllllllll}\n",
       " manager & date & country & gender & age & q1 & q2 & q3 & q4 & q5\\\\\n",
       " <int> & <chr> & <chr> & <chr> & <dbl> & <dbl> & <dbl> & <dbl> & <dbl> & <dbl>\\\\\n",
       "\\hline\n",
       "\t 1 & 10/24/14 & US & M & 32 & 5 & 4 & 5 &  5 &  5\\\\\n",
       "\t 2 & 10/28/14 & US & F & 45 & 3 & 5 & 2 &  5 &  5\\\\\n",
       "\t 3 & 10/01/14 & UK & F & 25 & 3 & 5 & 5 &  5 &  2\\\\\n",
       "\t 4 & 10/12/14 & UK & M & 39 & 3 & 3 & 4 & NA & NA\\\\\n",
       "\t 5 & 15/01/14 & UK & F & 99 & 2 & 2 & 1 &  2 &  1\\\\\n",
       "\\end{tabular}\n"
      ],
      "text/markdown": [
       "\n",
       "A data.frame: 5 × 10\n",
       "\n",
       "| manager &lt;int&gt; | date &lt;chr&gt; | country &lt;chr&gt; | gender &lt;chr&gt; | age &lt;dbl&gt; | q1 &lt;dbl&gt; | q2 &lt;dbl&gt; | q3 &lt;dbl&gt; | q4 &lt;dbl&gt; | q5 &lt;dbl&gt; |\n",
       "|---|---|---|---|---|---|---|---|---|---|\n",
       "| 1 | 10/24/14 | US | M | 32 | 5 | 4 | 5 |  5 |  5 |\n",
       "| 2 | 10/28/14 | US | F | 45 | 3 | 5 | 2 |  5 |  5 |\n",
       "| 3 | 10/01/14 | UK | F | 25 | 3 | 5 | 5 |  5 |  2 |\n",
       "| 4 | 10/12/14 | UK | M | 39 | 3 | 3 | 4 | NA | NA |\n",
       "| 5 | 15/01/14 | UK | F | 99 | 2 | 2 | 1 |  2 |  1 |\n",
       "\n"
      ],
      "text/plain": [
       "  manager date     country gender age q1 q2 q3 q4 q5\n",
       "1 1       10/24/14 US      M      32  5  4  5   5  5\n",
       "2 2       10/28/14 US      F      45  3  5  2   5  5\n",
       "3 3       10/01/14 UK      F      25  3  5  5   5  2\n",
       "4 4       10/12/14 UK      M      39  3  3  4  NA NA\n",
       "5 5       15/01/14 UK      F      99  2  2  1   2  1"
      ]
     },
     "metadata": {},
     "output_type": "display_data"
    }
   ],
   "source": [
    "mn <- data.frame(manager, date, country, gender, age, q1, q2, q3, q4, q5)\n",
    "mn"
   ]
  },
  {
   "cell_type": "code",
   "execution_count": 3,
   "id": "f64cd313-ef4f-4aae-aae7-d29c01acd3e8",
   "metadata": {},
   "outputs": [],
   "source": [
    "mn$country <- as.factor(mn$country)\n",
    "mn$gender <- as.factor(mn$gender)"
   ]
  },
  {
   "cell_type": "code",
   "execution_count": 4,
   "id": "a185b22b-ae90-443e-9911-8df6ffd2fa96",
   "metadata": {},
   "outputs": [
    {
     "data": {
      "text/plain": [
       "    manager      date           country gender      age           q1     \n",
       " Min.   :1   Length:5           UK:3    F:3    Min.   :25   Min.   :2.0  \n",
       " 1st Qu.:2   Class :character   US:2    M:2    1st Qu.:32   1st Qu.:3.0  \n",
       " Median :3   Mode  :character                  Median :39   Median :3.0  \n",
       " Mean   :3                                     Mean   :48   Mean   :3.2  \n",
       " 3rd Qu.:4                                     3rd Qu.:45   3rd Qu.:3.0  \n",
       " Max.   :5                                     Max.   :99   Max.   :5.0  \n",
       "                                                                         \n",
       "       q2            q3            q4             q5      \n",
       " Min.   :2.0   Min.   :1.0   Min.   :2.00   Min.   :1.00  \n",
       " 1st Qu.:3.0   1st Qu.:2.0   1st Qu.:4.25   1st Qu.:1.75  \n",
       " Median :4.0   Median :4.0   Median :5.00   Median :3.50  \n",
       " Mean   :3.8   Mean   :3.4   Mean   :4.25   Mean   :3.25  \n",
       " 3rd Qu.:5.0   3rd Qu.:5.0   3rd Qu.:5.00   3rd Qu.:5.00  \n",
       " Max.   :5.0   Max.   :5.0   Max.   :5.00   Max.   :5.00  \n",
       "                             NA's   :1      NA's   :1     "
      ]
     },
     "metadata": {},
     "output_type": "display_data"
    }
   ],
   "source": [
    "summary(mn)"
   ]
  },
  {
   "cell_type": "markdown",
   "id": "127808aa-6311-4a58-be1d-de0bad9edbb6",
   "metadata": {},
   "source": [
    "### 파생변수 만들기\n",
    "* 나이 컬럼을 기준으로 ages라는 컬럼을 생성함\n",
    "    * 나이 20~30 : 청년\n",
    "    * 나이 31~45 : 중년\n",
    "    * 나이 46~65 : 장년\n",
    "    * 나이 66~   : 노년"
   ]
  },
  {
   "cell_type": "code",
   "execution_count": 5,
   "id": "606e0abe-29d1-42b4-af33-551872ef75ca",
   "metadata": {},
   "outputs": [],
   "source": [
    "find <- mn$age >= 20 & mn$age <= 30\n",
    "mn$ages[find] <- '청년'"
   ]
  },
  {
   "cell_type": "code",
   "execution_count": 6,
   "id": "7a1bb2b2-bc6c-45c7-b47c-3987961fa830",
   "metadata": {},
   "outputs": [],
   "source": [
    "find <- mn$age >= 31 & mn$age <= 45\n",
    "mn$ages[find] <- '중년'"
   ]
  },
  {
   "cell_type": "code",
   "execution_count": 7,
   "id": "62fddc65-75c5-4b14-92f4-4d55974dbebb",
   "metadata": {},
   "outputs": [],
   "source": [
    "find <- mn$age >= 46 & mn$age <= 65\n",
    "mn$ages[find] <- '장년'"
   ]
  },
  {
   "cell_type": "code",
   "execution_count": 8,
   "id": "2fcfb81a-b7c2-402f-ba24-0c08a9e2db2e",
   "metadata": {},
   "outputs": [],
   "source": [
    "find <- mn$age >= 66\n",
    "mn$ages[find] <- '노년'"
   ]
  },
  {
   "cell_type": "code",
   "execution_count": 9,
   "id": "330ea5eb-9b86-4dcc-9f5b-7a38ba78c808",
   "metadata": {},
   "outputs": [
    {
     "data": {
      "text/html": [
       "<table class=\"dataframe\">\n",
       "<caption>A data.frame: 5 × 11</caption>\n",
       "<thead>\n",
       "\t<tr><th scope=col>manager</th><th scope=col>date</th><th scope=col>country</th><th scope=col>gender</th><th scope=col>age</th><th scope=col>q1</th><th scope=col>q2</th><th scope=col>q3</th><th scope=col>q4</th><th scope=col>q5</th><th scope=col>ages</th></tr>\n",
       "\t<tr><th scope=col>&lt;int&gt;</th><th scope=col>&lt;chr&gt;</th><th scope=col>&lt;fct&gt;</th><th scope=col>&lt;fct&gt;</th><th scope=col>&lt;dbl&gt;</th><th scope=col>&lt;dbl&gt;</th><th scope=col>&lt;dbl&gt;</th><th scope=col>&lt;dbl&gt;</th><th scope=col>&lt;dbl&gt;</th><th scope=col>&lt;dbl&gt;</th><th scope=col>&lt;chr&gt;</th></tr>\n",
       "</thead>\n",
       "<tbody>\n",
       "\t<tr><td>1</td><td>10/24/14</td><td>US</td><td>M</td><td>32</td><td>5</td><td>4</td><td>5</td><td> 5</td><td> 5</td><td>중년</td></tr>\n",
       "\t<tr><td>2</td><td>10/28/14</td><td>US</td><td>F</td><td>45</td><td>3</td><td>5</td><td>2</td><td> 5</td><td> 5</td><td>중년</td></tr>\n",
       "\t<tr><td>3</td><td>10/01/14</td><td>UK</td><td>F</td><td>25</td><td>3</td><td>5</td><td>5</td><td> 5</td><td> 2</td><td>청년</td></tr>\n",
       "\t<tr><td>4</td><td>10/12/14</td><td>UK</td><td>M</td><td>39</td><td>3</td><td>3</td><td>4</td><td>NA</td><td>NA</td><td>중년</td></tr>\n",
       "\t<tr><td>5</td><td>15/01/14</td><td>UK</td><td>F</td><td>99</td><td>2</td><td>2</td><td>1</td><td> 2</td><td> 1</td><td>노년</td></tr>\n",
       "</tbody>\n",
       "</table>\n"
      ],
      "text/latex": [
       "A data.frame: 5 × 11\n",
       "\\begin{tabular}{lllllllllll}\n",
       " manager & date & country & gender & age & q1 & q2 & q3 & q4 & q5 & ages\\\\\n",
       " <int> & <chr> & <fct> & <fct> & <dbl> & <dbl> & <dbl> & <dbl> & <dbl> & <dbl> & <chr>\\\\\n",
       "\\hline\n",
       "\t 1 & 10/24/14 & US & M & 32 & 5 & 4 & 5 &  5 &  5 & 중년\\\\\n",
       "\t 2 & 10/28/14 & US & F & 45 & 3 & 5 & 2 &  5 &  5 & 중년\\\\\n",
       "\t 3 & 10/01/14 & UK & F & 25 & 3 & 5 & 5 &  5 &  2 & 청년\\\\\n",
       "\t 4 & 10/12/14 & UK & M & 39 & 3 & 3 & 4 & NA & NA & 중년\\\\\n",
       "\t 5 & 15/01/14 & UK & F & 99 & 2 & 2 & 1 &  2 &  1 & 노년\\\\\n",
       "\\end{tabular}\n"
      ],
      "text/markdown": [
       "\n",
       "A data.frame: 5 × 11\n",
       "\n",
       "| manager &lt;int&gt; | date &lt;chr&gt; | country &lt;fct&gt; | gender &lt;fct&gt; | age &lt;dbl&gt; | q1 &lt;dbl&gt; | q2 &lt;dbl&gt; | q3 &lt;dbl&gt; | q4 &lt;dbl&gt; | q5 &lt;dbl&gt; | ages &lt;chr&gt; |\n",
       "|---|---|---|---|---|---|---|---|---|---|---|\n",
       "| 1 | 10/24/14 | US | M | 32 | 5 | 4 | 5 |  5 |  5 | 중년 |\n",
       "| 2 | 10/28/14 | US | F | 45 | 3 | 5 | 2 |  5 |  5 | 중년 |\n",
       "| 3 | 10/01/14 | UK | F | 25 | 3 | 5 | 5 |  5 |  2 | 청년 |\n",
       "| 4 | 10/12/14 | UK | M | 39 | 3 | 3 | 4 | NA | NA | 중년 |\n",
       "| 5 | 15/01/14 | UK | F | 99 | 2 | 2 | 1 |  2 |  1 | 노년 |\n",
       "\n"
      ],
      "text/plain": [
       "  manager date     country gender age q1 q2 q3 q4 q5 ages\n",
       "1 1       10/24/14 US      M      32  5  4  5   5  5 중년\n",
       "2 2       10/28/14 US      F      45  3  5  2   5  5 중년\n",
       "3 3       10/01/14 UK      F      25  3  5  5   5  2 청년\n",
       "4 4       10/12/14 UK      M      39  3  3  4  NA NA 중년\n",
       "5 5       15/01/14 UK      F      99  2  2  1   2  1 노년"
      ]
     },
     "metadata": {},
     "output_type": "display_data"
    }
   ],
   "source": [
    "mn"
   ]
  },
  {
   "cell_type": "markdown",
   "id": "09f8a9db-a899-4199-ba4f-ab75e3960b75",
   "metadata": {},
   "source": [
    "### within 함수를 이용해서 코드를 간단히 작성하기\n",
    "* within(df명, 표현식)"
   ]
  },
  {
   "cell_type": "code",
   "execution_count": 10,
   "id": "6ec21213-5eca-475e-9b01-c45a812b7294",
   "metadata": {},
   "outputs": [
    {
     "data": {
      "text/html": [
       "<table class=\"dataframe\">\n",
       "<caption>A data.frame: 5 × 11</caption>\n",
       "<thead>\n",
       "\t<tr><th scope=col>manager</th><th scope=col>date</th><th scope=col>country</th><th scope=col>gender</th><th scope=col>age</th><th scope=col>q1</th><th scope=col>q2</th><th scope=col>q3</th><th scope=col>q4</th><th scope=col>q5</th><th scope=col>ages</th></tr>\n",
       "\t<tr><th scope=col>&lt;int&gt;</th><th scope=col>&lt;chr&gt;</th><th scope=col>&lt;fct&gt;</th><th scope=col>&lt;fct&gt;</th><th scope=col>&lt;dbl&gt;</th><th scope=col>&lt;dbl&gt;</th><th scope=col>&lt;dbl&gt;</th><th scope=col>&lt;dbl&gt;</th><th scope=col>&lt;dbl&gt;</th><th scope=col>&lt;dbl&gt;</th><th scope=col>&lt;chr&gt;</th></tr>\n",
       "</thead>\n",
       "<tbody>\n",
       "\t<tr><td>1</td><td>10/24/14</td><td>US</td><td>M</td><td>32</td><td>5</td><td>4</td><td>5</td><td> 5</td><td> 5</td><td>중년 </td></tr>\n",
       "\t<tr><td>2</td><td>10/28/14</td><td>US</td><td>F</td><td>45</td><td>3</td><td>5</td><td>2</td><td> 5</td><td> 5</td><td>중년 </td></tr>\n",
       "\t<tr><td>3</td><td>10/01/14</td><td>UK</td><td>F</td><td>25</td><td>3</td><td>5</td><td>5</td><td> 5</td><td> 2</td><td>청년 </td></tr>\n",
       "\t<tr><td>4</td><td>10/12/14</td><td>UK</td><td>M</td><td>39</td><td>3</td><td>3</td><td>4</td><td>NA</td><td>NA</td><td>중년 </td></tr>\n",
       "\t<tr><td>5</td><td>15/01/14</td><td>UK</td><td>F</td><td>99</td><td>2</td><td>2</td><td>1</td><td> 2</td><td> 1</td><td>노년b</td></tr>\n",
       "</tbody>\n",
       "</table>\n"
      ],
      "text/latex": [
       "A data.frame: 5 × 11\n",
       "\\begin{tabular}{lllllllllll}\n",
       " manager & date & country & gender & age & q1 & q2 & q3 & q4 & q5 & ages\\\\\n",
       " <int> & <chr> & <fct> & <fct> & <dbl> & <dbl> & <dbl> & <dbl> & <dbl> & <dbl> & <chr>\\\\\n",
       "\\hline\n",
       "\t 1 & 10/24/14 & US & M & 32 & 5 & 4 & 5 &  5 &  5 & 중년 \\\\\n",
       "\t 2 & 10/28/14 & US & F & 45 & 3 & 5 & 2 &  5 &  5 & 중년 \\\\\n",
       "\t 3 & 10/01/14 & UK & F & 25 & 3 & 5 & 5 &  5 &  2 & 청년 \\\\\n",
       "\t 4 & 10/12/14 & UK & M & 39 & 3 & 3 & 4 & NA & NA & 중년 \\\\\n",
       "\t 5 & 15/01/14 & UK & F & 99 & 2 & 2 & 1 &  2 &  1 & 노년b\\\\\n",
       "\\end{tabular}\n"
      ],
      "text/markdown": [
       "\n",
       "A data.frame: 5 × 11\n",
       "\n",
       "| manager &lt;int&gt; | date &lt;chr&gt; | country &lt;fct&gt; | gender &lt;fct&gt; | age &lt;dbl&gt; | q1 &lt;dbl&gt; | q2 &lt;dbl&gt; | q3 &lt;dbl&gt; | q4 &lt;dbl&gt; | q5 &lt;dbl&gt; | ages &lt;chr&gt; |\n",
       "|---|---|---|---|---|---|---|---|---|---|---|\n",
       "| 1 | 10/24/14 | US | M | 32 | 5 | 4 | 5 |  5 |  5 | 중년  |\n",
       "| 2 | 10/28/14 | US | F | 45 | 3 | 5 | 2 |  5 |  5 | 중년  |\n",
       "| 3 | 10/01/14 | UK | F | 25 | 3 | 5 | 5 |  5 |  2 | 청년  |\n",
       "| 4 | 10/12/14 | UK | M | 39 | 3 | 3 | 4 | NA | NA | 중년  |\n",
       "| 5 | 15/01/14 | UK | F | 99 | 2 | 2 | 1 |  2 |  1 | 노년b |\n",
       "\n"
      ],
      "text/plain": [
       "  manager date     country gender age q1 q2 q3 q4 q5 ages \n",
       "1 1       10/24/14 US      M      32  5  4  5   5  5 중년 \n",
       "2 2       10/28/14 US      F      45  3  5  2   5  5 중년 \n",
       "3 3       10/01/14 UK      F      25  3  5  5   5  2 청년 \n",
       "4 4       10/12/14 UK      M      39  3  3  4  NA NA 중년 \n",
       "5 5       15/01/14 UK      F      99  2  2  1   2  1 노년b"
      ]
     },
     "metadata": {},
     "output_type": "display_data"
    }
   ],
   "source": [
    "# within 함수 사용시 수정결과는 데이터프레임 변수에 다시 저장해야 함\n",
    "mn <- within(mn, ages[age >= 66] <- '노년b')\n",
    "mn"
   ]
  },
  {
   "cell_type": "code",
   "execution_count": 11,
   "id": "fbf8cf85-7697-4665-9e06-ce9ad3f4a82b",
   "metadata": {},
   "outputs": [
    {
     "data": {
      "text/html": [
       "<table class=\"dataframe\">\n",
       "<caption>A data.frame: 5 × 11</caption>\n",
       "<thead>\n",
       "\t<tr><th scope=col>manager</th><th scope=col>date</th><th scope=col>country</th><th scope=col>gender</th><th scope=col>age</th><th scope=col>q1</th><th scope=col>q2</th><th scope=col>q3</th><th scope=col>q4</th><th scope=col>q5</th><th scope=col>ages</th></tr>\n",
       "\t<tr><th scope=col>&lt;int&gt;</th><th scope=col>&lt;chr&gt;</th><th scope=col>&lt;fct&gt;</th><th scope=col>&lt;fct&gt;</th><th scope=col>&lt;dbl&gt;</th><th scope=col>&lt;dbl&gt;</th><th scope=col>&lt;dbl&gt;</th><th scope=col>&lt;dbl&gt;</th><th scope=col>&lt;dbl&gt;</th><th scope=col>&lt;dbl&gt;</th><th scope=col>&lt;chr&gt;</th></tr>\n",
       "</thead>\n",
       "<tbody>\n",
       "\t<tr><td>1</td><td>10/24/14</td><td>US</td><td>M</td><td>32</td><td>5</td><td>4</td><td>5</td><td> 5</td><td> 5</td><td>중년w</td></tr>\n",
       "\t<tr><td>2</td><td>10/28/14</td><td>US</td><td>F</td><td>45</td><td>3</td><td>5</td><td>2</td><td> 5</td><td> 5</td><td>장년w</td></tr>\n",
       "\t<tr><td>3</td><td>10/01/14</td><td>UK</td><td>F</td><td>25</td><td>3</td><td>5</td><td>5</td><td> 5</td><td> 2</td><td>청년w</td></tr>\n",
       "\t<tr><td>4</td><td>10/12/14</td><td>UK</td><td>M</td><td>39</td><td>3</td><td>3</td><td>4</td><td>NA</td><td>NA</td><td>중년w</td></tr>\n",
       "\t<tr><td>5</td><td>15/01/14</td><td>UK</td><td>F</td><td>99</td><td>2</td><td>2</td><td>1</td><td> 2</td><td> 1</td><td>노년w</td></tr>\n",
       "</tbody>\n",
       "</table>\n"
      ],
      "text/latex": [
       "A data.frame: 5 × 11\n",
       "\\begin{tabular}{lllllllllll}\n",
       " manager & date & country & gender & age & q1 & q2 & q3 & q4 & q5 & ages\\\\\n",
       " <int> & <chr> & <fct> & <fct> & <dbl> & <dbl> & <dbl> & <dbl> & <dbl> & <dbl> & <chr>\\\\\n",
       "\\hline\n",
       "\t 1 & 10/24/14 & US & M & 32 & 5 & 4 & 5 &  5 &  5 & 중년w\\\\\n",
       "\t 2 & 10/28/14 & US & F & 45 & 3 & 5 & 2 &  5 &  5 & 장년w\\\\\n",
       "\t 3 & 10/01/14 & UK & F & 25 & 3 & 5 & 5 &  5 &  2 & 청년w\\\\\n",
       "\t 4 & 10/12/14 & UK & M & 39 & 3 & 3 & 4 & NA & NA & 중년w\\\\\n",
       "\t 5 & 15/01/14 & UK & F & 99 & 2 & 2 & 1 &  2 &  1 & 노년w\\\\\n",
       "\\end{tabular}\n"
      ],
      "text/markdown": [
       "\n",
       "A data.frame: 5 × 11\n",
       "\n",
       "| manager &lt;int&gt; | date &lt;chr&gt; | country &lt;fct&gt; | gender &lt;fct&gt; | age &lt;dbl&gt; | q1 &lt;dbl&gt; | q2 &lt;dbl&gt; | q3 &lt;dbl&gt; | q4 &lt;dbl&gt; | q5 &lt;dbl&gt; | ages &lt;chr&gt; |\n",
       "|---|---|---|---|---|---|---|---|---|---|---|\n",
       "| 1 | 10/24/14 | US | M | 32 | 5 | 4 | 5 |  5 |  5 | 중년w |\n",
       "| 2 | 10/28/14 | US | F | 45 | 3 | 5 | 2 |  5 |  5 | 장년w |\n",
       "| 3 | 10/01/14 | UK | F | 25 | 3 | 5 | 5 |  5 |  2 | 청년w |\n",
       "| 4 | 10/12/14 | UK | M | 39 | 3 | 3 | 4 | NA | NA | 중년w |\n",
       "| 5 | 15/01/14 | UK | F | 99 | 2 | 2 | 1 |  2 |  1 | 노년w |\n",
       "\n"
      ],
      "text/plain": [
       "  manager date     country gender age q1 q2 q3 q4 q5 ages \n",
       "1 1       10/24/14 US      M      32  5  4  5   5  5 중년w\n",
       "2 2       10/28/14 US      F      45  3  5  2   5  5 장년w\n",
       "3 3       10/01/14 UK      F      25  3  5  5   5  2 청년w\n",
       "4 4       10/12/14 UK      M      39  3  3  4  NA NA 중년w\n",
       "5 5       15/01/14 UK      F      99  2  2  1   2  1 노년w"
      ]
     },
     "metadata": {},
     "output_type": "display_data"
    }
   ],
   "source": [
    "# within 함수로 좀 더 간략히 작성\n",
    "mn <- within(mn, {\n",
    "    ages[age <= 30] <- '청년w'\n",
    "    ages[age >= 31] <- '중년w'\n",
    "    ages[age >= 45] <- '장년w'\n",
    "    ages[age >= 66] <- '노년w'\n",
    "})\n",
    "mn"
   ]
  },
  {
   "cell_type": "code",
   "execution_count": 12,
   "id": "3c2f1b96-0ead-437a-a714-51e86d0bfdb2",
   "metadata": {},
   "outputs": [],
   "source": [
    "# 설문문항(q1~q5) 컬럼의 총합과 평균을 구해서\n",
    "# sumq, meanq라는 컬럼을 생성"
   ]
  },
  {
   "cell_type": "code",
   "execution_count": 13,
   "id": "ce69f13e-6988-4c64-be6b-48ba94026b9b",
   "metadata": {},
   "outputs": [
    {
     "data": {
      "text/html": [
       "<table class=\"dataframe\">\n",
       "<caption>A data.frame: 5 × 12</caption>\n",
       "<thead>\n",
       "\t<tr><th scope=col>manager</th><th scope=col>date</th><th scope=col>country</th><th scope=col>gender</th><th scope=col>age</th><th scope=col>q1</th><th scope=col>q2</th><th scope=col>q3</th><th scope=col>q4</th><th scope=col>q5</th><th scope=col>ages</th><th scope=col>sumq</th></tr>\n",
       "\t<tr><th scope=col>&lt;int&gt;</th><th scope=col>&lt;chr&gt;</th><th scope=col>&lt;fct&gt;</th><th scope=col>&lt;fct&gt;</th><th scope=col>&lt;dbl&gt;</th><th scope=col>&lt;dbl&gt;</th><th scope=col>&lt;dbl&gt;</th><th scope=col>&lt;dbl&gt;</th><th scope=col>&lt;dbl&gt;</th><th scope=col>&lt;dbl&gt;</th><th scope=col>&lt;chr&gt;</th><th scope=col>&lt;dbl&gt;</th></tr>\n",
       "</thead>\n",
       "<tbody>\n",
       "\t<tr><td>1</td><td>10/24/14</td><td>US</td><td>M</td><td>32</td><td>5</td><td>4</td><td>5</td><td> 5</td><td> 5</td><td>중년w</td><td>24</td></tr>\n",
       "\t<tr><td>2</td><td>10/28/14</td><td>US</td><td>F</td><td>45</td><td>3</td><td>5</td><td>2</td><td> 5</td><td> 5</td><td>장년w</td><td>20</td></tr>\n",
       "\t<tr><td>3</td><td>10/01/14</td><td>UK</td><td>F</td><td>25</td><td>3</td><td>5</td><td>5</td><td> 5</td><td> 2</td><td>청년w</td><td>20</td></tr>\n",
       "\t<tr><td>4</td><td>10/12/14</td><td>UK</td><td>M</td><td>39</td><td>3</td><td>3</td><td>4</td><td>NA</td><td>NA</td><td>중년w</td><td>NA</td></tr>\n",
       "\t<tr><td>5</td><td>15/01/14</td><td>UK</td><td>F</td><td>99</td><td>2</td><td>2</td><td>1</td><td> 2</td><td> 1</td><td>노년w</td><td> 8</td></tr>\n",
       "</tbody>\n",
       "</table>\n"
      ],
      "text/latex": [
       "A data.frame: 5 × 12\n",
       "\\begin{tabular}{llllllllllll}\n",
       " manager & date & country & gender & age & q1 & q2 & q3 & q4 & q5 & ages & sumq\\\\\n",
       " <int> & <chr> & <fct> & <fct> & <dbl> & <dbl> & <dbl> & <dbl> & <dbl> & <dbl> & <chr> & <dbl>\\\\\n",
       "\\hline\n",
       "\t 1 & 10/24/14 & US & M & 32 & 5 & 4 & 5 &  5 &  5 & 중년w & 24\\\\\n",
       "\t 2 & 10/28/14 & US & F & 45 & 3 & 5 & 2 &  5 &  5 & 장년w & 20\\\\\n",
       "\t 3 & 10/01/14 & UK & F & 25 & 3 & 5 & 5 &  5 &  2 & 청년w & 20\\\\\n",
       "\t 4 & 10/12/14 & UK & M & 39 & 3 & 3 & 4 & NA & NA & 중년w & NA\\\\\n",
       "\t 5 & 15/01/14 & UK & F & 99 & 2 & 2 & 1 &  2 &  1 & 노년w &  8\\\\\n",
       "\\end{tabular}\n"
      ],
      "text/markdown": [
       "\n",
       "A data.frame: 5 × 12\n",
       "\n",
       "| manager &lt;int&gt; | date &lt;chr&gt; | country &lt;fct&gt; | gender &lt;fct&gt; | age &lt;dbl&gt; | q1 &lt;dbl&gt; | q2 &lt;dbl&gt; | q3 &lt;dbl&gt; | q4 &lt;dbl&gt; | q5 &lt;dbl&gt; | ages &lt;chr&gt; | sumq &lt;dbl&gt; |\n",
       "|---|---|---|---|---|---|---|---|---|---|---|---|\n",
       "| 1 | 10/24/14 | US | M | 32 | 5 | 4 | 5 |  5 |  5 | 중년w | 24 |\n",
       "| 2 | 10/28/14 | US | F | 45 | 3 | 5 | 2 |  5 |  5 | 장년w | 20 |\n",
       "| 3 | 10/01/14 | UK | F | 25 | 3 | 5 | 5 |  5 |  2 | 청년w | 20 |\n",
       "| 4 | 10/12/14 | UK | M | 39 | 3 | 3 | 4 | NA | NA | 중년w | NA |\n",
       "| 5 | 15/01/14 | UK | F | 99 | 2 | 2 | 1 |  2 |  1 | 노년w |  8 |\n",
       "\n"
      ],
      "text/plain": [
       "  manager date     country gender age q1 q2 q3 q4 q5 ages  sumq\n",
       "1 1       10/24/14 US      M      32  5  4  5   5  5 중년w 24  \n",
       "2 2       10/28/14 US      F      45  3  5  2   5  5 장년w 20  \n",
       "3 3       10/01/14 UK      F      25  3  5  5   5  2 청년w 20  \n",
       "4 4       10/12/14 UK      M      39  3  3  4  NA NA 중년w NA  \n",
       "5 5       15/01/14 UK      F      99  2  2  1   2  1 노년w  8  "
      ]
     },
     "metadata": {},
     "output_type": "display_data"
    }
   ],
   "source": [
    "# mn$sumq <- mn$q1 + mn$q2 + mn$q3 + mn$q4 + mn$q5\n",
    "# mn\n",
    "# 더 간단한 코드로 작성하기 위해 within으로 바꾸기\n",
    "mn <- within(mn, sumq <- q1 + q2 + q3 + q4 + q5)\n",
    "mn"
   ]
  },
  {
   "cell_type": "code",
   "execution_count": 14,
   "id": "4757cf20-5af6-4a01-bc14-e801ffad0d79",
   "metadata": {},
   "outputs": [
    {
     "data": {
      "text/html": [
       "<table class=\"dataframe\">\n",
       "<caption>A data.frame: 5 × 13</caption>\n",
       "<thead>\n",
       "\t<tr><th scope=col>manager</th><th scope=col>date</th><th scope=col>country</th><th scope=col>gender</th><th scope=col>age</th><th scope=col>q1</th><th scope=col>q2</th><th scope=col>q3</th><th scope=col>q4</th><th scope=col>q5</th><th scope=col>ages</th><th scope=col>sumq</th><th scope=col>meanq</th></tr>\n",
       "\t<tr><th scope=col>&lt;int&gt;</th><th scope=col>&lt;chr&gt;</th><th scope=col>&lt;fct&gt;</th><th scope=col>&lt;fct&gt;</th><th scope=col>&lt;dbl&gt;</th><th scope=col>&lt;dbl&gt;</th><th scope=col>&lt;dbl&gt;</th><th scope=col>&lt;dbl&gt;</th><th scope=col>&lt;dbl&gt;</th><th scope=col>&lt;dbl&gt;</th><th scope=col>&lt;chr&gt;</th><th scope=col>&lt;dbl&gt;</th><th scope=col>&lt;dbl&gt;</th></tr>\n",
       "</thead>\n",
       "<tbody>\n",
       "\t<tr><td>1</td><td>10/24/14</td><td>US</td><td>M</td><td>32</td><td>5</td><td>4</td><td>5</td><td> 5</td><td> 5</td><td>중년w</td><td>24</td><td>4.8</td></tr>\n",
       "\t<tr><td>2</td><td>10/28/14</td><td>US</td><td>F</td><td>45</td><td>3</td><td>5</td><td>2</td><td> 5</td><td> 5</td><td>장년w</td><td>20</td><td>4.0</td></tr>\n",
       "\t<tr><td>3</td><td>10/01/14</td><td>UK</td><td>F</td><td>25</td><td>3</td><td>5</td><td>5</td><td> 5</td><td> 2</td><td>청년w</td><td>20</td><td>4.0</td></tr>\n",
       "\t<tr><td>4</td><td>10/12/14</td><td>UK</td><td>M</td><td>39</td><td>3</td><td>3</td><td>4</td><td>NA</td><td>NA</td><td>중년w</td><td>NA</td><td> NA</td></tr>\n",
       "\t<tr><td>5</td><td>15/01/14</td><td>UK</td><td>F</td><td>99</td><td>2</td><td>2</td><td>1</td><td> 2</td><td> 1</td><td>노년w</td><td> 8</td><td>1.6</td></tr>\n",
       "</tbody>\n",
       "</table>\n"
      ],
      "text/latex": [
       "A data.frame: 5 × 13\n",
       "\\begin{tabular}{lllllllllllll}\n",
       " manager & date & country & gender & age & q1 & q2 & q3 & q4 & q5 & ages & sumq & meanq\\\\\n",
       " <int> & <chr> & <fct> & <fct> & <dbl> & <dbl> & <dbl> & <dbl> & <dbl> & <dbl> & <chr> & <dbl> & <dbl>\\\\\n",
       "\\hline\n",
       "\t 1 & 10/24/14 & US & M & 32 & 5 & 4 & 5 &  5 &  5 & 중년w & 24 & 4.8\\\\\n",
       "\t 2 & 10/28/14 & US & F & 45 & 3 & 5 & 2 &  5 &  5 & 장년w & 20 & 4.0\\\\\n",
       "\t 3 & 10/01/14 & UK & F & 25 & 3 & 5 & 5 &  5 &  2 & 청년w & 20 & 4.0\\\\\n",
       "\t 4 & 10/12/14 & UK & M & 39 & 3 & 3 & 4 & NA & NA & 중년w & NA &  NA\\\\\n",
       "\t 5 & 15/01/14 & UK & F & 99 & 2 & 2 & 1 &  2 &  1 & 노년w &  8 & 1.6\\\\\n",
       "\\end{tabular}\n"
      ],
      "text/markdown": [
       "\n",
       "A data.frame: 5 × 13\n",
       "\n",
       "| manager &lt;int&gt; | date &lt;chr&gt; | country &lt;fct&gt; | gender &lt;fct&gt; | age &lt;dbl&gt; | q1 &lt;dbl&gt; | q2 &lt;dbl&gt; | q3 &lt;dbl&gt; | q4 &lt;dbl&gt; | q5 &lt;dbl&gt; | ages &lt;chr&gt; | sumq &lt;dbl&gt; | meanq &lt;dbl&gt; |\n",
       "|---|---|---|---|---|---|---|---|---|---|---|---|---|\n",
       "| 1 | 10/24/14 | US | M | 32 | 5 | 4 | 5 |  5 |  5 | 중년w | 24 | 4.8 |\n",
       "| 2 | 10/28/14 | US | F | 45 | 3 | 5 | 2 |  5 |  5 | 장년w | 20 | 4.0 |\n",
       "| 3 | 10/01/14 | UK | F | 25 | 3 | 5 | 5 |  5 |  2 | 청년w | 20 | 4.0 |\n",
       "| 4 | 10/12/14 | UK | M | 39 | 3 | 3 | 4 | NA | NA | 중년w | NA |  NA |\n",
       "| 5 | 15/01/14 | UK | F | 99 | 2 | 2 | 1 |  2 |  1 | 노년w |  8 | 1.6 |\n",
       "\n"
      ],
      "text/plain": [
       "  manager date     country gender age q1 q2 q3 q4 q5 ages  sumq meanq\n",
       "1 1       10/24/14 US      M      32  5  4  5   5  5 중년w 24   4.8  \n",
       "2 2       10/28/14 US      F      45  3  5  2   5  5 장년w 20   4.0  \n",
       "3 3       10/01/14 UK      F      25  3  5  5   5  2 청년w 20   4.0  \n",
       "4 4       10/12/14 UK      M      39  3  3  4  NA NA 중년w NA    NA  \n",
       "5 5       15/01/14 UK      F      99  2  2  1   2  1 노년w  8   1.6  "
      ]
     },
     "metadata": {},
     "output_type": "display_data"
    }
   ],
   "source": [
    "# mn$meanq <- mn$sumq / 5\n",
    "# within문\n",
    "mn <- within(mn, meanq <- sumq / 5)\n",
    "mn"
   ]
  },
  {
   "cell_type": "markdown",
   "id": "124334f0-0d7d-45e5-bd2d-3877da5f61ca",
   "metadata": {},
   "source": [
    "### 데이터프레임 저장하기\n",
    "* save(객체명, 파일명)\n",
    "* load(파일명)\n",
    "* 단, 저장시 확장자는 rdata로 지정"
   ]
  },
  {
   "cell_type": "code",
   "execution_count": 15,
   "id": "8a1f4cc4-3ab3-4502-a8e9-a65919ac636b",
   "metadata": {},
   "outputs": [],
   "source": [
    "save(mn, file='./data/managers.rdata')"
   ]
  },
  {
   "cell_type": "code",
   "execution_count": 16,
   "id": "43426d4b-0a57-427a-bc01-ee64d4bb16b2",
   "metadata": {},
   "outputs": [
    {
     "data": {
      "text/html": [
       "''"
      ],
      "text/latex": [
       "''"
      ],
      "text/markdown": [
       "''"
      ],
      "text/plain": [
       "[1] \"\""
      ]
     },
     "metadata": {},
     "output_type": "display_data"
    }
   ],
   "source": [
    "mn <- ''\n",
    "mn"
   ]
  },
  {
   "cell_type": "code",
   "execution_count": 17,
   "id": "cfe3072a-f1a8-4a01-a606-b563612abd7c",
   "metadata": {},
   "outputs": [
    {
     "data": {
      "text/html": [
       "<table class=\"dataframe\">\n",
       "<caption>A data.frame: 5 × 13</caption>\n",
       "<thead>\n",
       "\t<tr><th scope=col>manager</th><th scope=col>date</th><th scope=col>country</th><th scope=col>gender</th><th scope=col>age</th><th scope=col>q1</th><th scope=col>q2</th><th scope=col>q3</th><th scope=col>q4</th><th scope=col>q5</th><th scope=col>ages</th><th scope=col>sumq</th><th scope=col>meanq</th></tr>\n",
       "\t<tr><th scope=col>&lt;int&gt;</th><th scope=col>&lt;chr&gt;</th><th scope=col>&lt;fct&gt;</th><th scope=col>&lt;fct&gt;</th><th scope=col>&lt;dbl&gt;</th><th scope=col>&lt;dbl&gt;</th><th scope=col>&lt;dbl&gt;</th><th scope=col>&lt;dbl&gt;</th><th scope=col>&lt;dbl&gt;</th><th scope=col>&lt;dbl&gt;</th><th scope=col>&lt;chr&gt;</th><th scope=col>&lt;dbl&gt;</th><th scope=col>&lt;dbl&gt;</th></tr>\n",
       "</thead>\n",
       "<tbody>\n",
       "\t<tr><td>1</td><td>10/24/14</td><td>US</td><td>M</td><td>32</td><td>5</td><td>4</td><td>5</td><td> 5</td><td> 5</td><td>중년w</td><td>24</td><td>4.8</td></tr>\n",
       "\t<tr><td>2</td><td>10/28/14</td><td>US</td><td>F</td><td>45</td><td>3</td><td>5</td><td>2</td><td> 5</td><td> 5</td><td>장년w</td><td>20</td><td>4.0</td></tr>\n",
       "\t<tr><td>3</td><td>10/01/14</td><td>UK</td><td>F</td><td>25</td><td>3</td><td>5</td><td>5</td><td> 5</td><td> 2</td><td>청년w</td><td>20</td><td>4.0</td></tr>\n",
       "\t<tr><td>4</td><td>10/12/14</td><td>UK</td><td>M</td><td>39</td><td>3</td><td>3</td><td>4</td><td>NA</td><td>NA</td><td>중년w</td><td>NA</td><td> NA</td></tr>\n",
       "\t<tr><td>5</td><td>15/01/14</td><td>UK</td><td>F</td><td>99</td><td>2</td><td>2</td><td>1</td><td> 2</td><td> 1</td><td>노년w</td><td> 8</td><td>1.6</td></tr>\n",
       "</tbody>\n",
       "</table>\n"
      ],
      "text/latex": [
       "A data.frame: 5 × 13\n",
       "\\begin{tabular}{lllllllllllll}\n",
       " manager & date & country & gender & age & q1 & q2 & q3 & q4 & q5 & ages & sumq & meanq\\\\\n",
       " <int> & <chr> & <fct> & <fct> & <dbl> & <dbl> & <dbl> & <dbl> & <dbl> & <dbl> & <chr> & <dbl> & <dbl>\\\\\n",
       "\\hline\n",
       "\t 1 & 10/24/14 & US & M & 32 & 5 & 4 & 5 &  5 &  5 & 중년w & 24 & 4.8\\\\\n",
       "\t 2 & 10/28/14 & US & F & 45 & 3 & 5 & 2 &  5 &  5 & 장년w & 20 & 4.0\\\\\n",
       "\t 3 & 10/01/14 & UK & F & 25 & 3 & 5 & 5 &  5 &  2 & 청년w & 20 & 4.0\\\\\n",
       "\t 4 & 10/12/14 & UK & M & 39 & 3 & 3 & 4 & NA & NA & 중년w & NA &  NA\\\\\n",
       "\t 5 & 15/01/14 & UK & F & 99 & 2 & 2 & 1 &  2 &  1 & 노년w &  8 & 1.6\\\\\n",
       "\\end{tabular}\n"
      ],
      "text/markdown": [
       "\n",
       "A data.frame: 5 × 13\n",
       "\n",
       "| manager &lt;int&gt; | date &lt;chr&gt; | country &lt;fct&gt; | gender &lt;fct&gt; | age &lt;dbl&gt; | q1 &lt;dbl&gt; | q2 &lt;dbl&gt; | q3 &lt;dbl&gt; | q4 &lt;dbl&gt; | q5 &lt;dbl&gt; | ages &lt;chr&gt; | sumq &lt;dbl&gt; | meanq &lt;dbl&gt; |\n",
       "|---|---|---|---|---|---|---|---|---|---|---|---|---|\n",
       "| 1 | 10/24/14 | US | M | 32 | 5 | 4 | 5 |  5 |  5 | 중년w | 24 | 4.8 |\n",
       "| 2 | 10/28/14 | US | F | 45 | 3 | 5 | 2 |  5 |  5 | 장년w | 20 | 4.0 |\n",
       "| 3 | 10/01/14 | UK | F | 25 | 3 | 5 | 5 |  5 |  2 | 청년w | 20 | 4.0 |\n",
       "| 4 | 10/12/14 | UK | M | 39 | 3 | 3 | 4 | NA | NA | 중년w | NA |  NA |\n",
       "| 5 | 15/01/14 | UK | F | 99 | 2 | 2 | 1 |  2 |  1 | 노년w |  8 | 1.6 |\n",
       "\n"
      ],
      "text/plain": [
       "  manager date     country gender age q1 q2 q3 q4 q5 ages  sumq meanq\n",
       "1 1       10/24/14 US      M      32  5  4  5   5  5 중년w 24   4.8  \n",
       "2 2       10/28/14 US      F      45  3  5  2   5  5 장년w 20   4.0  \n",
       "3 3       10/01/14 UK      F      25  3  5  5   5  2 청년w 20   4.0  \n",
       "4 4       10/12/14 UK      M      39  3  3  4  NA NA 중년w NA    NA  \n",
       "5 5       15/01/14 UK      F      99  2  2  1   2  1 노년w  8   1.6  "
      ]
     },
     "metadata": {},
     "output_type": "display_data"
    }
   ],
   "source": [
    "load('./data/managers.rdata')\n",
    "mn"
   ]
  },
  {
   "cell_type": "code",
   "execution_count": null,
   "id": "078d64ff-09be-43ed-b971-149d835b8915",
   "metadata": {},
   "outputs": [],
   "source": []
  }
 ],
 "metadata": {
  "kernelspec": {
   "display_name": "R",
   "language": "R",
   "name": "ir"
  },
  "language_info": {
   "codemirror_mode": "r",
   "file_extension": ".r",
   "mimetype": "text/x-r-source",
   "name": "R",
   "pygments_lexer": "r",
   "version": "4.3.1"
  }
 },
 "nbformat": 4,
 "nbformat_minor": 5
}
